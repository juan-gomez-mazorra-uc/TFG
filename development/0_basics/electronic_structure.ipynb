{
 "cells": [
  {
   "cell_type": "markdown",
   "metadata": {},
   "source": [
    "### Electronic structure"
   ]
  },
  {
   "cell_type": "markdown",
   "metadata": {},
   "source": [
    "https://qiskit-community.github.io/qiskit-nature/tutorials/01_electronic_structure.html"
   ]
  },
  {
   "cell_type": "markdown",
   "metadata": {},
   "source": [
    "In the following we set up a PySCF driver, for the hydrogen molecule at equilibrium bond length (0.735 angstrom) in the singlet state and with no charge.\n",
    "\n",
    "Running this driver, will yield an ElectronicStructureProblem, Qiskit Nature’s representation of the electronic structure problem which we are interested in solving. "
   ]
  },
  {
   "cell_type": "code",
   "execution_count": 9,
   "metadata": {},
   "outputs": [],
   "source": [
    "from qiskit_nature.units import DistanceUnit\n",
    "from qiskit_nature.second_q.drivers import PySCFDriver\n",
    "\n",
    "driver = PySCFDriver(\n",
    "    atom=\"H 0 0 0\",\n",
    "    basis=\"sto3g\",\n",
    "    charge=0,\n",
    "    spin=1,\n",
    "    unit=DistanceUnit.ANGSTROM,\n",
    ")"
   ]
  },
  {
   "cell_type": "code",
   "execution_count": 11,
   "metadata": {},
   "outputs": [
    {
     "name": "stdout",
     "output_type": "stream",
     "text": [
      "<qiskit_nature.second_q.problems.electronic_structure_problem.ElectronicStructureProblem object at 0x7f741c679f00>\n"
     ]
    }
   ],
   "source": [
    "problem = driver.run()\n",
    "print(problem)"
   ]
  },
  {
   "cell_type": "code",
   "execution_count": 12,
   "metadata": {},
   "outputs": [
    {
     "name": "stdout",
     "output_type": "stream",
     "text": [
      "Polynomial Tensor\n",
      " \"+-\":\n",
      "array([[-0.46658185]])\n",
      " \"++--\":\n",
      "array([0.77460594])\n"
     ]
    }
   ],
   "source": [
    "hamiltonian = problem.hamiltonian\n",
    "\n",
    "coefficients = hamiltonian.electronic_integrals\n",
    "print(coefficients.alpha)"
   ]
  },
  {
   "cell_type": "code",
   "execution_count": 13,
   "metadata": {},
   "outputs": [
    {
     "name": "stdout",
     "output_type": "stream",
     "text": [
      "Fermionic Operator\n",
      "number spin orbitals=2, number terms=6\n",
      "  0.3873029719599489 * ( +_0 +_0 -_0 -_0 )\n",
      "+ 0.3873029719599489 * ( +_0 +_1 -_1 -_0 )\n",
      "+ 0.3873029719599489 * ( +_1 +_0 -_0 -_1 )\n",
      "+ 0.3873029719599489 * ( +_1 +_1 -_1 -_1 )\n",
      "+ -0.46658184955727533 * ( +_0 -_0 )\n",
      "+ -0.46658184955727533 * ( +_1 -_1 )\n"
     ]
    }
   ],
   "source": [
    "second_q_op = hamiltonian.second_q_op()\n",
    "print(second_q_op)"
   ]
  },
  {
   "cell_type": "code",
   "execution_count": 21,
   "metadata": {},
   "outputs": [
    {
     "name": "stdout",
     "output_type": "stream",
     "text": [
      "Polynomial Tensor\n",
      " \n"
     ]
    }
   ],
   "source": [
    "print(coefficients.beta)"
   ]
  },
  {
   "cell_type": "code",
   "execution_count": 20,
   "metadata": {},
   "outputs": [
    {
     "name": "stdout",
     "output_type": "stream",
     "text": [
      "Fermionic Operator\n",
      "number spin orbitals=4, number terms=36\n",
      "  0.33785507740175813 * ( +_0 +_0 -_0 -_0 )\n",
      "+ 0.33229086512764816 * ( +_0 +_1 -_1 -_0 )\n",
      "+ 0.33785507740175813 * ( +_0 +_2 -_2 -_0 )\n",
      "+ 0.33229086512764816 * ( +_0 +_3 -_3 -_0 )\n",
      "+ 0.0904655998921157 * ( +_0 +_0 -_1 -_1 )\n",
      "+ 0.0904655998921157 * ( +_0 +_1 -_0 -_1 )\n",
      "+ 0.0904655998921157 * ( +_0 +_2 -_3 -_1 )\n",
      "+ 0.0904655998921157 * ( +_0 +_3 -_2 -_1 )\n",
      "+ 0.0904655998921157 * ( +_1 +_0 -_1 -_0 )\n",
      "+ 0.0904655998921157 * ( +_1 +_1 -_0 -_0 )\n",
      "+ 0.0904655998921157 * ( +_1 +_2 -_3 -_0 )\n",
      "+ 0.0904655998921157 * ( +_1 +_3 -_2 -_0 )\n",
      "+ 0.33229086512764816 * ( +_1 +_0 -_0 -_1 )\n",
      "+ 0.34928686136600906 * ( +_1 +_1 -_1 -_1 )\n",
      "+ 0.33229086512764816 * ( +_1 +_2 -_2 -_1 )\n",
      "+ 0.34928686136600906 * ( +_1 +_3 -_3 -_1 )\n",
      "+ 0.33785507740175813 * ( +_2 +_0 -_0 -_2 )\n",
      "+ 0.33229086512764816 * ( +_2 +_1 -_1 -_2 )\n",
      "+ 0.33785507740175813 * ( +_2 +_2 -_2 -_2 )\n",
      "+ 0.33229086512764816 * ( +_2 +_3 -_3 -_2 )\n",
      "+ 0.0904655998921157 * ( +_2 +_0 -_1 -_3 )\n",
      "+ 0.0904655998921157 * ( +_2 +_1 -_0 -_3 )\n",
      "+ 0.0904655998921157 * ( +_2 +_2 -_3 -_3 )\n",
      "+ 0.0904655998921157 * ( +_2 +_3 -_2 -_3 )\n",
      "+ 0.0904655998921157 * ( +_3 +_0 -_1 -_2 )\n",
      "+ 0.0904655998921157 * ( +_3 +_1 -_0 -_2 )\n",
      "+ 0.0904655998921157 * ( +_3 +_2 -_3 -_2 )\n",
      "+ 0.0904655998921157 * ( +_3 +_3 -_2 -_2 )\n",
      "+ 0.33229086512764816 * ( +_3 +_0 -_0 -_3 )\n",
      "+ 0.34928686136600906 * ( +_3 +_1 -_1 -_3 )\n",
      "+ 0.33229086512764816 * ( +_3 +_2 -_2 -_3 )\n",
      "+ 0.34928686136600906 * ( +_3 +_3 -_3 -_3 )\n",
      "+ -1.25633907300325 * ( +_0 -_0 )\n",
      "+ -0.47189600728114184 * ( +_1 -_1 )\n",
      "+ -1.25633907300325 * ( +_2 -_2 )\n",
      "+ -0.47189600728114184 * ( +_3 -_3 )\n"
     ]
    }
   ],
   "source": [
    "second_q_op = hamiltonian.second_q_op()\n",
    "print(second_q_op)"
   ]
  },
  {
   "cell_type": "code",
   "execution_count": 4,
   "metadata": {},
   "outputs": [
    {
     "data": {
      "text/plain": [
       "0.7199689944489797"
      ]
     },
     "execution_count": 4,
     "metadata": {},
     "output_type": "execute_result"
    }
   ],
   "source": [
    "hamiltonian.nuclear_repulsion_energy  # NOT included in the second_q_op above"
   ]
  },
  {
   "cell_type": "code",
   "execution_count": 5,
   "metadata": {},
   "outputs": [
    {
     "data": {
      "text/plain": [
       "MoleculeInfo(symbols=['H', 'H'], coords=[(0.0, 0.0, 0.0), (0.0, 0.0, 1.3889487015553204)], multiplicity=1, charge=0, units=<DistanceUnit.BOHR: 'Bohr'>, masses=[1, 1])"
      ]
     },
     "execution_count": 5,
     "metadata": {},
     "output_type": "execute_result"
    }
   ],
   "source": [
    "problem.molecule"
   ]
  },
  {
   "cell_type": "markdown",
   "metadata": {},
   "source": [
    "### Solving the ElectronicStructureProblem"
   ]
  },
  {
   "cell_type": "code",
   "execution_count": 23,
   "metadata": {},
   "outputs": [],
   "source": [
    "from qiskit_algorithms import NumPyMinimumEigensolver\n",
    "from qiskit_nature.second_q.algorithms import GroundStateEigensolver\n",
    "from qiskit_nature.second_q.mappers import JordanWignerMapper\n",
    "\n",
    "solver = GroundStateEigensolver(\n",
    "    JordanWignerMapper(),\n",
    "    NumPyMinimumEigensolver(),\n",
    ")"
   ]
  },
  {
   "cell_type": "code",
   "execution_count": 24,
   "metadata": {},
   "outputs": [
    {
     "name": "stdout",
     "output_type": "stream",
     "text": [
      "=== GROUND STATE ENERGY ===\n",
      " \n",
      "* Electronic ground state energy (Hartree): -1.857275030202\n",
      "  - computed part:      -1.857275030202\n",
      "~ Nuclear repulsion energy (Hartree): 0.719968994449\n",
      "> Total ground state energy (Hartree): -1.137306035753\n",
      " \n",
      "=== MEASURED OBSERVABLES ===\n",
      " \n",
      "  0:  # Particles: 2.000 S: 0.000 S^2: 0.000 M: 0.000\n",
      " \n",
      "=== DIPOLE MOMENTS ===\n",
      " \n",
      "~ Nuclear dipole moment (a.u.): [0.0  0.0  1.3889487]\n",
      " \n",
      "  0: \n",
      "  * Electronic dipole moment (a.u.): [0.0  0.0  1.388948701555]\n",
      "    - computed part:      [0.0  0.0  1.388948701555]\n",
      "  > Dipole moment (a.u.): [0.0  0.0  -0.000000001555]  Total: 0.000000001555\n",
      "                 (debye): [0.0  0.0  -0.000000003953]  Total: 0.000000003953\n",
      " \n"
     ]
    }
   ],
   "source": [
    "result = solver.solve(problem)\n",
    "print(result)"
   ]
  }
 ],
 "metadata": {
  "kernelspec": {
   "display_name": "TFG",
   "language": "python",
   "name": "python3"
  },
  "language_info": {
   "codemirror_mode": {
    "name": "ipython",
    "version": 3
   },
   "file_extension": ".py",
   "mimetype": "text/x-python",
   "name": "python",
   "nbconvert_exporter": "python",
   "pygments_lexer": "ipython3",
   "version": "3.10.12"
  }
 },
 "nbformat": 4,
 "nbformat_minor": 2
}

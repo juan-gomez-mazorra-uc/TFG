{
 "cells": [
  {
   "cell_type": "markdown",
   "metadata": {},
   "source": [
    "### 2 electrons in a 1D infinites square well potential"
   ]
  },
  {
   "cell_type": "code",
   "execution_count": 1,
   "metadata": {},
   "outputs": [],
   "source": [
    "import os\n",
    "import csv\n",
    "import sympy as sp\n",
    "import numpy as np\n",
    "import matplotlib.pyplot as plt\n",
    "from qiskit_algorithms import VQE\n",
    "from qiskit_algorithms.utils import algorithm_globals\n",
    "from qiskit_algorithms.optimizers import COBYLA, SLSQP, SPSA\n",
    "from qiskit_nature.second_q.mappers import JordanWignerMapper\n",
    "from qiskit_aer.primitives import Estimator as AerEstimator\n",
    "from qiskit_nature.second_q.hamiltonians import ElectronicEnergy\n",
    "from qiskit_nature.second_q.circuit.library import HartreeFock, UCCSD"
   ]
  },
  {
   "cell_type": "code",
   "execution_count": 2,
   "metadata": {},
   "outputs": [],
   "source": [
    "optimizer = COBYLA\n",
    "optimizer_str = 'COBYLA'\n",
    "L = 1"
   ]
  },
  {
   "cell_type": "markdown",
   "metadata": {},
   "source": [
    "##### Functions"
   ]
  },
  {
   "cell_type": "code",
   "execution_count": 3,
   "metadata": {},
   "outputs": [],
   "source": [
    "x = sp.Symbol('x')\n",
    "x_1 = sp.Symbol('x_1')\n",
    "x_2 = sp.Symbol('x_2')"
   ]
  },
  {
   "cell_type": "markdown",
   "metadata": {},
   "source": [
    "https://phys.libretexts.org/Bookshelves/Modern_Physics/Book%3A_Spiral_Modern_Physics_(D'Alessandris)/6%3A_The_Schrodinger_Equation/6.2%3A_Solving_the_1D_Infinite_Square_Well"
   ]
  },
  {
   "cell_type": "code",
   "execution_count": 4,
   "metadata": {},
   "outputs": [],
   "source": [
    "def well_wavefunction(n, L, x = sp.Symbol('x')):\n",
    "    \"\"\"\n",
    "    Calcula la función de onda para un estado dado (n) en un pozo de potencial infinito.\n",
    "    \n",
    "    Parámetros:\n",
    "        n (int): Estado cuántico del electrón.\n",
    "    \n",
    "    Retorna:\n",
    "        La función de onda.\n",
    "    \"\"\"\n",
    "    \n",
    "    # Factor de normalización\n",
    "    normalization_factor = sp.sqrt(2/L)\n",
    "    \n",
    "    # Función de onda radial\n",
    "    well_wavefunction = normalization_factor * sp.sin(n*sp.pi*x/L)\n",
    "    \n",
    "    return well_wavefunction"
   ]
  },
  {
   "cell_type": "markdown",
   "metadata": {},
   "source": [
    "https://qiskit-community.github.io/qiskit-nature/stubs/qiskit_nature.second_q.hamiltonians.ElectronicEnergy.html"
   ]
  },
  {
   "cell_type": "code",
   "execution_count": 5,
   "metadata": {},
   "outputs": [],
   "source": [
    "def hamiltonian_interaction(L, N = 3):\n",
    "    h_pq = []\n",
    "\n",
    "    for i in range(1, N+1):\n",
    "        h_pq.append([])\n",
    "        for j in range(1, N+1):\n",
    "            globals()[f'h_{i}{j}'] = -1/2 * sp.integrate(globals()[f'phi_{i}']*globals()[f'dd_phi_{j}'], (x, 0, L))\n",
    "            h_pq[i-1].append(globals()[f'h_{i}{j}'])\n",
    "\n",
    "    size = len(h_pq)\n",
    "    h1_a = np.array(h_pq, dtype=float)\n",
    "    \n",
    "    h_ijkl = np.zeros((size, size, size, size))\n",
    "\n",
    "    for i in range(N):\n",
    "        for j in range(N):\n",
    "            for k in range(N):\n",
    "                for l in range(N):\n",
    "                    globals()[f'h_{i}{j}{k}{l}'] = globals()[f'phi_{i+1}_1']*globals()[f'phi_{j+1}_2']*\\\n",
    "                                                   globals()[f'phi_{k+1}_2']*globals()[f'phi_{l+1}_1']/\\\n",
    "                                                   sp.Abs(x_1-x_2)\n",
    "\n",
    "                    h_ijkl[i][j][k][l] = sp.integrate(globals()[f'h_{i}{j}{k}{l}'], (x_1, 0, L), (x_2, 0, L))\n",
    "\n",
    "    h2_aa = np.array(h_ijkl, dtype=float)\n",
    "\n",
    "    hamiltonian = ElectronicEnergy.from_raw_integrals(h1_a, h2_aa)\n",
    "\n",
    "    return hamiltonian\n",
    "\n",
    "\n",
    "def hamiltonian_no_interaction(L, N = 3):\n",
    "    h_pq = []\n",
    "\n",
    "    for i in range(1, N+1):\n",
    "        h_pq.append([])\n",
    "        for j in range(1, N+1):\n",
    "            globals()[f'h_{i}{j}'] = -1/2 * sp.integrate(globals()[f'phi_{i}']*globals()[f'dd_phi_{j}'], (x, 0, L))\n",
    "            h_pq[i-1].append(globals()[f'h_{i}{j}'])\n",
    "\n",
    "    size = len(h_pq)\n",
    "    h1_a = np.array(h_pq, dtype=float)\n",
    "    \n",
    "    h_ijkl = np.zeros((size, size, size, size))\n",
    "    h2_aa = np.array(h_ijkl, dtype=float)\n",
    "\n",
    "    hamiltonian = ElectronicEnergy.from_raw_integrals(h1_a, h2_aa)\n",
    "\n",
    "    return hamiltonian"
   ]
  },
  {
   "cell_type": "code",
   "execution_count": 6,
   "metadata": {},
   "outputs": [],
   "source": [
    "def save_csv(folder, name, data):\n",
    "    energies = data[0]\n",
    "\n",
    "    if not os.path.exists(folder):\n",
    "        os.makedirs(folder)\n",
    "\n",
    "    nombre_archivo = f'{name}.csv'\n",
    "    ruta_archivo = os.path.join(folder, nombre_archivo)\n",
    "\n",
    "    with open(ruta_archivo, mode='w', newline='') as archivo_csv:\n",
    "        escritor_csv = csv.writer(archivo_csv)\n",
    "        escritor_csv.writerow(['energy'])\n",
    "        for x in energies:\n",
    "            escritor_csv.writerow([x])"
   ]
  },
  {
   "cell_type": "markdown",
   "metadata": {},
   "source": [
    "##### Wavefunction Solutions"
   ]
  },
  {
   "cell_type": "code",
   "execution_count": 7,
   "metadata": {},
   "outputs": [],
   "source": [
    "n_max = 8\n",
    "\n",
    "for n in range(1, n_max+1):\n",
    "    for l in range(n):\n",
    "        globals()[f'phi_{n}'] = well_wavefunction(n, L)\n",
    "        globals()[f'dd_phi_{n}'] = sp.diff(globals()[f'phi_{n}'], x, x)"
   ]
  },
  {
   "cell_type": "code",
   "execution_count": 8,
   "metadata": {},
   "outputs": [],
   "source": [
    "n_max = 8\n",
    "\n",
    "for n in range(1, n_max+1):\n",
    "    for l in range(n):\n",
    "        globals()[f'phi_{n}_1'] = well_wavefunction(n, L, sp.Symbol('x_1'))\n",
    "        globals()[f'phi_{n}_2'] = well_wavefunction(n, L, sp.Symbol('x_2'))"
   ]
  },
  {
   "cell_type": "markdown",
   "metadata": {},
   "source": [
    "##### Hamiltonian"
   ]
  },
  {
   "cell_type": "markdown",
   "metadata": {},
   "source": [
    "No interaction"
   ]
  },
  {
   "cell_type": "code",
   "execution_count": 9,
   "metadata": {},
   "outputs": [
    {
     "name": "stdout",
     "output_type": "stream",
     "text": [
      "Polynomial Tensor\n",
      " \"+-\":\n",
      "array([[ 4.9348022,  0.       ],\n",
      "       [ 0.       , 19.7392088]])\n",
      " \"++--\":\n",
      "array([[[[0., 0.],\n",
      "         [0., 0.]],\n",
      "\n",
      "        [[0., 0.],\n",
      "         [0., 0.]]],\n",
      "\n",
      "\n",
      "       [[[0., 0.],\n",
      "         [0., 0.]],\n",
      "\n",
      "        [[0., 0.],\n",
      "         [0., 0.]]]])\n"
     ]
    }
   ],
   "source": [
    "hamiltonian_no_interaction = hamiltonian_no_interaction(L, 2)\n",
    "print(hamiltonian_no_interaction.electronic_integrals.alpha)"
   ]
  },
  {
   "cell_type": "markdown",
   "metadata": {},
   "source": [
    "Interaction"
   ]
  },
  {
   "cell_type": "code",
   "execution_count": 10,
   "metadata": {},
   "outputs": [
    {
     "ename": "TypeError",
     "evalue": "Cannot convert complex to float",
     "output_type": "error",
     "traceback": [
      "\u001b[0;31m---------------------------------------------------------------------------\u001b[0m",
      "\u001b[0;31mTypeError\u001b[0m                                 Traceback (most recent call last)",
      "Cell \u001b[0;32mIn[10], line 1\u001b[0m\n\u001b[0;32m----> 1\u001b[0m hamiltonian_interaction \u001b[38;5;241m=\u001b[39m \u001b[43mhamiltonian_interaction\u001b[49m\u001b[43m(\u001b[49m\u001b[43mL\u001b[49m\u001b[43m,\u001b[49m\u001b[43m \u001b[49m\u001b[38;5;241;43m2\u001b[39;49m\u001b[43m)\u001b[49m\n\u001b[1;32m      2\u001b[0m \u001b[38;5;28mprint\u001b[39m(hamiltonian_interaction\u001b[38;5;241m.\u001b[39melectronic_integrals\u001b[38;5;241m.\u001b[39malpha)\n",
      "Cell \u001b[0;32mIn[5], line 23\u001b[0m, in \u001b[0;36mhamiltonian_interaction\u001b[0;34m(L, N)\u001b[0m\n\u001b[1;32m     18\u001b[0m             \u001b[38;5;28;01mfor\u001b[39;00m l \u001b[38;5;129;01min\u001b[39;00m \u001b[38;5;28mrange\u001b[39m(N):\n\u001b[1;32m     19\u001b[0m                 \u001b[38;5;28mglobals\u001b[39m()[\u001b[38;5;124mf\u001b[39m\u001b[38;5;124m'\u001b[39m\u001b[38;5;124mh_\u001b[39m\u001b[38;5;132;01m{\u001b[39;00mi\u001b[38;5;132;01m}\u001b[39;00m\u001b[38;5;132;01m{\u001b[39;00mj\u001b[38;5;132;01m}\u001b[39;00m\u001b[38;5;132;01m{\u001b[39;00mk\u001b[38;5;132;01m}\u001b[39;00m\u001b[38;5;132;01m{\u001b[39;00ml\u001b[38;5;132;01m}\u001b[39;00m\u001b[38;5;124m'\u001b[39m] \u001b[38;5;241m=\u001b[39m \u001b[38;5;28mglobals\u001b[39m()[\u001b[38;5;124mf\u001b[39m\u001b[38;5;124m'\u001b[39m\u001b[38;5;124mphi_\u001b[39m\u001b[38;5;132;01m{\u001b[39;00mi\u001b[38;5;241m+\u001b[39m\u001b[38;5;241m1\u001b[39m\u001b[38;5;132;01m}\u001b[39;00m\u001b[38;5;124m_1\u001b[39m\u001b[38;5;124m'\u001b[39m]\u001b[38;5;241m*\u001b[39m\u001b[38;5;28mglobals\u001b[39m()[\u001b[38;5;124mf\u001b[39m\u001b[38;5;124m'\u001b[39m\u001b[38;5;124mphi_\u001b[39m\u001b[38;5;132;01m{\u001b[39;00mj\u001b[38;5;241m+\u001b[39m\u001b[38;5;241m1\u001b[39m\u001b[38;5;132;01m}\u001b[39;00m\u001b[38;5;124m_2\u001b[39m\u001b[38;5;124m'\u001b[39m]\u001b[38;5;241m*\u001b[39m\\\n\u001b[1;32m     20\u001b[0m                                                \u001b[38;5;28mglobals\u001b[39m()[\u001b[38;5;124mf\u001b[39m\u001b[38;5;124m'\u001b[39m\u001b[38;5;124mphi_\u001b[39m\u001b[38;5;132;01m{\u001b[39;00mk\u001b[38;5;241m+\u001b[39m\u001b[38;5;241m1\u001b[39m\u001b[38;5;132;01m}\u001b[39;00m\u001b[38;5;124m_2\u001b[39m\u001b[38;5;124m'\u001b[39m]\u001b[38;5;241m*\u001b[39m\u001b[38;5;28mglobals\u001b[39m()[\u001b[38;5;124mf\u001b[39m\u001b[38;5;124m'\u001b[39m\u001b[38;5;124mphi_\u001b[39m\u001b[38;5;132;01m{\u001b[39;00ml\u001b[38;5;241m+\u001b[39m\u001b[38;5;241m1\u001b[39m\u001b[38;5;132;01m}\u001b[39;00m\u001b[38;5;124m_1\u001b[39m\u001b[38;5;124m'\u001b[39m]\u001b[38;5;241m/\u001b[39m\\\n\u001b[1;32m     21\u001b[0m                                                sp\u001b[38;5;241m.\u001b[39mAbs(x_1\u001b[38;5;241m-\u001b[39mx_2)\n\u001b[0;32m---> 23\u001b[0m                 \u001b[43mh_ijkl\u001b[49m\u001b[43m[\u001b[49m\u001b[43mi\u001b[49m\u001b[43m]\u001b[49m\u001b[43m[\u001b[49m\u001b[43mj\u001b[49m\u001b[43m]\u001b[49m\u001b[43m[\u001b[49m\u001b[43mk\u001b[49m\u001b[43m]\u001b[49m\u001b[43m[\u001b[49m\u001b[43ml\u001b[49m\u001b[43m]\u001b[49m \u001b[38;5;241m=\u001b[39m sp\u001b[38;5;241m.\u001b[39mintegrate(\u001b[38;5;28mglobals\u001b[39m()[\u001b[38;5;124mf\u001b[39m\u001b[38;5;124m'\u001b[39m\u001b[38;5;124mh_\u001b[39m\u001b[38;5;132;01m{\u001b[39;00mi\u001b[38;5;132;01m}\u001b[39;00m\u001b[38;5;132;01m{\u001b[39;00mj\u001b[38;5;132;01m}\u001b[39;00m\u001b[38;5;132;01m{\u001b[39;00mk\u001b[38;5;132;01m}\u001b[39;00m\u001b[38;5;132;01m{\u001b[39;00ml\u001b[38;5;132;01m}\u001b[39;00m\u001b[38;5;124m'\u001b[39m], (x_1, \u001b[38;5;241m0\u001b[39m, L), (x_2, \u001b[38;5;241m0\u001b[39m, L))\n\u001b[1;32m     25\u001b[0m h2_aa \u001b[38;5;241m=\u001b[39m np\u001b[38;5;241m.\u001b[39marray(h_ijkl, dtype\u001b[38;5;241m=\u001b[39m\u001b[38;5;28mfloat\u001b[39m)\n\u001b[1;32m     27\u001b[0m hamiltonian \u001b[38;5;241m=\u001b[39m ElectronicEnergy\u001b[38;5;241m.\u001b[39mfrom_raw_integrals(h1_a, h2_aa)\n",
      "File \u001b[0;32m~/TFG/tfg_env/lib/python3.10/site-packages/sympy/core/expr.py:350\u001b[0m, in \u001b[0;36mExpr.__float__\u001b[0;34m(self)\u001b[0m\n\u001b[1;32m    348\u001b[0m     \u001b[38;5;28;01mreturn\u001b[39;00m \u001b[38;5;28mfloat\u001b[39m(result)\n\u001b[1;32m    349\u001b[0m \u001b[38;5;28;01mif\u001b[39;00m result\u001b[38;5;241m.\u001b[39mis_number \u001b[38;5;129;01mand\u001b[39;00m result\u001b[38;5;241m.\u001b[39mas_real_imag()[\u001b[38;5;241m1\u001b[39m]:\n\u001b[0;32m--> 350\u001b[0m     \u001b[38;5;28;01mraise\u001b[39;00m \u001b[38;5;167;01mTypeError\u001b[39;00m(\u001b[38;5;124m\"\u001b[39m\u001b[38;5;124mCannot convert complex to float\u001b[39m\u001b[38;5;124m\"\u001b[39m)\n\u001b[1;32m    351\u001b[0m \u001b[38;5;28;01mraise\u001b[39;00m \u001b[38;5;167;01mTypeError\u001b[39;00m(\u001b[38;5;124m\"\u001b[39m\u001b[38;5;124mCannot convert expression to float\u001b[39m\u001b[38;5;124m\"\u001b[39m)\n",
      "\u001b[0;31mTypeError\u001b[0m: Cannot convert complex to float"
     ]
    }
   ],
   "source": [
    "hamiltonian_interaction = hamiltonian_interaction(L, 2)\n",
    "print(hamiltonian_interaction.electronic_integrals.alpha)"
   ]
  },
  {
   "cell_type": "markdown",
   "metadata": {},
   "source": [
    "##### VQE"
   ]
  },
  {
   "cell_type": "markdown",
   "metadata": {},
   "source": [
    "No interaction"
   ]
  },
  {
   "cell_type": "code",
   "execution_count": 11,
   "metadata": {},
   "outputs": [],
   "source": [
    "shots = [16, 128, 1024, 16384]\n",
    "\n",
    "for shot in shots:\n",
    "    energies = []\n",
    "\n",
    "    hamiltonian = hamiltonian_no_interaction\n",
    "\n",
    "    mapper = JordanWignerMapper()\n",
    "    fermionic_op = hamiltonian.second_q_op()\n",
    "    qubit_op = mapper.map(fermionic_op)\n",
    "\n",
    "    num_spatial_orbitals = int(fermionic_op.num_spin_orbitals/2)\n",
    "    # The tuple of the number of alpha- and beta-spin particles\n",
    "    num_particles = (1, 1)\n",
    "\n",
    "    ansatz = UCCSD(\n",
    "        num_spatial_orbitals,\n",
    "        num_particles,\n",
    "        mapper,\n",
    "        initial_state=HartreeFock(\n",
    "            num_spatial_orbitals,\n",
    "            num_particles,\n",
    "            mapper,\n",
    "        ),\n",
    "    )\n",
    "\n",
    "    # seed = 170\n",
    "    # algorithm_globals.random_seed = seed\n",
    "\n",
    "    noiseless_estimator = AerEstimator(\n",
    "        run_options={\"shots\": shot}\n",
    "    )\n",
    "\n",
    "    vqe_solver = VQE(noiseless_estimator, ansatz, optimizer(maxiter=100))\n",
    "    vqe_solver.initial_point = np.zeros(ansatz.num_parameters)\n",
    "\n",
    "    for i in range(50):\n",
    "        hamiltonian = hamiltonian_no_interaction\n",
    "\n",
    "        mapper = JordanWignerMapper()\n",
    "        fermionic_op = hamiltonian.second_q_op()\n",
    "        qubit_op = mapper.map(fermionic_op)\n",
    "        \n",
    "        eigenvalue = vqe_solver.compute_minimum_eigenvalue(operator=qubit_op).eigenvalue\n",
    "        energies.append(eigenvalue)\n",
    "\n",
    "    save_csv(f'results_{optimizer_str}_no_interaction', f'shots={shot}', [energies])"
   ]
  },
  {
   "cell_type": "markdown",
   "metadata": {},
   "source": [
    "Interaction"
   ]
  },
  {
   "cell_type": "code",
   "execution_count": null,
   "metadata": {},
   "outputs": [],
   "source": [
    "shots = [16, 128, 1024, 16384]\n",
    "\n",
    "for shot in shots:\n",
    "    energies = []\n",
    "\n",
    "    hamiltonian = hamiltonian_interaction\n",
    "\n",
    "    mapper = JordanWignerMapper()\n",
    "    fermionic_op = hamiltonian.second_q_op()\n",
    "    qubit_op = mapper.map(fermionic_op)\n",
    "\n",
    "    num_spatial_orbitals = int(fermionic_op.num_spin_orbitals/2)\n",
    "    # The tuple of the number of alpha- and beta-spin particles\n",
    "    num_particles = (1, 1)\n",
    "\n",
    "    ansatz = UCCSD(\n",
    "        num_spatial_orbitals,\n",
    "        num_particles,\n",
    "        mapper,\n",
    "        initial_state=HartreeFock(\n",
    "            num_spatial_orbitals,\n",
    "            num_particles,\n",
    "            mapper,\n",
    "        ),\n",
    "    )\n",
    "\n",
    "    # seed = 170\n",
    "    # algorithm_globals.random_seed = seed\n",
    "\n",
    "    noiseless_estimator = AerEstimator(\n",
    "        run_options={\"shots\": shot}\n",
    "    )\n",
    "\n",
    "    vqe_solver = VQE(noiseless_estimator, ansatz, optimizer(maxiter=100))\n",
    "    vqe_solver.initial_point = np.zeros(ansatz.num_parameters)\n",
    "\n",
    "    for i in range(50):\n",
    "        hamiltonian = hamiltonian_interaction\n",
    "\n",
    "        mapper = JordanWignerMapper()\n",
    "        fermionic_op = hamiltonian.second_q_op()\n",
    "        qubit_op = mapper.map(fermionic_op)\n",
    "        \n",
    "        eigenvalue = vqe_solver.compute_minimum_eigenvalue(operator=qubit_op).eigenvalue\n",
    "        energies.append(eigenvalue)\n",
    "\n",
    "    save_csv(f'results_{optimizer_str}_interaction_2', f'shots={shot}', [energies])"
   ]
  }
 ],
 "metadata": {
  "kernelspec": {
   "display_name": "tfg_env",
   "language": "python",
   "name": "python3"
  },
  "language_info": {
   "codemirror_mode": {
    "name": "ipython",
    "version": 3
   },
   "file_extension": ".py",
   "mimetype": "text/x-python",
   "name": "python",
   "nbconvert_exporter": "python",
   "pygments_lexer": "ipython3",
   "version": "3.10.12"
  }
 },
 "nbformat": 4,
 "nbformat_minor": 2
}

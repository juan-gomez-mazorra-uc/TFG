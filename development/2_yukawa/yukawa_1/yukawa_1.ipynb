{
 "cells": [
  {
   "cell_type": "markdown",
   "metadata": {},
   "source": [
    "### The Radial Wavefunction Solutions\n",
    "https://phys.libretexts.org/Bookshelves/Quantum_Mechanics/Quantum_Mechanics_III_(Chong)/04%3A_Identical_Particles/4.03%3A_Second_Quantization\n",
    "\n",
    "https://quantummechanics.ucsd.edu/ph130a/130_notes/node233.html\n",
    "\n",
    "https://galileo.phys.virginia.edu/classes/751.mf1i.fall02/HydrogenAtom.htm (no lo he usado)\n",
    "\n",
    "https://faculty.washington.edu/seattle/physics227/reading/reading-26-27.pdf\n",
    "\n",
    "https://www.researchgate.net/figure/Result-of-the-function-of-radial-wave-of-a-hydrogen-atom-for-i-i-4-and-5_tbl1_332921781\n",
    "\n",
    "https://arxiv.org/pdf/2008.02946.pdf (no lo he usado)\n"
   ]
  },
  {
   "cell_type": "code",
   "execution_count": 128,
   "metadata": {},
   "outputs": [],
   "source": [
    "import sympy as sp\n",
    "\n",
    "# Definir la variable simbólica r\n",
    "r = sp.Symbol('r')\n",
    "\n",
    "Z = 1\n",
    "\n",
    "# Radial wavefunction solutions\n",
    "R_10 = 2 * Z**(3/2) * sp.exp(-Z*r)\n",
    "R_20 = 2 * (Z/2)**(3/2) * (1 - Z*r/2) * sp.exp(-Z*r/2)\n",
    "R_21 = 1/sp.sqrt(3) * (Z/2)**(3/2) * Z * r * sp.exp(-Z*r/2)\n",
    "R_30 = 2 * (Z/3)**(3/2) * (1 - 2*Z*r/3 + 2*(Z*r)**2/27) * sp.exp(-Z*r/3)\n",
    "R_31 = 4*sp.sqrt(2)/3 * (Z/3)**(3/2) * Z*r * (1 - Z*r/6) * sp.exp(-Z*r/3)\n",
    "R_32 = 2*sp.sqrt(2)/(27*sp.sqrt(5)) * (Z/3)**(3/2) * (Z*r)**2 * sp.exp(-Z*r/3)\n",
    "\n",
    "# R_40 para Z = 1\n",
    "n = 4\n",
    "l = 0\n",
    "R_40 = 1/sp.sqrt(16) * (1 - 12*r/16 + 32*(r/16)**2 - 64/3*(r/16)**3) * sp.exp(-r/4)\n",
    "\n",
    "n_list = [1, 2, 3, 4]\n",
    "l_list = [0, 1, 2, 3]\n",
    "\n",
    "# Computing u_nl and the second derivative of u_nl\n",
    "for n in n_list:\n",
    "    for l in l_list:\n",
    "        try:\n",
    "            globals()[f'u_{n}{l}'] = r * globals()[f'R_{n}{l}']\n",
    "            globals()[f'dd_u_{n}{l}'] = sp.diff(globals()[f'u_{n}{l}'], r, r)\n",
    "        except:\n",
    "            pass"
   ]
  },
  {
   "cell_type": "markdown",
   "metadata": {},
   "source": [
    "<2 0 0 | H | 2 0 0>"
   ]
  },
  {
   "cell_type": "code",
   "execution_count": 129,
   "metadata": {},
   "outputs": [
    {
     "data": {
      "text/latex": [
       "$\\displaystyle -0.125$"
      ],
      "text/plain": [
       "-0.125000000000000"
      ]
     },
     "execution_count": 129,
     "metadata": {},
     "output_type": "execute_result"
    }
   ],
   "source": [
    "alpha = 0\n",
    "-1/2 * sp.integrate(u_20*dd_u_20, (r, 0, sp.oo)) - sp.integrate(u_20*u_20 * Z*sp.exp(-alpha*r)/r, (r, 0, sp.oo))"
   ]
  },
  {
   "cell_type": "markdown",
   "metadata": {},
   "source": [
    "<2 1 0 | H | 2 1 0>"
   ]
  },
  {
   "cell_type": "code",
   "execution_count": 130,
   "metadata": {},
   "outputs": [
    {
     "data": {
      "text/latex": [
       "$\\displaystyle -0.125$"
      ],
      "text/plain": [
       "-0.125000000000000"
      ]
     },
     "execution_count": 130,
     "metadata": {},
     "output_type": "execute_result"
    }
   ],
   "source": [
    "-1/2 * sp.integrate(u_21*dd_u_21, (r, 0, sp.oo)) - sp.integrate(u_21*u_21 * Z*sp.exp(-alpha*r)/r, (r, 0, sp.oo))\\\n",
    "    + 1*(1+1)/2 * sp.integrate(u_21*u_21 / r**2, (r, 0, sp.oo))"
   ]
  },
  {
   "cell_type": "markdown",
   "metadata": {},
   "source": [
    "<3 0 0 | H | 3 0 0>"
   ]
  },
  {
   "cell_type": "code",
   "execution_count": 131,
   "metadata": {},
   "outputs": [
    {
     "data": {
      "text/latex": [
       "$\\displaystyle -0.0555555555555558$"
      ],
      "text/plain": [
       "-0.0555555555555558"
      ]
     },
     "execution_count": 131,
     "metadata": {},
     "output_type": "execute_result"
    }
   ],
   "source": [
    "-1/2 * sp.integrate(u_30*dd_u_30, (r, 0, sp.oo)) - sp.integrate(u_30*u_30 * Z*sp.exp(-alpha*r)/r, (r, 0, sp.oo))"
   ]
  },
  {
   "cell_type": "markdown",
   "metadata": {},
   "source": [
    "<3 1 0 | H | 3 1 0>"
   ]
  },
  {
   "cell_type": "code",
   "execution_count": 132,
   "metadata": {},
   "outputs": [
    {
     "data": {
      "text/latex": [
       "$\\displaystyle -0.499999999999999$"
      ],
      "text/plain": [
       "-0.499999999999999"
      ]
     },
     "execution_count": 132,
     "metadata": {},
     "output_type": "execute_result"
    }
   ],
   "source": [
    "-1/2 * sp.integrate(u_31*dd_u_31, (r, 0, sp.oo)) - sp.integrate(u_31*u_31 * Z*sp.exp(-alpha*r)/r, (r, 0, sp.oo))\\\n",
    "    + 1*(1+1)/2 * sp.integrate(u_31*u_31 / r**2, (r, 0, sp.oo))"
   ]
  },
  {
   "cell_type": "markdown",
   "metadata": {},
   "source": [
    "<3 2 0 | H | 3 2 0>"
   ]
  },
  {
   "cell_type": "code",
   "execution_count": 133,
   "metadata": {},
   "outputs": [
    {
     "data": {
      "text/latex": [
       "$\\displaystyle -0.0555555555555556$"
      ],
      "text/plain": [
       "-0.0555555555555556"
      ]
     },
     "execution_count": 133,
     "metadata": {},
     "output_type": "execute_result"
    }
   ],
   "source": [
    "-1/2 * sp.integrate(u_32*dd_u_32, (r, 0, sp.oo)) - sp.integrate(u_32*u_32 * Z*sp.exp(-alpha*r)/r, (r, 0, sp.oo))\\\n",
    "    + 2*(2+1)/2 * sp.integrate(u_32*u_32 / r**2, (r, 0, sp.oo))"
   ]
  },
  {
   "cell_type": "code",
   "execution_count": 149,
   "metadata": {},
   "outputs": [],
   "source": [
    "alpha = 1\n",
    "\n",
    "n_list = [1, 2, 3, 4]\n",
    "l = 0\n",
    "\n",
    "h_pq = []\n",
    "\n",
    "for i in n_list:\n",
    "    h_pq.append([])\n",
    "    for j in n_list:\n",
    "        globals()[f'h_{i}{j}'] = -1/2 * sp.integrate(globals()[f'u_{i}0']*globals()[f'dd_u_{j}0'], (r, 0, sp.oo)) \\\n",
    "                                 - sp.integrate(globals()[f'u_{i}0']*globals()[f'u_{j}0'] * Z*sp.exp(-alpha*r)/r, (r, 0, sp.oo))\n",
    "        h_pq[i-1].append(globals()[f'h_{i}{j}'])"
   ]
  },
  {
   "cell_type": "code",
   "execution_count": 150,
   "metadata": {},
   "outputs": [
    {
     "data": {
      "text/latex": [
       "$\\displaystyle \\left[\\begin{matrix}0.0555555555555556 & 0.0737486183637525 & 0.0361144496267876 & 0.0226501190536673\\\\0.0737486183637525 & 0.0781249999999998 & 0.0469870424228039 & 0.0264507657211461\\\\0.0361144496267877 & 0.0469870424228038 & 0.0420444444444438 & 0.0276247037841062\\\\0.0226501190536671 & 0.0264507657211454 & 0.0276247037841027 & 0.0256010897728978\\end{matrix}\\right]$"
      ],
      "text/plain": [
       "Matrix([\n",
       "[0.0555555555555556, 0.0737486183637525, 0.0361144496267876, 0.0226501190536673],\n",
       "[0.0737486183637525, 0.0781249999999998, 0.0469870424228039, 0.0264507657211461],\n",
       "[0.0361144496267877, 0.0469870424228038, 0.0420444444444438, 0.0276247037841062],\n",
       "[0.0226501190536671, 0.0264507657211454, 0.0276247037841027, 0.0256010897728978]])"
      ]
     },
     "metadata": {},
     "output_type": "display_data"
    }
   ],
   "source": [
    "h_pq_matrix = sp.Matrix(h_pq)\n",
    "display(h_pq_matrix)"
   ]
  },
  {
   "cell_type": "code",
   "execution_count": 151,
   "metadata": {},
   "outputs": [
    {
     "name": "stdout",
     "output_type": "stream",
     "text": [
      "Los autovalores de la matriz son:\n",
      "Autovalor: 0.181104358613632, Multiplicidad: 1\n",
      "Autovalor: -0.00828691419917548, Multiplicidad: 1\n",
      "Autovalor: 0.0240684042354030, Multiplicidad: 1\n",
      "Autovalor: 0.00444024112303763, Multiplicidad: 1\n"
     ]
    }
   ],
   "source": [
    "# Calcular los autovalores\n",
    "autovalores = h_pq_matrix.eigenvals()\n",
    "print(\"Los autovalores de la matriz son:\")\n",
    "for autovalor, multiplicidad in autovalores.items():\n",
    "    print(f\"Autovalor: {autovalor}, Multiplicidad: {multiplicidad}\")"
   ]
  },
  {
   "cell_type": "markdown",
   "metadata": {},
   "source": [
    "### The electronic energy Hamiltonian"
   ]
  },
  {
   "cell_type": "markdown",
   "metadata": {},
   "source": [
    "https://qiskit-community.github.io/qiskit-nature/stubs/qiskit_nature.second_q.hamiltonians.ElectronicEnergy.html"
   ]
  },
  {
   "cell_type": "code",
   "execution_count": 152,
   "metadata": {},
   "outputs": [],
   "source": [
    "import numpy as np\n",
    "from qiskit_nature.second_q.hamiltonians import ElectronicEnergy\n",
    "\n",
    "size = len(h_pq)\n",
    "h1_a = np.array(h_pq, dtype=float)\n",
    "h2_aa = np.zeros((size, size, size, size))\n",
    "hamiltonian = ElectronicEnergy.from_raw_integrals(h1_a, h2_aa)"
   ]
  },
  {
   "cell_type": "code",
   "execution_count": 153,
   "metadata": {},
   "outputs": [
    {
     "data": {
      "text/plain": [
       "8"
      ]
     },
     "execution_count": 153,
     "metadata": {},
     "output_type": "execute_result"
    }
   ],
   "source": [
    "from qiskit_nature.second_q.mappers import JordanWignerMapper\n",
    "\n",
    "mapper = JordanWignerMapper()\n",
    "\n",
    "# Return the second quantized operator constructed from the contained electronic integrals\n",
    "fermionic_op = hamiltonian.second_q_op()\n",
    "qubit_op = mapper.map(fermionic_op)\n",
    "fermionic_op.num_spin_orbitals"
   ]
  },
  {
   "cell_type": "code",
   "execution_count": 168,
   "metadata": {},
   "outputs": [],
   "source": [
    "# print(fermionic_op)"
   ]
  },
  {
   "cell_type": "code",
   "execution_count": 155,
   "metadata": {},
   "outputs": [],
   "source": [
    "from qiskit_nature.second_q.circuit.library import HartreeFock, UCCSD\n",
    "\n",
    "num_spatial_orbitals = int(fermionic_op.num_spin_orbitals/2)\n",
    "# The tuple of the number of alpha- and beta-spin particles\n",
    "num_particles = (1, 0)\n",
    "\n",
    "ansatz = UCCSD(\n",
    "    num_spatial_orbitals,\n",
    "    num_particles,\n",
    "    mapper,\n",
    "    initial_state=HartreeFock(\n",
    "        num_spatial_orbitals,\n",
    "        num_particles,\n",
    "        mapper,\n",
    "    ),\n",
    ")"
   ]
  },
  {
   "cell_type": "code",
   "execution_count": 156,
   "metadata": {},
   "outputs": [
    {
     "name": "stdout",
     "output_type": "stream",
     "text": [
      "8\n",
      "8\n"
     ]
    }
   ],
   "source": [
    "print(qubit_op.num_qubits)\n",
    "print(ansatz.num_qubits)"
   ]
  },
  {
   "cell_type": "code",
   "execution_count": 159,
   "metadata": {},
   "outputs": [
    {
     "data": {
      "text/plain": [
       "-0.00828675685166835"
      ]
     },
     "execution_count": 159,
     "metadata": {},
     "output_type": "execute_result"
    }
   ],
   "source": [
    "from qiskit_algorithms import VQE\n",
    "from qiskit.primitives import Estimator\n",
    "from qiskit_algorithms.optimizers import SLSQP\n",
    "\n",
    "vqe_solver = VQE(Estimator(), ansatz, SLSQP())\n",
    "result_vqe = vqe_solver.compute_minimum_eigenvalue(operator=qubit_op)\n",
    "result_vqe.eigenvalue"
   ]
  }
 ],
 "metadata": {
  "kernelspec": {
   "display_name": "tfg_env",
   "language": "python",
   "name": "python3"
  },
  "language_info": {
   "codemirror_mode": {
    "name": "ipython",
    "version": 3
   },
   "file_extension": ".py",
   "mimetype": "text/x-python",
   "name": "python",
   "nbconvert_exporter": "python",
   "pygments_lexer": "ipython3",
   "version": "3.10.12"
  }
 },
 "nbformat": 4,
 "nbformat_minor": 2
}

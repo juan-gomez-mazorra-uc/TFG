{
 "cells": [
  {
   "cell_type": "markdown",
   "metadata": {},
   "source": [
    "https://qiskit-community.github.io/qiskit-nature/stubs/qiskit_nature.second_q.hamiltonians.ElectronicEnergy.html"
   ]
  },
  {
   "cell_type": "markdown",
   "metadata": {},
   "source": [
    "### The electronic energy Hamiltonian"
   ]
  },
  {
   "cell_type": "code",
   "execution_count": 23,
   "metadata": {},
   "outputs": [],
   "source": [
    "import numpy as np\n",
    "from qiskit_nature.second_q.hamiltonians import ElectronicEnergy\n",
    "\n",
    "h1_a = np.array([[-1,    0],\n",
    "                 [ 0, -0.5]])\n",
    "\n",
    "\n",
    "h2_aa = np.array([[[[0, 0], [0, 0]],\n",
    "                   [[0, 0], [0, 0]]],\n",
    "                  [[[0, 0], [0, 0]],\n",
    "                   [[0, 0], [0, 0]]]])\n",
    "\n",
    "\"\"\"\n",
    "h1_a = np.array([[-1]])\n",
    "h2_aa = np.zeros((1, 1, 1, 1))\n",
    "\"\"\"\n",
    "\n",
    "\"\"\"\n",
    "h1_a = np.array([[-1,    0,    0],\n",
    "                 [ 0, -0.5,    0],\n",
    "                 [ 0,    0, -0.1]])\n",
    "h2_aa = np.zeros((3, 3, 3, 3))\n",
    "\"\"\"\n",
    "\n",
    "h1_b = np.array([[-1000,     0],\n",
    "                 [    0, -1000]])\n",
    "\n",
    "h2_bb = h2_aa\n",
    "h2_ba = h2_aa\n",
    "\n",
    "hamiltonian = ElectronicEnergy.from_raw_integrals(h1_a, h2_aa, h1_b, h2_bb, h2_ba)"
   ]
  },
  {
   "cell_type": "code",
   "execution_count": 24,
   "metadata": {},
   "outputs": [],
   "source": [
    "from qiskit_nature.second_q.mappers import JordanWignerMapper\n",
    "\n",
    "mapper = JordanWignerMapper()\n",
    "\n",
    "fermionic_op = hamiltonian.second_q_op()\n",
    "qubit_op = mapper.map(fermionic_op)"
   ]
  },
  {
   "cell_type": "code",
   "execution_count": 25,
   "metadata": {},
   "outputs": [
    {
     "data": {
      "text/plain": [
       "4"
      ]
     },
     "execution_count": 25,
     "metadata": {},
     "output_type": "execute_result"
    }
   ],
   "source": [
    "fermionic_op.num_spin_orbitals"
   ]
  },
  {
   "cell_type": "code",
   "execution_count": 26,
   "metadata": {},
   "outputs": [],
   "source": [
    "from qiskit_nature.second_q.circuit.library import HartreeFock, UCCSD\n",
    "\n",
    "num_spatial_orbitals = int(fermionic_op.num_spin_orbitals/2)\n",
    "# The tuple of the number of alpha- and beta-spin particles\n",
    "num_particles = (1, 0)\n",
    "\n",
    "ansatz = UCCSD(\n",
    "    num_spatial_orbitals,\n",
    "    num_particles,\n",
    "    mapper,\n",
    "    initial_state=HartreeFock(\n",
    "        num_spatial_orbitals,\n",
    "        num_particles,\n",
    "        mapper,\n",
    "    ),\n",
    ")"
   ]
  },
  {
   "cell_type": "code",
   "execution_count": 27,
   "metadata": {},
   "outputs": [
    {
     "name": "stdout",
     "output_type": "stream",
     "text": [
      "4\n",
      "4\n"
     ]
    }
   ],
   "source": [
    "print(qubit_op.num_qubits)\n",
    "print(ansatz.num_qubits)"
   ]
  },
  {
   "cell_type": "code",
   "execution_count": 28,
   "metadata": {},
   "outputs": [],
   "source": [
    "from qiskit_algorithms import VQE\n",
    "from qiskit.primitives import Estimator\n",
    "from qiskit_algorithms.optimizers import SLSQP\n",
    "\n",
    "vqe_solver = VQE(Estimator(), ansatz, SLSQP())"
   ]
  },
  {
   "cell_type": "code",
   "execution_count": 29,
   "metadata": {},
   "outputs": [],
   "source": [
    "result_vqe = vqe_solver.compute_minimum_eigenvalue(operator=qubit_op)"
   ]
  },
  {
   "cell_type": "code",
   "execution_count": 30,
   "metadata": {},
   "outputs": [
    {
     "data": {
      "text/plain": [
       "-0.9999999999906777"
      ]
     },
     "execution_count": 30,
     "metadata": {},
     "output_type": "execute_result"
    }
   ],
   "source": [
    "result_vqe.eigenvalue"
   ]
  },
  {
   "cell_type": "code",
   "execution_count": null,
   "metadata": {},
   "outputs": [],
   "source": []
  },
  {
   "cell_type": "code",
   "execution_count": null,
   "metadata": {},
   "outputs": [],
   "source": []
  },
  {
   "cell_type": "code",
   "execution_count": null,
   "metadata": {},
   "outputs": [],
   "source": []
  },
  {
   "cell_type": "code",
   "execution_count": 45,
   "metadata": {},
   "outputs": [],
   "source": [
    "from qiskit_nature.second_q.mappers import JordanWignerMapper\n",
    "from qiskit_algorithms import VQE\n",
    "from qiskit_algorithms.utils import algorithm_globals\n",
    "from qiskit_aer.primitives import Estimator as AerEstimator\n",
    "from qiskit.circuit.library import TwoLocal\n",
    "from qiskit_algorithms.optimizers import SPSA\n",
    "\n",
    "mapper = JordanWignerMapper()\n",
    "fermionic_op = hamiltonian.second_q_op()\n",
    "qubit_op = mapper.map(fermionic_op)\n",
    "\n",
    "# define callback\n",
    "# note: Re-run this cell to restart lists before training\n",
    "counts = []\n",
    "values = []\n",
    "\n",
    "def store_intermediate_result(eval_count, parameters, mean, std):\n",
    "    counts.append(eval_count)\n",
    "    values.append(mean)\n",
    "\n",
    "seed = 170\n",
    "algorithm_globals.random_seed = seed\n",
    "noiseless_estimator = AerEstimator(\n",
    "    run_options={\"seed\": seed, \"shots\": 2**11},\n",
    "    transpile_options={\"seed_transpiler\": seed},\n",
    ")\n",
    "\n",
    "iterations = 125\n",
    "ansatz = TwoLocal(rotation_blocks=\"ry\", entanglement_blocks=\"cz\")\n",
    "spsa = SPSA(maxiter=iterations)\n",
    "\n",
    "vqe = VQE(\n",
    "    noiseless_estimator, ansatz, optimizer=spsa, callback=store_intermediate_result\n",
    ")\n",
    "\n",
    "result_vqe = vqe.compute_minimum_eigenvalue(operator=qubit_op)"
   ]
  },
  {
   "cell_type": "code",
   "execution_count": 41,
   "metadata": {},
   "outputs": [
    {
     "data": {
      "text/plain": [
       "4"
      ]
     },
     "execution_count": 41,
     "metadata": {},
     "output_type": "execute_result"
    }
   ],
   "source": [
    "ansatz.num_qubits"
   ]
  },
  {
   "cell_type": "code",
   "execution_count": 42,
   "metadata": {},
   "outputs": [
    {
     "name": "stdout",
     "output_type": "stream",
     "text": [
      "Fermionic Operator\n",
      "number spin orbitals=4, number terms=4\n",
      "  -1.0 * ( +_0 -_0 )\n",
      "+ -0.5 * ( +_1 -_1 )\n",
      "+ -1000.0 * ( +_2 -_2 )\n",
      "+ -1000.0 * ( +_3 -_3 )\n"
     ]
    }
   ],
   "source": [
    "print(fermionic_op)"
   ]
  },
  {
   "cell_type": "code",
   "execution_count": 44,
   "metadata": {},
   "outputs": [
    {
     "data": {
      "text/plain": [
       "-1997.614501953125"
      ]
     },
     "execution_count": 44,
     "metadata": {},
     "output_type": "execute_result"
    }
   ],
   "source": [
    "result_vqe.eigenvalue"
   ]
  },
  {
   "cell_type": "code",
   "execution_count": null,
   "metadata": {},
   "outputs": [
    {
     "data": {
      "text/plain": [
       "Text(0.5, 1.0, 'Convergence with no noise')"
      ]
     },
     "execution_count": 19,
     "metadata": {},
     "output_type": "execute_result"
    },
    {
     "data": {
      "image/png": "[encoded data removed]",
      "text/plain": [
       "<Figure size 1200x400 with 1 Axes>"
      ]
     },
     "metadata": {},
     "output_type": "display_data"
    }
   ],
   "source": [
    "import pylab\n",
    "\n",
    "pylab.rcParams[\"figure.figsize\"] = (12, 4)\n",
    "pylab.plot(counts, values)\n",
    "pylab.xlabel(\"Eval count\")\n",
    "pylab.ylabel(\"Energy\")\n",
    "pylab.title(\"Convergence with no noise\")"
   ]
  },
  {
   "cell_type": "code",
   "execution_count": null,
   "metadata": {},
   "outputs": [
    {
     "data": {
      "text/plain": [
       "-1994.634765625"
      ]
     },
     "execution_count": 20,
     "metadata": {},
     "output_type": "execute_result"
    }
   ],
   "source": [
    "result_vqe.eigenvalue.real"
   ]
  }
 ],
 "metadata": {
  "kernelspec": {
   "display_name": "tfg_env",
   "language": "python",
   "name": "python3"
  },
  "language_info": {
   "codemirror_mode": {
    "name": "ipython",
    "version": 3
   },
   "file_extension": ".py",
   "mimetype": "text/x-python",
   "name": "python",
   "nbconvert_exporter": "python",
   "pygments_lexer": "ipython3",
   "version": "3.10.12"
  }
 },
 "nbformat": 4,
 "nbformat_minor": 2
}

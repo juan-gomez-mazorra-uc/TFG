{
 "cells": [
  {
   "cell_type": "markdown",
   "metadata": {},
   "source": [
    "### The Radial Wavefunction Solutions\n",
    "https://phys.libretexts.org/Bookshelves/Quantum_Mechanics/Quantum_Mechanics_III_(Chong)/04%3A_Identical_Particles/4.03%3A_Second_Quantization\n",
    "\n",
    "https://quantummechanics.ucsd.edu/ph130a/130_notes/node233.html\n",
    "\n",
    "https://galileo.phys.virginia.edu/classes/751.mf1i.fall02/HydrogenAtom.htm (no lo he usado)\n",
    "\n",
    "https://faculty.washington.edu/seattle/physics227/reading/reading-26-27.pdf\n",
    "\n",
    "https://www.researchgate.net/figure/Result-of-the-function-of-radial-wave-of-a-hydrogen-atom-for-i-i-4-and-5_tbl1_332921781\n",
    "\n",
    "https://arxiv.org/pdf/2008.02946.pdf (no lo he usado)\n"
   ]
  },
  {
   "cell_type": "markdown",
   "metadata": {},
   "source": [
    "### Polinomios de Laguerre\n",
    "\n",
    "https://faculty.washington.edu/seattle/physics227/reading/reading-26-27.pdf"
   ]
  },
  {
   "cell_type": "code",
   "execution_count": 1,
   "metadata": {},
   "outputs": [],
   "source": [
    "# Comprobar para Z distinto de 1, no estoy seguro si falta alguna Z"
   ]
  },
  {
   "cell_type": "code",
   "execution_count": 2,
   "metadata": {},
   "outputs": [],
   "source": [
    "import sympy as sp\n",
    "\n",
    "x = sp.Symbol('x')\n",
    "r = sp.Symbol('r')\n",
    "\n",
    "# Página 338\n",
    "def laguerre(j, x):\n",
    "    f = sp.exp(-x) * x**j\n",
    "    for n in range(j):\n",
    "        f = sp.diff(f, x)\n",
    "\n",
    "    f = sp.exp(x) * f\n",
    "\n",
    "    globals()[f'L_{j}'] = f\n",
    "\n",
    "    return sp.simplify(globals()[f'L_{j}'])\n",
    "\n",
    "# Página 339\n",
    "def laguerre_associated(n, l, Z):\n",
    "    j = n-l-1\n",
    "    k = 2*l+1\n",
    "\n",
    "    f = laguerre(j+k, x)\n",
    "\n",
    "    for i in range(k):\n",
    "        f = sp.diff(f, x)\n",
    "\n",
    "    globals()[f'L_{j}^{k}'] = (-1)**k * f\n",
    "    return globals()[f'L_{j}^{k}'].subs(x, 2*r*Z/n)"
   ]
  },
  {
   "cell_type": "code",
   "execution_count": 3,
   "metadata": {},
   "outputs": [],
   "source": [
    "# Página 347\n",
    "def radial_wavefunction(n, l, Z):\n",
    "    \"\"\"\n",
    "    Calcula la función de onda radial para un estado dado (n, l) en un átomo con número atómico Z.\n",
    "    \n",
    "    Parámetros:\n",
    "        n (int): Número cuántico principal.\n",
    "        l (int): Número cuántico azimutal.\n",
    "        Z (float): Número atómico (número de protones en el núcleo).\n",
    "    \n",
    "    Retorna:\n",
    "        La función de onda radial.\n",
    "    \"\"\"\n",
    "    \n",
    "    # Polinomio de Laguerre generalizado\n",
    "    laguerre_poly = laguerre_associated(n, l, Z)\n",
    "    \n",
    "    # Factor de normalización\n",
    "    normalization_factor = sp.sqrt((2*Z/n)**3 * sp.factorial(n-l-1) / (2*n*sp.factorial(n+l)**3))\n",
    "    \n",
    "    # Exponencial\n",
    "    exponential = sp.exp(-Z*r/n)\n",
    "    \n",
    "    # Función de onda radial\n",
    "    radial_wavefunction = normalization_factor * exponential * (2*r*Z/n)**l * laguerre_poly\n",
    "    \n",
    "    return radial_wavefunction"
   ]
  },
  {
   "cell_type": "code",
   "execution_count": 4,
   "metadata": {},
   "outputs": [],
   "source": [
    "n_max = 10\n",
    "Z = 2\n",
    "\n",
    "for n in range(1, n_max+1):\n",
    "    for l in range(n):\n",
    "        globals()[f'u_{n}{l}'] = r * radial_wavefunction(n, l, Z)\n",
    "        globals()[f'dd_u_{n}{l}'] = sp.diff(globals()[f'u_{n}{l}'], r, r)"
   ]
  },
  {
   "cell_type": "markdown",
   "metadata": {},
   "source": [
    "##### Base Z != 1 y potencial Z != 1"
   ]
  },
  {
   "cell_type": "code",
   "execution_count": 11,
   "metadata": {},
   "outputs": [],
   "source": [
    "alpha = 0\n",
    "\n",
    "n_max = 3\n",
    "l = 0\n",
    "\n",
    "h_pq = []\n",
    "\n",
    "for i in range(1, n_max+1):\n",
    "    h_pq.append([])\n",
    "    for j in range(1, n_max+1):\n",
    "        globals()[f'h_{i}{j}'] = -1/2 * sp.integrate(globals()[f'u_{i}0']*globals()[f'dd_u_{j}0'], (r, 0, sp.oo)) \\\n",
    "                                 - sp.integrate(globals()[f'u_{i}0']*globals()[f'u_{j}0'] * Z *sp.exp(-alpha*r)/r, (r, 0, sp.oo))\n",
    "        h_pq[i-1].append(globals()[f'h_{i}{j}'])"
   ]
  },
  {
   "cell_type": "markdown",
   "metadata": {},
   "source": [
    "La integral es sin Z si quiero resolver el problema para Z = 1 con una base diferente"
   ]
  },
  {
   "cell_type": "code",
   "execution_count": 12,
   "metadata": {},
   "outputs": [
    {
     "data": {
      "text/latex": [
       "$\\displaystyle \\left[\\begin{matrix}-2.0 & 0 & -2.22044604925031 \\cdot 10^{-16}\\\\2.22044604925031 \\cdot 10^{-16} & -0.5 & 1.77635683940025 \\cdot 10^{-15}\\\\0 & 1.11022302462516 \\cdot 10^{-15} & -0.222222222222221\\end{matrix}\\right]$"
      ],
      "text/plain": [
       "Matrix([\n",
       "[                -2.0,                    0, -2.22044604925031e-16],\n",
       "[2.22044604925031e-16,                 -0.5,  1.77635683940025e-15],\n",
       "[                   0, 1.11022302462516e-15,    -0.222222222222221]])"
      ]
     },
     "metadata": {},
     "output_type": "display_data"
    }
   ],
   "source": [
    "h_pq_matrix = sp.Matrix(h_pq)\n",
    "display(h_pq_matrix)"
   ]
  },
  {
   "cell_type": "code",
   "execution_count": 13,
   "metadata": {},
   "outputs": [
    {
     "data": {
      "text/plain": [
       "[-2.00000000000000, -0.500000000000000, -0.222222222222221]"
      ]
     },
     "execution_count": 13,
     "metadata": {},
     "output_type": "execute_result"
    }
   ],
   "source": [
    "list(h_pq_matrix.eigenvals().keys())"
   ]
  },
  {
   "cell_type": "markdown",
   "metadata": {},
   "source": [
    "##### Base Z != 1 y potencial Z = 1"
   ]
  },
  {
   "cell_type": "code",
   "execution_count": 14,
   "metadata": {},
   "outputs": [],
   "source": [
    "alpha = 0\n",
    "\n",
    "n_max = 3\n",
    "l = 0\n",
    "\n",
    "h_pq = []\n",
    "\n",
    "for i in range(1, n_max+1):\n",
    "    h_pq.append([])\n",
    "    for j in range(1, n_max+1):\n",
    "        globals()[f'h_{i}{j}'] = -1/2 * sp.integrate(globals()[f'u_{i}0']*globals()[f'dd_u_{j}0'], (r, 0, sp.oo)) \\\n",
    "                                 - sp.integrate(globals()[f'u_{i}0']*globals()[f'u_{j}0'] * sp.exp(-alpha*r)/r, (r, 0, sp.oo))\n",
    "        h_pq[i-1].append(globals()[f'h_{i}{j}'])"
   ]
  },
  {
   "cell_type": "code",
   "execution_count": 15,
   "metadata": {},
   "outputs": [
    {
     "data": {
      "text/latex": [
       "$\\displaystyle \\left[\\begin{matrix}0 & 0.419026240703139 & 0.216506350946109\\\\0.41902624070314 & 0 & 0.144225956055076\\\\0.21650635094611 & 0.144225956055075 & -8.88178419700125 \\cdot 10^{-16}\\end{matrix}\\right]$"
      ],
      "text/plain": [
       "Matrix([\n",
       "[               0, 0.419026240703139,     0.216506350946109],\n",
       "[0.41902624070314,                 0,     0.144225956055076],\n",
       "[0.21650635094611, 0.144225956055075, -8.88178419700125e-16]])"
      ]
     },
     "metadata": {},
     "output_type": "display_data"
    }
   ],
   "source": [
    "h_pq_matrix = sp.Matrix(h_pq)\n",
    "display(h_pq_matrix)"
   ]
  },
  {
   "cell_type": "code",
   "execution_count": 16,
   "metadata": {},
   "outputs": [
    {
     "data": {
      "text/plain": [
       "[0.540102598117750, -0.426499387662245, -0.113603210455506]"
      ]
     },
     "execution_count": 16,
     "metadata": {},
     "output_type": "execute_result"
    }
   ],
   "source": [
    "list(h_pq_matrix.eigenvals().keys())"
   ]
  }
 ],
 "metadata": {
  "kernelspec": {
   "display_name": "tfg_env",
   "language": "python",
   "name": "python3"
  },
  "language_info": {
   "codemirror_mode": {
    "name": "ipython",
    "version": 3
   },
   "file_extension": ".py",
   "mimetype": "text/x-python",
   "name": "python",
   "nbconvert_exporter": "python",
   "pygments_lexer": "ipython3",
   "version": "3.10.12"
  }
 },
 "nbformat": 4,
 "nbformat_minor": 2
}

{
 "cells": [
  {
   "cell_type": "code",
   "execution_count": 16,
   "metadata": {},
   "outputs": [],
   "source": [
    "import numpy as np\n",
    "import sympy as sp"
   ]
  },
  {
   "cell_type": "code",
   "execution_count": 17,
   "metadata": {},
   "outputs": [],
   "source": [
    "h_pq = np.array([[ 4.9348022,  0.       ],\n",
    "                 [ 0.       , 19.7392088]])\n",
    "\n",
    "g_pqrs = np.array([[[[1.5, 0. ],\n",
    "                     [0. , 1. ]],\n",
    " \n",
    "                    [[0. , 1. ],\n",
    "                     [1. , 0. ]]],\n",
    " \n",
    " \n",
    "                   [[[0. , 1. ],\n",
    "                     [1. , 0. ]],\n",
    "   \n",
    "                    [[1. , 0. ],\n",
    "                     [0. , 1.5]]]])"
   ]
  },
  {
   "cell_type": "code",
   "execution_count": 18,
   "metadata": {},
   "outputs": [],
   "source": [
    "import numpy as np\n",
    "\n",
    "# Definir las matrices de Pauli y las matrices Q^+ y Q^-\n",
    "X = np.array([[0, 1],\n",
    "              [1, 0]])\n",
    "Y = np.array([[0, -1j],\n",
    "              [1j, 0]])\n",
    "Z = np.array([[1, 0],\n",
    "              [0, -1]])\n",
    "I = np.array([[1, 0],\n",
    "              [0, 1]])\n",
    "\n",
    "Q_dagger = np.array([[0, 0],\n",
    "                     [1, 0]])\n",
    "Q = np.array([[0, 1],\n",
    "              [0, 0]])\n",
    "\n",
    "# Definir las matrices de creación y destrucción en función de las matrices de Pauli\n",
    "def a_dagger_i(i, vector):\n",
    "    \"\"\"\n",
    "    Operador de creación para el qubit i en un sistema de n qubits.\n",
    "    \"\"\"\n",
    "    result = 1\n",
    "    for j in vector[:i]:\n",
    "        if j == 1:\n",
    "            result = -result\n",
    "\n",
    "    return result * Q_dagger\n",
    "\n",
    "def a_i(i, vector):\n",
    "    \"\"\"\n",
    "    Operador de destrucción para el qubit i en un sistema de n qubits.\n",
    "    \"\"\"\n",
    "    result = 1\n",
    "    for j in vector[:i]:\n",
    "        if j == 1:\n",
    "            result = -result\n",
    "\n",
    "    return result * Q\n",
    "\n",
    "\n",
    "vector = [1, 1, 0, 0]\n",
    "\n",
    "for i in range(4):\n",
    "    globals()[f'a_dagger_{i}'] = a_dagger_i(i, vector)\n",
    "    globals()[f'a_{i}'] = a_i(i, vector)"
   ]
  },
  {
   "cell_type": "code",
   "execution_count": 20,
   "metadata": {},
   "outputs": [],
   "source": [
    "h_pq = np.array([[ 4.9348022,          0,          0 ,         0],\n",
    "                 [         0,  4.9348022,          0,          0],\n",
    "                 [         0,          0, 19.7392088,          0],\n",
    "                 [         0,          0,          0, 19.7392088]])\n",
    "\n",
    "\n",
    "vectors = [[1, 1, 0, 0],\n",
    "           [1, 0, 1, 0],\n",
    "           [1, 0, 0, 1],\n",
    "           [0, 1, 1, 0],\n",
    "           [0, 1, 0, 1],\n",
    "           [0, 0, 1, 1]]\n",
    "\n",
    "omega = 1 / np.sqrt(4) * np.array([1, 0, 1, 0, 1, 0, 1, 0])\n",
    "# omega = 1 / np.sqrt(4) * np.array([0, 1, 0, 1, 0, 1, 0, 1])\n",
    "\n",
    "H = np.zeros((6, 6))\n",
    "\n",
    "for i, vector_i in enumerate(vectors):\n",
    "    for j, vector_j in enumerate(vectors):\n",
    "\n",
    "        vector_j = list(vector_j)\n",
    "        vector_j.reverse()\n",
    "\n",
    "        for p in range(len(h_pq)):\n",
    "            for q in range(len(h_pq)):\n",
    "                if h_pq[p][q] != 0:\n",
    "                    # print(i, j, p, q)\n",
    "                    \n",
    "                    I_0 = I\n",
    "                    I_1 = I\n",
    "                    I_2 = I\n",
    "                    I_3 = I\n",
    "                    # I_4 = I\n",
    "                    # I_5 = I\n",
    "\n",
    "                    for n, value in enumerate(vector_j):\n",
    "                        if value == 1:\n",
    "                            vector_j_rev = list(vector_j)\n",
    "                            vector_j_rev.reverse()\n",
    "                            m = len(vector_j) - 1 - n\n",
    "                            globals()[f'I_{m}'] = np.dot(globals()[f'I_{m}'], a_i(m, vector_j_rev))\n",
    "                            \n",
    "\n",
    "                    globals()[f'I_{p}'] = np.dot(globals()[f'I_{p}'], globals()[f'a_dagger_{p}'])\n",
    "                    globals()[f'I_{q}'] = np.dot(globals()[f'I_{q}'], globals()[f'a_{q}'])\n",
    "\n",
    "                    for n, value in enumerate(vector_i):\n",
    "                        if value == 1:\n",
    "                            globals()[f'I_{n}'] = np.dot(globals()[f'I_{n}'], a_dagger_i(n, vector_i))\n",
    "                    \n",
    "\n",
    "                    n = int(len(omega) / 2)\n",
    "                    size = 2 * n \n",
    "                    matriz_grande = np.zeros((size, size))\n",
    "\n",
    "                    for t, submatriz in enumerate([I_0, I_1, I_2, I_3]):\n",
    "                        fila_inicio = 2 * t\n",
    "                        col_inicio = 2 * t\n",
    "                        matriz_grande[fila_inicio:fila_inicio+2, col_inicio:col_inicio+2] = submatriz\n",
    "                    # print(matriz_grande)\n",
    "                    # print(np.dot(omega, np.dot(matriz_grande, omega.T)) * h_pq[p][q] )\n",
    "                            \n",
    "                    H[i][j] += np.dot(omega, np.dot(matriz_grande, omega.T)) * h_pq[p][q]"
   ]
  },
  {
   "cell_type": "code",
   "execution_count": 21,
   "metadata": {},
   "outputs": [
    {
     "data": {
      "text/latex": [
       "$\\displaystyle \\left[\\begin{matrix}24.674011 & 12.3370055 & 12.3370055 & 12.3370055 & 12.3370055 & 0\\\\12.3370055 & 24.674011 & 12.3370055 & 12.3370055 & 0 & 12.3370055\\\\12.3370055 & 12.3370055 & 24.674011 & 0 & 12.3370055 & 12.3370055\\\\12.3370055 & 12.3370055 & 0 & 24.674011 & 12.3370055 & 12.3370055\\\\12.3370055 & 0 & 12.3370055 & 12.3370055 & 24.674011 & 12.3370055\\\\0 & 12.3370055 & 12.3370055 & 12.3370055 & 12.3370055 & 24.674011\\end{matrix}\\right]$"
      ],
      "text/plain": [
       "Matrix([\n",
       "[ 24.674011, 12.3370055, 12.3370055, 12.3370055, 12.3370055,          0],\n",
       "[12.3370055,  24.674011, 12.3370055, 12.3370055,          0, 12.3370055],\n",
       "[12.3370055, 12.3370055,  24.674011,          0, 12.3370055, 12.3370055],\n",
       "[12.3370055, 12.3370055,          0,  24.674011, 12.3370055, 12.3370055],\n",
       "[12.3370055,          0, 12.3370055, 12.3370055,  24.674011, 12.3370055],\n",
       "[         0, 12.3370055, 12.3370055, 12.3370055, 12.3370055,  24.674011]])"
      ]
     },
     "execution_count": 21,
     "metadata": {},
     "output_type": "execute_result"
    }
   ],
   "source": [
    "A = sp.Matrix(H)\n",
    "A"
   ]
  },
  {
   "cell_type": "code",
   "execution_count": 22,
   "metadata": {},
   "outputs": [
    {
     "data": {
      "text/plain": [
       "{74.0220330000000: 1,\n",
       " 24.6740110000000: 3,\n",
       " -2.47459564550276e-63: 1,\n",
       " 3.47273682728984e-63: 1}"
      ]
     },
     "execution_count": 22,
     "metadata": {},
     "output_type": "execute_result"
    }
   ],
   "source": [
    "autovalores = A.eigenvals()\n",
    "autovalores"
   ]
  },
  {
   "cell_type": "code",
   "execution_count": 23,
   "metadata": {},
   "outputs": [
    {
     "name": "stdout",
     "output_type": "stream",
     "text": [
      "Autovalores del hamiltoniano: [1.39036889e-15 6.15914768e-15 2.46740110e+01 2.46740110e+01\n",
      " 2.46740110e+01 7.40220330e+01]\n"
     ]
    }
   ],
   "source": [
    "eigenvalues, eigenvectors = np.linalg.eigh(H)\n",
    "print(\"Autovalores del hamiltoniano:\", eigenvalues)"
   ]
  },
  {
   "cell_type": "code",
   "execution_count": null,
   "metadata": {},
   "outputs": [],
   "source": []
  },
  {
   "cell_type": "code",
   "execution_count": null,
   "metadata": {},
   "outputs": [],
   "source": []
  },
  {
   "cell_type": "code",
   "execution_count": 24,
   "metadata": {},
   "outputs": [
    {
     "name": "stdout",
     "output_type": "stream",
     "text": [
      "[1, 1, 0]\n",
      "[1, 1, 0]\n",
      "1.0 0 0 0 0\n",
      "[1, 1, 0]\n",
      "[1, 1, 0]\n",
      "2.0 0 0 1 1\n",
      "[1, 1, 0]\n",
      "[0, 1, 1]\n",
      "-0.67 0 1 1 1\n",
      "[1, 1, 0]\n",
      "[1, 0, 1]\n",
      "0.33 0 2 0 0\n",
      "[0, 1, 1]\n",
      "[1, 1, 0]\n",
      "-0.67 1 0 1 1\n",
      "[0, 1, 1]\n",
      "[0, 1, 1]\n",
      "2.0 1 1 1 1\n",
      "[0, 1, 1]\n",
      "[0, 1, 1]\n",
      "3.0 1 1 2 2\n",
      "[0, 1, 1]\n",
      "[1, 0, 1]\n",
      "1.0 1 2 2 2\n",
      "[1, 0, 1]\n",
      "[1, 1, 0]\n",
      "0.33 2 0 0 0\n",
      "[1, 0, 1]\n",
      "[0, 1, 1]\n",
      "1.0 2 1 2 2\n",
      "[1, 0, 1]\n",
      "[1, 0, 1]\n",
      "1.0 2 2 0 0\n",
      "[1, 0, 1]\n",
      "[1, 0, 1]\n",
      "3.0 2 2 2 2\n"
     ]
    },
    {
     "data": {
      "text/latex": [
       "$\\displaystyle \\left[\\begin{matrix}3.0 & -0.666666666666667 & 0.333333333333333\\\\-0.666666666666667 & 5.0 & 1.0\\\\0.333333333333333 & 1.0 & 4.0\\end{matrix}\\right]$"
      ],
      "text/plain": [
       "Matrix([\n",
       "[               3.0, -0.666666666666667, 0.333333333333333],\n",
       "[-0.666666666666667,                5.0,               1.0],\n",
       "[ 0.333333333333333,                1.0,               4.0]])"
      ]
     },
     "execution_count": 24,
     "metadata": {},
     "output_type": "execute_result"
    }
   ],
   "source": [
    "# h_pq = np.array([[ 4.9348022]])\n",
    "h_pq = np.array([[1, 0, 0],\n",
    "                 [0, 2, 0],\n",
    "                 [0, 0, 3]])\n",
    "\n",
    "\n",
    "vectors = [[1, 1, 0],\n",
    "           [0, 1, 1],\n",
    "           [1, 0, 1]]\n",
    "vector = [1, 1, 0]\n",
    "\n",
    "for i in range(4):\n",
    "    globals()[f'a_dagger_{i}'] = a_dagger_i(i, vector)\n",
    "    globals()[f'a_{i}'] = a_i(i, vector)\n",
    "\n",
    "omega = 1 / np.sqrt(3) * np.array([1, 0, 1, 0, 1, 0])\n",
    "# omega = np.array([0, 1, 0, 1, 0, 1, 0, 1])\n",
    "\n",
    "H = np.zeros((3, 3))\n",
    "\n",
    "for i, vector_i in enumerate(vectors):\n",
    "    for j, vector_j in enumerate(vectors):\n",
    "\n",
    "        vector_j = list(vector_j)\n",
    "        vector_j.reverse()\n",
    "\n",
    "        for p in range(len(h_pq)):\n",
    "            for q in range(len(h_pq)):\n",
    "                if h_pq[p][q] != 0:\n",
    "                    # print(i, j, p, q)\n",
    "                    \n",
    "                    I_0 = I\n",
    "                    I_1 = I\n",
    "                    I_2 = I\n",
    "                    # I_3 = I\n",
    "                    # I_4 = I\n",
    "                    # I_5 = I\n",
    "\n",
    "                    for n, value in enumerate(vector_j):\n",
    "                        if value == 1:\n",
    "                            vector_j_rev = list(vector_j)\n",
    "                            vector_j_rev.reverse()\n",
    "                            m = len(vector_j) - 1 - n\n",
    "                            globals()[f'I_{m}'] = np.dot(globals()[f'I_{m}'], a_i(m, vector_j_rev))\n",
    "\n",
    "                    globals()[f'I_{p}'] = np.dot(globals()[f'I_{p}'], globals()[f'a_dagger_{p}'])\n",
    "                    globals()[f'I_{q}'] = np.dot(globals()[f'I_{q}'], globals()[f'a_{q}'])\n",
    "\n",
    "                    for n, value in enumerate(vector_i):\n",
    "                        if value == 1:\n",
    "                            globals()[f'I_{n}'] = np.dot(globals()[f'I_{n}'], a_dagger_i(n, vector_i))\n",
    "                    \n",
    "\n",
    "                    n = int(len(omega) / 2)\n",
    "                    size = 2 * n \n",
    "                    matriz_grande = np.zeros((size, size))\n",
    "\n",
    "                    for t, submatriz in enumerate([I_0, I_1, I_2]):\n",
    "                        fila_inicio = 2 * t\n",
    "                        col_inicio = 2 * t\n",
    "                        matriz_grande[fila_inicio:fila_inicio+2, col_inicio:col_inicio+2] = submatriz\n",
    "                    # print(matriz_grande)\n",
    "                    \n",
    "                    \n",
    "                    if vector_i[p] == 1 and vector_j_rev[q] == 1:\n",
    "                        print(vector_i)\n",
    "                        print(vector_j_rev)\n",
    "                        print(round(np.dot(omega, np.dot(matriz_grande, omega.T)) * h_pq[p][q], 2), i, j, p, q)\n",
    "                        H[i][j] += np.dot(omega, np.dot(matriz_grande, omega.T)) * h_pq[p][q]\n",
    "    \n",
    "A = sp.Matrix(H)\n",
    "A"
   ]
  },
  {
   "cell_type": "code",
   "execution_count": 25,
   "metadata": {},
   "outputs": [
    {
     "data": {
      "text/plain": [
       "{5.67934766600044: 1, 2.49670043054909: 1, 3.82395190345048: 1}"
      ]
     },
     "execution_count": 25,
     "metadata": {},
     "output_type": "execute_result"
    }
   ],
   "source": [
    "A.eigenvals()"
   ]
  },
  {
   "cell_type": "code",
   "execution_count": 26,
   "metadata": {},
   "outputs": [
    {
     "data": {
      "text/plain": [
       "array([0.57735027, 0.        , 0.57735027, 0.        , 0.57735027,\n",
       "       0.        ])"
      ]
     },
     "execution_count": 26,
     "metadata": {},
     "output_type": "execute_result"
    }
   ],
   "source": [
    "omega"
   ]
  }
 ],
 "metadata": {
  "kernelspec": {
   "display_name": "tfg_env",
   "language": "python",
   "name": "python3"
  },
  "language_info": {
   "codemirror_mode": {
    "name": "ipython",
    "version": 3
   },
   "file_extension": ".py",
   "mimetype": "text/x-python",
   "name": "python",
   "nbconvert_exporter": "python",
   "pygments_lexer": "ipython3",
   "version": "3.10.12"
  }
 },
 "nbformat": 4,
 "nbformat_minor": 2
}

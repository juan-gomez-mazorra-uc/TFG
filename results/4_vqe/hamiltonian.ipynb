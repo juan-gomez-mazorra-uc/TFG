{
 "cells": [
  {
   "cell_type": "code",
   "execution_count": 59,
   "metadata": {},
   "outputs": [],
   "source": [
    "import numpy as np\n",
    "import sympy as sp\n",
    "from qiskit.quantum_info import Operator, SparsePauliOp\n",
    "from qiskit_nature.second_q.mappers import JordanWignerMapper\n",
    "from qiskit_nature.second_q.hamiltonians import ElectronicEnergy"
   ]
  },
  {
   "cell_type": "markdown",
   "metadata": {},
   "source": [
    "### Obtención del Hamiltoniano empleando Qiskit Nature"
   ]
  },
  {
   "cell_type": "code",
   "execution_count": 60,
   "metadata": {},
   "outputs": [],
   "source": [
    "N = 2\n",
    "L = 1\n",
    "v_0 = 1\n",
    "\n",
    "\n",
    "def well_wavefunction(n, L, x = sp.Symbol('x')):\n",
    "    \"\"\"\n",
    "    Calcula la función de onda para un estado dado (n) en un pozo de potencial infinito.\n",
    "    \n",
    "    Parámetros:\n",
    "        n (int): Estado cuántico del electrón.\n",
    "    \n",
    "    Retorna:\n",
    "        La función de onda.\n",
    "    \"\"\"\n",
    "    \n",
    "    # Factor de normalización\n",
    "    normalization_factor = sp.sqrt(2/L)\n",
    "    \n",
    "    # Función de onda radial\n",
    "    well_wavefunction = normalization_factor * sp.sin(n*sp.pi*x/L)\n",
    "    \n",
    "    return well_wavefunction\n",
    "\n",
    "\n",
    "def hamiltonian_interaction(L, N = 3, v_0 = 1):\n",
    "    h_pq = []\n",
    "\n",
    "    for i in range(1, N+1):\n",
    "        h_pq.append([])\n",
    "        for j in range(1, N+1):\n",
    "            globals()[f'h_{i}{j}'] = -1/2 * sp.integrate(globals()[f'phi_{i}']*globals()[f'dd_phi_{j}'], (x, 0, L))\n",
    "            h_pq[i-1].append(globals()[f'h_{i}{j}'])\n",
    "\n",
    "    size = len(h_pq)\n",
    "    \n",
    "    g_pqrs = np.zeros((size, size, size, size))\n",
    "\n",
    "    for i in range(N):\n",
    "        for j in range(N):\n",
    "            for k in range(N):\n",
    "                for l in range(N):\n",
    "                    globals()[f'h_{i}{j}{k}{l}'] = v_0*\\\n",
    "                                                   globals()[f'phi_{i+1}_1']*globals()[f'phi_{j+1}_2']*\\\n",
    "                                                   globals()[f'phi_{k+1}_2']*globals()[f'phi_{l+1}_1']\n",
    "\n",
    "                    g_pqrs[i][j][k][l] = sp.integrate(globals()[f'h_{i}{j}{k}{l}'], (x_1, 0, L))\n",
    "\n",
    "    h_pq = np.array(h_pq, dtype=float)\n",
    "    g_pqrs = np.array(g_pqrs, dtype=float)\n",
    "\n",
    "    return h_pq, g_pqrs\n",
    "\n",
    "\n",
    "n_max = 8\n",
    "x = sp.Symbol('x')\n",
    "x_1 = sp.Symbol('x_1')\n",
    "\n",
    "for n in range(1, n_max+1):\n",
    "    for l in range(n):\n",
    "        globals()[f'phi_{n}'] = well_wavefunction(n, L)\n",
    "        globals()[f'dd_phi_{n}'] = sp.diff(globals()[f'phi_{n}'], x, x)\n",
    "\n",
    "for n in range(1, n_max+1):\n",
    "    for l in range(n):\n",
    "        globals()[f'phi_{n}_1'] = well_wavefunction(n, L, sp.Symbol('x_1'))\n",
    "        globals()[f'phi_{n}_2'] = well_wavefunction(n, L, sp.Symbol('x_1'))\n",
    "\n",
    "    \n",
    "h_pq, g_pqrs = hamiltonian_interaction(L, N, v_0)"
   ]
  },
  {
   "cell_type": "code",
   "execution_count": 61,
   "metadata": {},
   "outputs": [
    {
     "data": {
      "text/plain": [
       "array([[ 4.9348022,  0.       ],\n",
       "       [ 0.       , 19.7392088]])"
      ]
     },
     "execution_count": 61,
     "metadata": {},
     "output_type": "execute_result"
    }
   ],
   "source": [
    "h_pq"
   ]
  },
  {
   "cell_type": "code",
   "execution_count": 62,
   "metadata": {},
   "outputs": [
    {
     "data": {
      "text/plain": [
       "array([[[[1.5, 0. ],\n",
       "         [0. , 1. ]],\n",
       "\n",
       "        [[0. , 1. ],\n",
       "         [1. , 0. ]]],\n",
       "\n",
       "\n",
       "       [[[0. , 1. ],\n",
       "         [1. , 0. ]],\n",
       "\n",
       "        [[1. , 0. ],\n",
       "         [0. , 1.5]]]])"
      ]
     },
     "execution_count": 62,
     "metadata": {},
     "output_type": "execute_result"
    }
   ],
   "source": [
    "g_pqrs"
   ]
  },
  {
   "cell_type": "code",
   "execution_count": 63,
   "metadata": {},
   "outputs": [],
   "source": [
    "hamiltonian = ElectronicEnergy.from_raw_integrals(h_pq, g_pqrs)\n",
    "\n",
    "# Pasamos el hamiltoniano a terminos de operadores de qubit con el mapper\n",
    "mapper = JordanWignerMapper()\n",
    "fermionic_op = hamiltonian.second_q_op()\n",
    "qubit_op = mapper.map(fermionic_op)"
   ]
  },
  {
   "cell_type": "markdown",
   "metadata": {},
   "source": [
    "Hamiltoniano expresado en términos de las matrices de Pauli"
   ]
  },
  {
   "cell_type": "code",
   "execution_count": 64,
   "metadata": {},
   "outputs": [
    {
     "data": {
      "text/plain": [
       "PauliList(['IIII', 'IIIZ', 'IIZI', 'IZII', 'ZIII', 'IZIZ', 'YYYY',\n",
       "           'XXYY', 'YYXX', 'XXXX', 'ZIIZ', 'IZZI', 'ZIZI'])"
      ]
     },
     "execution_count": 64,
     "metadata": {},
     "output_type": "execute_result"
    }
   ],
   "source": [
    "qubit_op.paulis"
   ]
  },
  {
   "cell_type": "code",
   "execution_count": 65,
   "metadata": {},
   "outputs": [
    {
     "data": {
      "text/plain": [
       "array([ 25.924011 +0.j,  -3.0924011+0.j, -10.4946044+0.j,  -3.0924011+0.j,\n",
       "       -10.4946044+0.j,   0.375    +0.j,   0.25     +0.j,   0.25     +0.j,\n",
       "         0.25     +0.j,   0.25     +0.j,   0.25     +0.j,   0.25     +0.j,\n",
       "         0.375    +0.j])"
      ]
     },
     "execution_count": 65,
     "metadata": {},
     "output_type": "execute_result"
    }
   ],
   "source": [
    "qubit_op.coeffs"
   ]
  },
  {
   "cell_type": "markdown",
   "metadata": {},
   "source": [
    "### Obtención del Hamiltoniano empleando directamente la segunda cuantización"
   ]
  },
  {
   "cell_type": "code",
   "execution_count": 66,
   "metadata": {},
   "outputs": [],
   "source": [
    "import matrix"
   ]
  },
  {
   "cell_type": "code",
   "execution_count": 67,
   "metadata": {},
   "outputs": [],
   "source": [
    "L = 1\n",
    "v_0 = 1\n",
    "\n",
    "# Creamos las matriz h_pq\n",
    "h_pq = matrix.buildHPQ(L)\n",
    "# We create the hpqrs matrix\n",
    "g_pqrs = matrix.buildGPQRS(v_0, L)"
   ]
  },
  {
   "cell_type": "code",
   "execution_count": 68,
   "metadata": {},
   "outputs": [
    {
     "data": {
      "text/plain": [
       "array([[ 4.9348022,  0.       ,  0.       ,  0.       ],\n",
       "       [ 0.       ,  4.9348022,  0.       ,  0.       ],\n",
       "       [ 0.       ,  0.       , 19.7392088,  0.       ],\n",
       "       [ 0.       ,  0.       ,  0.       , 19.7392088]])"
      ]
     },
     "execution_count": 68,
     "metadata": {},
     "output_type": "execute_result"
    }
   ],
   "source": [
    "h_pq"
   ]
  },
  {
   "cell_type": "code",
   "execution_count": 69,
   "metadata": {},
   "outputs": [
    {
     "data": {
      "text/plain": [
       "array([[[[1.5, 0. , 0. , 0. ],\n",
       "         [0. , 0. , 0. , 0. ],\n",
       "         [0. , 0. , 1. , 0. ],\n",
       "         [0. , 0. , 0. , 0. ]],\n",
       "\n",
       "        [[0. , 0. , 0. , 0. ],\n",
       "         [1.5, 0. , 0. , 0. ],\n",
       "         [0. , 0. , 0. , 0. ],\n",
       "         [0. , 0. , 1. , 0. ]],\n",
       "\n",
       "        [[0. , 0. , 1. , 0. ],\n",
       "         [0. , 0. , 0. , 0. ],\n",
       "         [1. , 0. , 0. , 0. ],\n",
       "         [0. , 0. , 0. , 0. ]],\n",
       "\n",
       "        [[0. , 0. , 0. , 0. ],\n",
       "         [0. , 0. , 1. , 0. ],\n",
       "         [0. , 0. , 0. , 0. ],\n",
       "         [1. , 0. , 0. , 0. ]]],\n",
       "\n",
       "\n",
       "       [[[0. , 1.5, 0. , 0. ],\n",
       "         [0. , 0. , 0. , 0. ],\n",
       "         [0. , 0. , 0. , 1. ],\n",
       "         [0. , 0. , 0. , 0. ]],\n",
       "\n",
       "        [[0. , 0. , 0. , 0. ],\n",
       "         [0. , 1.5, 0. , 0. ],\n",
       "         [0. , 0. , 0. , 0. ],\n",
       "         [0. , 0. , 0. , 1. ]],\n",
       "\n",
       "        [[0. , 0. , 0. , 1. ],\n",
       "         [0. , 0. , 0. , 0. ],\n",
       "         [0. , 1. , 0. , 0. ],\n",
       "         [0. , 0. , 0. , 0. ]],\n",
       "\n",
       "        [[0. , 0. , 0. , 0. ],\n",
       "         [0. , 0. , 0. , 1. ],\n",
       "         [0. , 0. , 0. , 0. ],\n",
       "         [0. , 1. , 0. , 0. ]]],\n",
       "\n",
       "\n",
       "       [[[0. , 0. , 1. , 0. ],\n",
       "         [0. , 0. , 0. , 0. ],\n",
       "         [1. , 0. , 0. , 0. ],\n",
       "         [0. , 0. , 0. , 0. ]],\n",
       "\n",
       "        [[0. , 0. , 0. , 0. ],\n",
       "         [0. , 0. , 1. , 0. ],\n",
       "         [0. , 0. , 0. , 0. ],\n",
       "         [1. , 0. , 0. , 0. ]],\n",
       "\n",
       "        [[1. , 0. , 0. , 0. ],\n",
       "         [0. , 0. , 0. , 0. ],\n",
       "         [0. , 0. , 1.5, 0. ],\n",
       "         [0. , 0. , 0. , 0. ]],\n",
       "\n",
       "        [[0. , 0. , 0. , 0. ],\n",
       "         [1. , 0. , 0. , 0. ],\n",
       "         [0. , 0. , 0. , 0. ],\n",
       "         [0. , 0. , 1.5, 0. ]]],\n",
       "\n",
       "\n",
       "       [[[0. , 0. , 0. , 1. ],\n",
       "         [0. , 0. , 0. , 0. ],\n",
       "         [0. , 1. , 0. , 0. ],\n",
       "         [0. , 0. , 0. , 0. ]],\n",
       "\n",
       "        [[0. , 0. , 0. , 0. ],\n",
       "         [0. , 0. , 0. , 1. ],\n",
       "         [0. , 0. , 0. , 0. ],\n",
       "         [0. , 1. , 0. , 0. ]],\n",
       "\n",
       "        [[0. , 1. , 0. , 0. ],\n",
       "         [0. , 0. , 0. , 0. ],\n",
       "         [0. , 0. , 0. , 1.5],\n",
       "         [0. , 0. , 0. , 0. ]],\n",
       "\n",
       "        [[0. , 0. , 0. , 0. ],\n",
       "         [0. , 1. , 0. , 0. ],\n",
       "         [0. , 0. , 0. , 0. ],\n",
       "         [0. , 0. , 0. , 1.5]]]])"
      ]
     },
     "execution_count": 69,
     "metadata": {},
     "output_type": "execute_result"
    }
   ],
   "source": [
    "g_pqrs"
   ]
  },
  {
   "cell_type": "code",
   "execution_count": 70,
   "metadata": {},
   "outputs": [],
   "source": [
    "# Creamos los operadores de creación y destrucción\n",
    "A, Ap = matrix.LcreateOperators()\n",
    "\n",
    "# Creamos el Hamiltoniano de una partícula \n",
    "Hsingle = matrix.LbuildSingleParticleH(h_pq, A, Ap)\n",
    "    \n",
    "# Creamos el Hamiltoniano de dos partículas \n",
    "Hdouble = matrix.LbuildDoubleParticleH(g_pqrs, A, Ap)\n",
    "H = Hsingle + 1/2 * Hdouble"
   ]
  },
  {
   "cell_type": "code",
   "execution_count": 71,
   "metadata": {},
   "outputs": [
    {
     "data": {
      "text/latex": [
       "$\\displaystyle \\left[\\begin{array}{cccccccccccccccc}54.3480220054468 & 0 & 0 & 0 & 0 & 0 & 0 & 0 & 0 & 0 & 0 & 0 & 0 & 0 & 0 & 0\\\\0 & 32.1088132032681 & 0 & 0 & 0 & 0 & 0 & 0 & 0 & 0 & 0 & 0 & 0 & 0 & 0 & 0\\\\0 & 0 & 32.1088132032681 & 0 & 0 & 0 & 0 & 0 & 0 & 0 & 0 & 0 & 0 & 0 & 0 & 0\\\\0 & 0 & 0 & 11.3696044010894 & 0 & 0 & 0 & 0 & 0 & 0 & 0 & 0 & 1.0 & 0 & 0 & 0\\\\0 & 0 & 0 & 0 & 46.9132198049021 & 0 & 0 & 0 & 0 & 0 & 0 & 0 & 0 & 0 & 0 & 0\\\\0 & 0 & 0 & 0 & 0 & 24.6740110027234 & 0 & 0 & 0 & 0 & 0 & 0 & 0 & 0 & 0 & 0\\\\0 & 0 & 0 & 0 & 0 & 0 & 25.6740110027234 & 0 & 0 & -1.0 & 0 & 0 & 0 & 0 & 0 & 0\\\\0 & 0 & 0 & 0 & 0 & 0 & 0 & 4.93480220054468 & 0 & 0 & 0 & 0 & 0 & 0 & 0 & 0\\\\0 & 0 & 0 & 0 & 0 & 0 & 0 & 0 & 46.9132198049021 & 0 & 0 & 0 & 0 & 0 & 0 & 0\\\\0 & 0 & 0 & 0 & 0 & 0 & -1.0 & 0 & 0 & 25.6740110027234 & 0 & 0 & 0 & 0 & 0 & 0\\\\0 & 0 & 0 & 0 & 0 & 0 & 0 & 0 & 0 & 0 & 24.6740110027234 & 0 & 0 & 0 & 0 & 0\\\\0 & 0 & 0 & 0 & 0 & 0 & 0 & 0 & 0 & 0 & 0 & 4.93480220054468 & 0 & 0 & 0 & 0\\\\0 & 0 & 0 & 1.0 & 0 & 0 & 0 & 0 & 0 & 0 & 0 & 0 & 40.9784176043574 & 0 & 0 & 0\\\\0 & 0 & 0 & 0 & 0 & 0 & 0 & 0 & 0 & 0 & 0 & 0 & 0 & 19.7392088021787 & 0 & 0\\\\0 & 0 & 0 & 0 & 0 & 0 & 0 & 0 & 0 & 0 & 0 & 0 & 0 & 0 & 19.7392088021787 & 0\\\\0 & 0 & 0 & 0 & 0 & 0 & 0 & 0 & 0 & 0 & 0 & 0 & 0 & 0 & 0 & 0\\end{array}\\right]$"
      ],
      "text/plain": [
       "Matrix([\n",
       "[54.3480220054468,                0,                0,                0,                0,                0,                0,                0,                0,                0,                0,                0,                0,                0,                0, 0],\n",
       "[               0, 32.1088132032681,                0,                0,                0,                0,                0,                0,                0,                0,                0,                0,                0,                0,                0, 0],\n",
       "[               0,                0, 32.1088132032681,                0,                0,                0,                0,                0,                0,                0,                0,                0,                0,                0,                0, 0],\n",
       "[               0,                0,                0, 11.3696044010894,                0,                0,                0,                0,                0,                0,                0,                0,              1.0,                0,                0, 0],\n",
       "[               0,                0,                0,                0, 46.9132198049021,                0,                0,                0,                0,                0,                0,                0,                0,                0,                0, 0],\n",
       "[               0,                0,                0,                0,                0, 24.6740110027234,                0,                0,                0,                0,                0,                0,                0,                0,                0, 0],\n",
       "[               0,                0,                0,                0,                0,                0, 25.6740110027234,                0,                0,             -1.0,                0,                0,                0,                0,                0, 0],\n",
       "[               0,                0,                0,                0,                0,                0,                0, 4.93480220054468,                0,                0,                0,                0,                0,                0,                0, 0],\n",
       "[               0,                0,                0,                0,                0,                0,                0,                0, 46.9132198049021,                0,                0,                0,                0,                0,                0, 0],\n",
       "[               0,                0,                0,                0,                0,                0,             -1.0,                0,                0, 25.6740110027234,                0,                0,                0,                0,                0, 0],\n",
       "[               0,                0,                0,                0,                0,                0,                0,                0,                0,                0, 24.6740110027234,                0,                0,                0,                0, 0],\n",
       "[               0,                0,                0,                0,                0,                0,                0,                0,                0,                0,                0, 4.93480220054468,                0,                0,                0, 0],\n",
       "[               0,                0,                0,              1.0,                0,                0,                0,                0,                0,                0,                0,                0, 40.9784176043574,                0,                0, 0],\n",
       "[               0,                0,                0,                0,                0,                0,                0,                0,                0,                0,                0,                0,                0, 19.7392088021787,                0, 0],\n",
       "[               0,                0,                0,                0,                0,                0,                0,                0,                0,                0,                0,                0,                0,                0, 19.7392088021787, 0],\n",
       "[               0,                0,                0,                0,                0,                0,                0,                0,                0,                0,                0,                0,                0,                0,                0, 0]])"
      ]
     },
     "execution_count": 71,
     "metadata": {},
     "output_type": "execute_result"
    }
   ],
   "source": [
    "sp.Matrix(H)"
   ]
  },
  {
   "cell_type": "code",
   "execution_count": 72,
   "metadata": {},
   "outputs": [],
   "source": [
    "# Crear un operador a partir del Hamiltoniano\n",
    "operator = Operator(np.flip(H))\n",
    "qubit_op = SparsePauliOp.from_operator(operator)"
   ]
  },
  {
   "cell_type": "code",
   "execution_count": 73,
   "metadata": {},
   "outputs": [
    {
     "data": {
      "text/plain": [
       "PauliList(['IIII', 'IIIZ', 'IIZI', 'IIZZ', 'IZII', 'IZZI', 'XXYY',\n",
       "           'XYYX', 'YXXY', 'YYXX', 'ZIII', 'ZIIZ', 'ZZII'])"
      ]
     },
     "execution_count": 73,
     "metadata": {},
     "output_type": "execute_result"
    }
   ],
   "source": [
    "qubit_op.paulis"
   ]
  },
  {
   "cell_type": "code",
   "execution_count": 74,
   "metadata": {},
   "outputs": [
    {
     "data": {
      "text/plain": [
       "array([ 25.924011 +0.j, -10.4946044+0.j, -10.4946044+0.j,   0.375    +0.j,\n",
       "        -3.0924011+0.j,   0.25     +0.j,  -0.25     +0.j,   0.25     -0.j,\n",
       "         0.25     -0.j,  -0.25     +0.j,  -3.0924011+0.j,   0.25     +0.j,\n",
       "         0.375    +0.j])"
      ]
     },
     "execution_count": 74,
     "metadata": {},
     "output_type": "execute_result"
    }
   ],
   "source": [
    "qubit_op.coeffs"
   ]
  }
 ],
 "metadata": {
  "kernelspec": {
   "display_name": "tfg_env",
   "language": "python",
   "name": "python3"
  },
  "language_info": {
   "codemirror_mode": {
    "name": "ipython",
    "version": 3
   },
   "file_extension": ".py",
   "mimetype": "text/x-python",
   "name": "python",
   "nbconvert_exporter": "python",
   "pygments_lexer": "ipython3",
   "version": "3.10.12"
  }
 },
 "nbformat": 4,
 "nbformat_minor": 2
}

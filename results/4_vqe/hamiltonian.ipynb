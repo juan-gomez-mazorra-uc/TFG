{
 "cells": [
  {
   "cell_type": "code",
   "execution_count": 71,
   "metadata": {},
   "outputs": [],
   "source": [
    "import numpy as np\n",
    "from qiskit_nature.second_q.hamiltonians import ElectronicEnergy\n",
    "from qiskit_nature.second_q.mappers import JordanWignerMapper"
   ]
  },
  {
   "cell_type": "markdown",
   "metadata": {},
   "source": [
    "Hamiltoniano con las matrices one-body y two-body para V0 = 1"
   ]
  },
  {
   "cell_type": "code",
   "execution_count": 72,
   "metadata": {},
   "outputs": [],
   "source": [
    "# hpq = np.array([\n",
    "#     [ 4.9348022,  0.       ,  0.       ,  0.       ],\n",
    "#     [ 0.       ,  4.9348022,  0.       ,  0.       ],\n",
    "#     [ 0.       ,  0.       , 19.7392088,  0.       ],\n",
    "#     [ 0.       ,  0.       ,  0.       , 19.7392088]\n",
    "# ])\n",
    "\n",
    "hpq = np.array([\n",
    "    [ 4.9348022,  0.       ],\n",
    "    [ 0.       , 19.7392088]\n",
    "])"
   ]
  },
  {
   "cell_type": "code",
   "execution_count": 73,
   "metadata": {},
   "outputs": [],
   "source": [
    "# hpqrs = np.array([[[\n",
    "#          [1.5, 0. , 0. , 0. ],\n",
    "#          [0. , 0. , 0. , 0. ],\n",
    "#          [0. , 0. , 1. , 0. ],\n",
    "#          [0. , 0. , 0. , 0. ]],\n",
    "\n",
    "#         [[0. , 0. , 0. , 0. ],\n",
    "#          [1.5, 0. , 0. , 0. ],\n",
    "#          [0. , 0. , 0. , 0. ],\n",
    "#          [0. , 0. , 1. , 0. ]],\n",
    "\n",
    "#         [[0. , 0. , 1. , 0. ],\n",
    "#          [0. , 0. , 0. , 0. ],\n",
    "#          [1. , 0. , 0. , 0. ],\n",
    "#          [0. , 0. , 0. , 0. ]],\n",
    "\n",
    "#         [[0. , 0. , 0. , 0. ],\n",
    "#          [0. , 0. , 1. , 0. ],\n",
    "#          [0. , 0. , 0. , 0. ],\n",
    "#          [1. , 0. , 0. , 0. ]]],\n",
    "\n",
    "\n",
    "#        [[[0. , 1.5, 0. , 0. ],\n",
    "#          [0. , 0. , 0. , 0. ],\n",
    "#          [0. , 0. , 0. , 1. ],\n",
    "#          [0. , 0. , 0. , 0. ]],\n",
    "\n",
    "#         [[0. , 0. , 0. , 0. ],\n",
    "#          [0. , 1.5, 0. , 0. ],\n",
    "#          [0. , 0. , 0. , 0. ],\n",
    "#          [0. , 0. , 0. , 1. ]],\n",
    "\n",
    "#         [[0. , 0. , 0. , 1. ],\n",
    "#          [0. , 0. , 0. , 0. ],\n",
    "#          [0. , 1. , 0. , 0. ],\n",
    "#          [0. , 0. , 0. , 0. ]],\n",
    "\n",
    "#         [[0. , 0. , 0. , 0. ],\n",
    "#          [0. , 0. , 0. , 1. ],\n",
    "#          [0. , 0. , 0. , 0. ],\n",
    "#          [0. , 1. , 0. , 0. ]]],\n",
    "\n",
    "\n",
    "#        [[[0. , 0. , 1. , 0. ],\n",
    "#          [0. , 0. , 0. , 0. ],\n",
    "#          [1. , 0. , 0. , 0. ],\n",
    "#          [0. , 0. , 0. , 0. ]],\n",
    "\n",
    "#         [[0. , 0. , 0. , 0. ],\n",
    "#          [0. , 0. , 1. , 0. ],\n",
    "#          [0. , 0. , 0. , 0. ],\n",
    "#          [1. , 0. , 0. , 0. ]],\n",
    "\n",
    "#         [[1. , 0. , 0. , 0. ],\n",
    "#          [0. , 0. , 0. , 0. ],\n",
    "#          [0. , 0. , 1.5, 0. ],\n",
    "#          [0. , 0. , 0. , 0. ]],\n",
    "\n",
    "#         [[0. , 0. , 0. , 0. ],\n",
    "#          [1. , 0. , 0. , 0. ],\n",
    "#          [0. , 0. , 0. , 0. ],\n",
    "#          [0. , 0. , 1.5, 0. ]]],\n",
    "\n",
    "\n",
    "#        [[[0. , 0. , 0. , 1. ],\n",
    "#          [0. , 0. , 0. , 0. ],\n",
    "#          [0. , 1. , 0. , 0. ],\n",
    "#          [0. , 0. , 0. , 0. ]],\n",
    "\n",
    "#         [[0. , 0. , 0. , 0. ],\n",
    "#          [0. , 0. , 0. , 1. ],\n",
    "#          [0. , 0. , 0. , 0. ],\n",
    "#          [0. , 1. , 0. , 0. ]],\n",
    "\n",
    "#         [[0. , 1. , 0. , 0. ],\n",
    "#          [0. , 0. , 0. , 0. ],\n",
    "#          [0. , 0. , 0. , 1.5],\n",
    "#          [0. , 0. , 0. , 0. ]],\n",
    "\n",
    "#         [[0. , 0. , 0. , 0. ],\n",
    "#          [0. , 1. , 0. , 0. ],\n",
    "#          [0. , 0. , 0. , 0. ],\n",
    "#          [0. , 0. , 0. , 1.5]]]])\n",
    "\n",
    "hpqrs = np.array([[[\n",
    "         [1.5, 0. ],\n",
    "         [0. , 1. ]],\n",
    "\n",
    "        [[0. , 1. ],\n",
    "         [1. , 0. ]]],\n",
    "\n",
    "\n",
    "       [[[0. , 1. ],\n",
    "         [1. , 0. ]],\n",
    "\n",
    "        [[1. , 0. ],\n",
    "         [0. , 1.5]]]])"
   ]
  },
  {
   "cell_type": "code",
   "execution_count": 74,
   "metadata": {},
   "outputs": [],
   "source": [
    "h1_a = np.array(hpq, dtype=float)\n",
    "h2_aa = np.array(hpqrs, dtype=float)\n",
    "hamiltonian = ElectronicEnergy.from_raw_integrals(h1_a, h2_aa)\n",
    "\n",
    "# Pasamos el hamiltoniano a terminos de operadores de qubit con el mapper\n",
    "mapper = JordanWignerMapper()\n",
    "fermionic_op = hamiltonian.second_q_op()\n",
    "qubit_op = mapper.map(fermionic_op)"
   ]
  },
  {
   "cell_type": "code",
   "execution_count": 75,
   "metadata": {},
   "outputs": [
    {
     "data": {
      "text/plain": [
       "PauliList(['IIII', 'IIZI', 'IIIZ', 'IZII', 'IZIZ', 'YYYY', 'XXYY',\n",
       "           'YYXX', 'XXXX', 'ZIII', 'ZIIZ', 'IZZI', 'ZIZI'])"
      ]
     },
     "execution_count": 75,
     "metadata": {},
     "output_type": "execute_result"
    }
   ],
   "source": [
    "qubit_op.paulis"
   ]
  },
  {
   "cell_type": "code",
   "execution_count": 76,
   "metadata": {},
   "outputs": [
    {
     "data": {
      "text/plain": [
       "array([ 25.924011 +0.j, -10.4946044+0.j,  -3.0924011+0.j,  -3.0924011+0.j,\n",
       "         0.375    +0.j,   0.25     +0.j,   0.25     +0.j,   0.25     +0.j,\n",
       "         0.25     +0.j, -10.4946044+0.j,   0.25     +0.j,   0.25     +0.j,\n",
       "         0.375    +0.j])"
      ]
     },
     "execution_count": 76,
     "metadata": {},
     "output_type": "execute_result"
    }
   ],
   "source": [
    "qubit_op.coeffs"
   ]
  },
  {
   "cell_type": "code",
   "execution_count": 77,
   "metadata": {},
   "outputs": [
    {
     "data": {
      "text/plain": [
       "<qiskit_nature.second_q.hamiltonians.electronic_energy.ElectronicEnergy at 0x7f785bfbd570>"
      ]
     },
     "execution_count": 77,
     "metadata": {},
     "output_type": "execute_result"
    }
   ],
   "source": [
    "hamiltonian"
   ]
  },
  {
   "cell_type": "markdown",
   "metadata": {},
   "source": [
    "Hamiltoniano de todo el sistema para V0 = 1"
   ]
  },
  {
   "cell_type": "code",
   "execution_count": 78,
   "metadata": {},
   "outputs": [],
   "source": [
    "from qiskit.quantum_info import Operator, SparsePauliOp\n",
    "import numpy as np\n",
    "\n",
    "# Definir la matriz de Hamiltoniano\n",
    "H = np.array([\n",
    "    [54.34802201, 0, 0, 0, 0, 0, 0, 0, 0, 0, 0, 0, 0, 0, 0, 0],\n",
    "    [0, 32.1088132, 0, 0, 0, 0, 0, 0, 0, 0, 0, 0, 0, 0, 0, 0],\n",
    "    [0, 0, 32.1088132, 0, 0, 0, 0, 0, 0, 0, 0, 0, 0, 0, 0, 0],\n",
    "    [0, 0, 0, 11.3696044, 0, 0, 0, 0, 0, 0, 0, 0, 1, 0, 0, 0],\n",
    "    [0, 0, 0, 0, 46.9132198, 0, 0, 0, 0, 0, 0, 0, 0, 0, 0, 0],\n",
    "    [0, 0, 0, 0, 0, 24.674011, 0, 0, 0, 0, 0, 0, 0, 0, 0, 0],\n",
    "    [0, 0, 0, 0, 0, 0, 25.674011, 0, 0, -1, 0, 0, 0, 0, 0, 0],\n",
    "    [0, 0, 0, 0, 0, 0, 0, 4.9348022, 0, 0, 0, 0, 0, 0, 0, 0],\n",
    "    [0, 0, 0, 0, 0, 0, 0, 0, 46.9132198, 0, 0, 0, 0, 0, 0, 0],\n",
    "    [0, 0, 0, 0, 0, 0, -1, 0, 0, 25.674011, 0, 0, 0, 0, 0, 0],\n",
    "    [0, 0, 0, 0, 0, 0, 0, 0, 0, 0, 24.674011, 0, 0, 0, 0, 0],\n",
    "    [0, 0, 0, 0, 0, 0, 0, 0, 0, 0, 0, 4.9348022, 0, 0, 0, 0],\n",
    "    [0, 0, 0, 1, 0, 0, 0, 0, 0, 0, 0, 0, 40.9784176, 0, 0, 0],\n",
    "    [0, 0, 0, 0, 0, 0, 0, 0, 0, 0, 0, 0, 0, 19.7392088, 0, 0],\n",
    "    [0, 0, 0, 0, 0, 0, 0, 0, 0, 0, 0, 0, 0, 0, 19.7392088, 0],\n",
    "    [0, 0, 0, 0, 0, 0, 0, 0, 0, 0, 0, 0, 0, 0, 0, 0]\n",
    "])\n",
    "\n",
    "# Crear un operador a partir de la matriz Hamiltoniana\n",
    "operator = Operator(H)\n",
    "\n",
    "pauli_op = SparsePauliOp.from_operator(operator)"
   ]
  },
  {
   "cell_type": "code",
   "execution_count": 79,
   "metadata": {},
   "outputs": [
    {
     "data": {
      "text/plain": [
       "PauliList(['IIII', 'IIZI', 'IIIZ', 'IZII', 'IZIZ', 'YYYY', 'XXYY',\n",
       "           'YYXX', 'XXXX', 'ZIII', 'ZIIZ', 'IZZI', 'ZIZI'])"
      ]
     },
     "execution_count": 79,
     "metadata": {},
     "output_type": "execute_result"
    }
   ],
   "source": [
    "qubit_op.paulis"
   ]
  },
  {
   "cell_type": "code",
   "execution_count": 80,
   "metadata": {},
   "outputs": [
    {
     "data": {
      "text/plain": [
       "array([ 25.924011 +0.j, -10.4946044+0.j,  -3.0924011+0.j,  -3.0924011+0.j,\n",
       "         0.375    +0.j,   0.25     +0.j,   0.25     +0.j,   0.25     +0.j,\n",
       "         0.25     +0.j, -10.4946044+0.j,   0.25     +0.j,   0.25     +0.j,\n",
       "         0.375    +0.j])"
      ]
     },
     "execution_count": 80,
     "metadata": {},
     "output_type": "execute_result"
    }
   ],
   "source": [
    "qubit_op.coeffs"
   ]
  }
 ],
 "metadata": {
  "kernelspec": {
   "display_name": "tfg_env",
   "language": "python",
   "name": "python3"
  },
  "language_info": {
   "codemirror_mode": {
    "name": "ipython",
    "version": 3
   },
   "file_extension": ".py",
   "mimetype": "text/x-python",
   "name": "python",
   "nbconvert_exporter": "python",
   "pygments_lexer": "ipython3",
   "version": "3.10.12"
  }
 },
 "nbformat": 4,
 "nbformat_minor": 2
}

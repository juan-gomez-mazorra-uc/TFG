{
 "cells": [
  {
   "cell_type": "code",
   "execution_count": 37,
   "metadata": {},
   "outputs": [],
   "source": [
    "import numpy as np\n",
    "from qiskit_nature.second_q.hamiltonians import ElectronicEnergy\n",
    "from qiskit_nature.second_q.mappers import JordanWignerMapper"
   ]
  },
  {
   "cell_type": "markdown",
   "metadata": {},
   "source": [
    "Hamiltoniano con las matrices one-body y two-body para V0 = 1"
   ]
  },
  {
   "cell_type": "code",
   "execution_count": 38,
   "metadata": {},
   "outputs": [],
   "source": [
    "hpq = np.array([\n",
    "    [ 4.9348022,  0.       ,  0.       ,  0.       ],\n",
    "    [ 0.       ,  4.9348022,  0.       ,  0.       ],\n",
    "    [ 0.       ,  0.       , 19.7392088,  0.       ],\n",
    "    [ 0.       ,  0.       ,  0.       , 19.7392088]\n",
    "])"
   ]
  },
  {
   "cell_type": "code",
   "execution_count": 39,
   "metadata": {},
   "outputs": [],
   "source": [
    "hpqrs = np.array([[[\n",
    "         [1.5, 0. , 0. , 0. ],\n",
    "         [0. , 0. , 0. , 0. ],\n",
    "         [0. , 0. , 1. , 0. ],\n",
    "         [0. , 0. , 0. , 0. ]],\n",
    "\n",
    "        [[0. , 0. , 0. , 0. ],\n",
    "         [1.5, 0. , 0. , 0. ],\n",
    "         [0. , 0. , 0. , 0. ],\n",
    "         [0. , 0. , 1. , 0. ]],\n",
    "\n",
    "        [[0. , 0. , 1. , 0. ],\n",
    "         [0. , 0. , 0. , 0. ],\n",
    "         [1. , 0. , 0. , 0. ],\n",
    "         [0. , 0. , 0. , 0. ]],\n",
    "\n",
    "        [[0. , 0. , 0. , 0. ],\n",
    "         [0. , 0. , 1. , 0. ],\n",
    "         [0. , 0. , 0. , 0. ],\n",
    "         [1. , 0. , 0. , 0. ]]],\n",
    "\n",
    "\n",
    "       [[[0. , 1.5, 0. , 0. ],\n",
    "         [0. , 0. , 0. , 0. ],\n",
    "         [0. , 0. , 0. , 1. ],\n",
    "         [0. , 0. , 0. , 0. ]],\n",
    "\n",
    "        [[0. , 0. , 0. , 0. ],\n",
    "         [0. , 1.5, 0. , 0. ],\n",
    "         [0. , 0. , 0. , 0. ],\n",
    "         [0. , 0. , 0. , 1. ]],\n",
    "\n",
    "        [[0. , 0. , 0. , 1. ],\n",
    "         [0. , 0. , 0. , 0. ],\n",
    "         [0. , 1. , 0. , 0. ],\n",
    "         [0. , 0. , 0. , 0. ]],\n",
    "\n",
    "        [[0. , 0. , 0. , 0. ],\n",
    "         [0. , 0. , 0. , 1. ],\n",
    "         [0. , 0. , 0. , 0. ],\n",
    "         [0. , 1. , 0. , 0. ]]],\n",
    "\n",
    "\n",
    "       [[[0. , 0. , 1. , 0. ],\n",
    "         [0. , 0. , 0. , 0. ],\n",
    "         [1. , 0. , 0. , 0. ],\n",
    "         [0. , 0. , 0. , 0. ]],\n",
    "\n",
    "        [[0. , 0. , 0. , 0. ],\n",
    "         [0. , 0. , 1. , 0. ],\n",
    "         [0. , 0. , 0. , 0. ],\n",
    "         [1. , 0. , 0. , 0. ]],\n",
    "\n",
    "        [[1. , 0. , 0. , 0. ],\n",
    "         [0. , 0. , 0. , 0. ],\n",
    "         [0. , 0. , 1.5, 0. ],\n",
    "         [0. , 0. , 0. , 0. ]],\n",
    "\n",
    "        [[0. , 0. , 0. , 0. ],\n",
    "         [1. , 0. , 0. , 0. ],\n",
    "         [0. , 0. , 0. , 0. ],\n",
    "         [0. , 0. , 1.5, 0. ]]],\n",
    "\n",
    "\n",
    "       [[[0. , 0. , 0. , 1. ],\n",
    "         [0. , 0. , 0. , 0. ],\n",
    "         [0. , 1. , 0. , 0. ],\n",
    "         [0. , 0. , 0. , 0. ]],\n",
    "\n",
    "        [[0. , 0. , 0. , 0. ],\n",
    "         [0. , 0. , 0. , 1. ],\n",
    "         [0. , 0. , 0. , 0. ],\n",
    "         [0. , 1. , 0. , 0. ]],\n",
    "\n",
    "        [[0. , 1. , 0. , 0. ],\n",
    "         [0. , 0. , 0. , 0. ],\n",
    "         [0. , 0. , 0. , 1.5],\n",
    "         [0. , 0. , 0. , 0. ]],\n",
    "\n",
    "        [[0. , 0. , 0. , 0. ],\n",
    "         [0. , 1. , 0. , 0. ],\n",
    "         [0. , 0. , 0. , 0. ],\n",
    "         [0. , 0. , 0. , 1.5]]]])"
   ]
  },
  {
   "cell_type": "code",
   "execution_count": 40,
   "metadata": {},
   "outputs": [],
   "source": [
    "h1_a = np.array(hpq, dtype=float)\n",
    "h2_aa = np.array(hpqrs, dtype=float)\n",
    "hamiltonian = ElectronicEnergy.from_raw_integrals(h1_a, h2_aa)\n",
    "\n",
    "# Pasamos el hamiltoniano a terminos de operadores de qubit con el mapper\n",
    "mapper = JordanWignerMapper()\n",
    "fermionic_op = hamiltonian.second_q_op()\n",
    "qubit_op = mapper.map(fermionic_op)"
   ]
  },
  {
   "cell_type": "code",
   "execution_count": 41,
   "metadata": {},
   "outputs": [
    {
     "data": {
      "text/plain": [
       "PauliList(['IIIIIIII', 'IIIIIIIZ', 'IIIIIIZI', 'IIIIIIZZ', 'IIIIYXXY',\n",
       "           'IIIIXXYY', 'IIIIYYXX', 'IIIIXYYX', 'IIIIIZII', 'IIIIZIII',\n",
       "           'IIIIZIIZ', 'IIIZIIII', 'IIIZIIIZ', 'IYZYIYZY', 'IXZXIYZY',\n",
       "           'IYZYIXZX', 'IXZXIXZX', 'IIZIIIII', 'IIZIIIIZ', 'YZYIIYZY',\n",
       "           'XZXIIYZY', 'YZYIIXZX', 'XZXIIXZX', 'IZIIIIII', 'IZIIIIIZ',\n",
       "           'ZIIIIIII', 'ZIIIIIIZ', 'IIIIIZZI', 'IIIZIIZI', 'IYZYYZYI',\n",
       "           'IXZXYZYI', 'IYZYXZXI', 'IXZXXZXI', 'IIZIIIZI', 'YZYIYZYI',\n",
       "           'XZXIYZYI', 'YZYIXZXI', 'XZXIXZXI', 'IZIIIIZI', 'ZIIIIIZI',\n",
       "           'IIIIZZII', 'IIIZIZII', 'IIZIIZII', 'IZIIIZII', 'ZIIIIZII',\n",
       "           'IIIZZIII', 'IIZIZIII', 'IZIIZIII', 'ZIIIZIII', 'IIZZIIII',\n",
       "           'YXXYIIII', 'XXYYIIII', 'YYXXIIII', 'XYYXIIII', 'ZIIZIIII',\n",
       "           'IZZIIIII', 'ZZIIIIII'])"
      ]
     },
     "execution_count": 41,
     "metadata": {},
     "output_type": "execute_result"
    }
   ],
   "source": [
    "qubit_op.paulis"
   ]
  },
  {
   "cell_type": "code",
   "execution_count": 42,
   "metadata": {},
   "outputs": [
    {
     "data": {
      "text/plain": [
       "array([ 56.848022 +0.j,  -4.3424011+0.j,  -4.3424011+0.j,   0.375    +0.j,\n",
       "         0.25     +0.j,  -0.25     +0.j,  -0.25     +0.j,   0.25     +0.j,\n",
       "       -11.7446044+0.j, -11.7446044+0.j,   0.25     +0.j,  -4.3424011+0.j,\n",
       "         0.375    +0.j,   0.25     +0.j,   0.25     +0.j,   0.25     +0.j,\n",
       "         0.25     +0.j,  -4.3424011+0.j,   0.375    +0.j,   0.25     +0.j,\n",
       "         0.25     +0.j,   0.25     +0.j,   0.25     +0.j, -11.7446044+0.j,\n",
       "         0.25     +0.j, -11.7446044+0.j,   0.25     +0.j,   0.25     +0.j,\n",
       "         0.375    +0.j,   0.25     +0.j,   0.25     +0.j,   0.25     +0.j,\n",
       "         0.25     +0.j,   0.375    +0.j,   0.25     +0.j,   0.25     +0.j,\n",
       "         0.25     +0.j,   0.25     +0.j,   0.25     +0.j,   0.25     +0.j,\n",
       "         0.375    +0.j,   0.25     +0.j,   0.25     +0.j,   0.375    +0.j,\n",
       "         0.375    +0.j,   0.25     +0.j,   0.25     +0.j,   0.375    +0.j,\n",
       "         0.375    +0.j,   0.375    +0.j,   0.25     +0.j,  -0.25     +0.j,\n",
       "        -0.25     +0.j,   0.25     +0.j,   0.25     +0.j,   0.25     +0.j,\n",
       "         0.375    +0.j])"
      ]
     },
     "execution_count": 42,
     "metadata": {},
     "output_type": "execute_result"
    }
   ],
   "source": [
    "qubit_op.coeffs"
   ]
  },
  {
   "cell_type": "code",
   "execution_count": 43,
   "metadata": {},
   "outputs": [
    {
     "data": {
      "text/plain": [
       "<qiskit_nature.second_q.hamiltonians.electronic_energy.ElectronicEnergy at 0x7f785bf2e110>"
      ]
     },
     "execution_count": 43,
     "metadata": {},
     "output_type": "execute_result"
    }
   ],
   "source": [
    "hamiltonian"
   ]
  },
  {
   "cell_type": "markdown",
   "metadata": {},
   "source": [
    "Hamiltoniano de todo el sistema para V0 = 1"
   ]
  },
  {
   "cell_type": "code",
   "execution_count": 44,
   "metadata": {},
   "outputs": [],
   "source": [
    "H = np.array([\n",
    "    [54.34802201, 0, 0, 0, 0, 0, 0, 0, 0, 0, 0, 0, 0, 0, 0, 0],\n",
    "    [0, 32.1088132, 0, 0, 0, 0, 0, 0, 0, 0, 0, 0, 0, 0, 0, 0],\n",
    "    [0, 0, 32.1088132, 0, 0, 0, 0, 0, 0, 0, 0, 0, 0, 0, 0, 0],\n",
    "    [0, 0, 0, 11.3696044, 0, 0, 0, 0, 0, 0, 0, 0, 1, 0, 0, 0],\n",
    "    [0, 0, 0, 0, 46.9132198, 0, 0, 0, 0, 0, 0, 0, 0, 0, 0, 0],\n",
    "    [0, 0, 0, 0, 0, 24.674011, 0, 0, 0, 0, 0, 0, 0, 0, 0, 0],\n",
    "    [0, 0, 0, 0, 0, 0, 25.674011, 0, 0, -1, 0, 0, 0, 0, 0, 0],\n",
    "    [0, 0, 0, 0, 0, 0, 0, 4.9348022, 0, 0, 0, 0, 0, 0, 0, 0],\n",
    "    [0, 0, 0, 0, 0, 0, 0, 0, 46.9132198, 0, 0, 0, 0, 0, 0, 0],\n",
    "    [0, 0, 0, 0, 0, 0, -1, 0, 0, 25.674011, 0, 0, 0, 0, 0, 0],\n",
    "    [0, 0, 0, 0, 0, 0, 0, 0, 0, 0, 24.674011, 0, 0, 0, 0, 0],\n",
    "    [0, 0, 0, 0, 0, 0, 0, 0, 0, 0, 0, 4.9348022, 0, 0, 0, 0],\n",
    "    [0, 0, 0, 1, 0, 0, 0, 0, 0, 0, 0, 0, 40.9784176, 0, 0, 0],\n",
    "    [0, 0, 0, 0, 0, 0, 0, 0, 0, 0, 0, 0, 0, 19.7392088, 0, 0],\n",
    "    [0, 0, 0, 0, 0, 0, 0, 0, 0, 0, 0, 0, 0, 0, 19.7392088, 0],\n",
    "    [0, 0, 0, 0, 0, 0, 0, 0, 0, 0, 0, 0, 0, 0, 0, 0]\n",
    "])"
   ]
  },
  {
   "cell_type": "code",
   "execution_count": 45,
   "metadata": {},
   "outputs": [],
   "source": [
    "# Como lo paso a qubit_op?"
   ]
  }
 ],
 "metadata": {
  "kernelspec": {
   "display_name": "tfg_env",
   "language": "python",
   "name": "python3"
  },
  "language_info": {
   "codemirror_mode": {
    "name": "ipython",
    "version": 3
   },
   "file_extension": ".py",
   "mimetype": "text/x-python",
   "name": "python",
   "nbconvert_exporter": "python",
   "pygments_lexer": "ipython3",
   "version": "3.10.12"
  }
 },
 "nbformat": 4,
 "nbformat_minor": 2
}

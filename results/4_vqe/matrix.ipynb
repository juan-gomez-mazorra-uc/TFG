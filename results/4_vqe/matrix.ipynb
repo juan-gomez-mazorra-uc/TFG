{
 "cells": [
  {
   "cell_type": "code",
   "execution_count": 46,
   "metadata": {},
   "outputs": [],
   "source": [
    "import numpy as np\n",
    "import sympy as sp"
   ]
  },
  {
   "cell_type": "markdown",
   "metadata": {},
   "source": [
    "Global definitions"
   ]
  },
  {
   "cell_type": "code",
   "execution_count": 47,
   "metadata": {},
   "outputs": [],
   "source": [
    "# Number of states in the individual Hamiltonian\n",
    "N = 4\n",
    "\n",
    "# I store in a dictionary the equivalence between the\n",
    "# total state and the occupancy notation\n",
    "states = dict()\n",
    "states[0] = [0, 0, 0, 0]\n",
    "states[1] = [1, 0, 0, 0]\n",
    "states[2] = [0, 1, 0, 0]\n",
    "states[3] = [0, 0, 1, 0]\n",
    "states[4] = [0, 0, 0, 1]\n",
    "states[5] = [1, 1, 0, 0]\n",
    "states[6] = [1, 0, 1, 0]\n",
    "states[7] = [1, 0, 0, 1]\n",
    "states[8] = [0, 1, 1, 0]\n",
    "states[9] = [0, 1, 0, 1]\n",
    "states[10] = [0, 0, 1, 1]\n",
    "states[11] = [1, 1, 1, 0]\n",
    "states[12] = [1, 1, 0, 1]\n",
    "states[13] = [1, 0, 1, 1]\n",
    "states[14] = [0, 1, 1, 1]\n",
    "states[15] = [1, 1, 1, 1]"
   ]
  },
  {
   "cell_type": "markdown",
   "metadata": {},
   "source": [
    "Helper functions"
   ]
  },
  {
   "cell_type": "code",
   "execution_count": 48,
   "metadata": {},
   "outputs": [],
   "source": [
    "# This function gives you the state number for a given \n",
    "# occupancy state. For example: getState([1,1,0,0]) \n",
    "# returns 5\n",
    "def getState(a):\n",
    "    for s, o in states.items():\n",
    "        sameState = True\n",
    "        for i, j in enumerate(a):\n",
    "            if j != o[i]:\n",
    "                sameState= False\n",
    "        if sameState:\n",
    "            return s\n",
    "\n",
    "# This function returns a vector associated to the i\n",
    "# state. For example: getStateGlobalBasis(1) =\n",
    "# [0, 1, 0, 0, 0, 0, 0, 0, 0, 0, 0, 0, 0, 0, 0, 0]\n",
    "def getStateGlobalBasis(i):\n",
    "\n",
    "    s = np.zeros(N**2)\n",
    "    s[i] = 1\n",
    "    return s"
   ]
  },
  {
   "cell_type": "code",
   "execution_count": 49,
   "metadata": {},
   "outputs": [
    {
     "data": {
      "text/plain": [
       "8"
      ]
     },
     "execution_count": 49,
     "metadata": {},
     "output_type": "execute_result"
    }
   ],
   "source": [
    "getState([0, 1, 1, 0])"
   ]
  },
  {
   "cell_type": "code",
   "execution_count": 50,
   "metadata": {},
   "outputs": [
    {
     "data": {
      "text/plain": [
       "array([0., 0., 1., 0., 0., 0., 0., 0., 0., 0., 0., 0., 0., 0., 0., 0.])"
      ]
     },
     "execution_count": 50,
     "metadata": {},
     "output_type": "execute_result"
    }
   ],
   "source": [
    "getStateGlobalBasis(2)"
   ]
  },
  {
   "cell_type": "markdown",
   "metadata": {},
   "source": [
    "one-two body matrix"
   ]
  },
  {
   "cell_type": "code",
   "execution_count": 165,
   "metadata": {},
   "outputs": [],
   "source": [
    "L = 1\n",
    "x = sp.Symbol('x')\n",
    "x_1 = sp.Symbol('x_1')\n",
    "\n",
    "\n",
    "def well_wavefunction(n, L, x = sp.Symbol('x')):\n",
    "    \"\"\"\n",
    "    Calcula la función de onda para un estado dado (n) en un pozo de potencial infinito.\n",
    "    \n",
    "    Parámetros:\n",
    "        n (int): Estado cuántico del electrón.\n",
    "    \n",
    "    Retorna:\n",
    "        La función de onda.\n",
    "    \"\"\"\n",
    "    \n",
    "    # Factor de normalización\n",
    "    normalization_factor = sp.sqrt(2/L)\n",
    "    \n",
    "    # Función de onda radial\n",
    "    well_wavefunction = normalization_factor * sp.sin(n*sp.pi*x/L)\n",
    "    \n",
    "    return well_wavefunction\n",
    "\n",
    "\n",
    "def one_body(L = 1, N = 3, v_0 = 1):\n",
    "    h_pq = []\n",
    "\n",
    "    for i in range(1, 2*N+1):\n",
    "        h_pq.append([])\n",
    "        for j in range(1, 2*N+1):\n",
    "            if i == j:\n",
    "                globals()[f'h_{i}{j}'] = -1/2 * sp.integrate(globals()[f'phi_{i}']*globals()[f'dd_phi_{j}'], (x, 0, L))\n",
    "            else:\n",
    "                globals()[f'h_{i}{j}'] = 0\n",
    "                \n",
    "            h_pq[i-1].append(globals()[f'h_{i}{j}'])\n",
    "\n",
    "    size = len(h_pq)\n",
    "    h1_a = np.array(h_pq, dtype=float)\n",
    "\n",
    "    return size, h1_a\n",
    "\n",
    "\n",
    "import itertools\n",
    "\n",
    "def two_body(size, L, N = 3, v_0 = 1):\n",
    "\n",
    "    rhpq = []\n",
    "    for i in range(0, 4):\n",
    "        rhpq.append([1+i, 1+i])\n",
    "        rhpq.append([1+i, 1+(i+2)%4])\n",
    "\n",
    "    rhrs = []\n",
    "    for i in range(0, 4):\n",
    "        rhrs.append([1+i, 1+i])\n",
    "        rhrs.append([1+i, 1+(i+2)%4])\n",
    "\n",
    "\n",
    "    lista = []\n",
    "    for i in itertools.product(rhpq, rhrs):\n",
    "        j = i[0] + i[1]\n",
    "        lista.append(j)\n",
    "\n",
    "    print(lista)\n",
    "\n",
    "    h_ijkl = np.zeros((size, size, size, size))\n",
    "\n",
    "    for i,j,k,l in lista:\n",
    "        globals()[f'h_{i}{j}{k}{l}'] = v_0*\\\n",
    "                                       globals()[f'phi_{i}_1']*globals()[f'phi_{j}_2']*\\\n",
    "                                       globals()[f'phi_{k}_1']*globals()[f'phi_{l}_2']\n",
    "        \n",
    "        print(i, j, k, l)\n",
    "\n",
    "        h_ijkl[i-1][j-1][k-1][l-1] = sp.integrate(globals()[f'h_{i}{j}{k}{l}'], (x_1, 0, L))\n",
    "        print(h_ijkl[i-1][j-1][k-1][l-1])\n",
    "\n",
    "\n",
    "    h2_aa = np.array(h_ijkl, dtype=float)\n",
    "\n",
    "    return h2_aa"
   ]
  },
  {
   "cell_type": "code",
   "execution_count": 166,
   "metadata": {},
   "outputs": [],
   "source": [
    "# Wavefunction Solutions\n",
    "x = sp.Symbol('x')\n",
    "x_1 = sp.Symbol('x_1')\n",
    "\n",
    "for n in range(2*2):\n",
    "    globals()[f'phi_{n + 1}'] = well_wavefunction(n//2 + 1, L)\n",
    "    globals()[f'dd_phi_{n + 1}'] = sp.diff(globals()[f'phi_{n + 1}'], x, x)\n",
    "\n",
    "for n in range(2*2):\n",
    "    globals()[f'phi_{n + 1}_1'] = well_wavefunction(n//2 + 1, L, sp.Symbol('x_1'))\n",
    "    globals()[f'phi_{n + 1}_2'] = well_wavefunction(n//2 + 1, L, sp.Symbol('x_1'))"
   ]
  },
  {
   "cell_type": "code",
   "execution_count": 167,
   "metadata": {},
   "outputs": [],
   "source": [
    "size, hpq = one_body(L, 2)"
   ]
  },
  {
   "cell_type": "code",
   "execution_count": 168,
   "metadata": {},
   "outputs": [
    {
     "data": {
      "text/plain": [
       "(4,\n",
       " array([[ 4.9348022,  0.       ,  0.       ,  0.       ],\n",
       "        [ 0.       ,  4.9348022,  0.       ,  0.       ],\n",
       "        [ 0.       ,  0.       , 19.7392088,  0.       ],\n",
       "        [ 0.       ,  0.       ,  0.       , 19.7392088]]))"
      ]
     },
     "execution_count": 168,
     "metadata": {},
     "output_type": "execute_result"
    }
   ],
   "source": [
    "one_body(L, 2)"
   ]
  },
  {
   "cell_type": "code",
   "execution_count": 169,
   "metadata": {},
   "outputs": [
    {
     "name": "stdout",
     "output_type": "stream",
     "text": [
      "[[1, 1, 1, 1], [1, 1, 1, 3], [1, 1, 2, 2], [1, 1, 2, 4], [1, 1, 3, 3], [1, 1, 3, 1], [1, 1, 4, 4], [1, 1, 4, 2], [1, 3, 1, 1], [1, 3, 1, 3], [1, 3, 2, 2], [1, 3, 2, 4], [1, 3, 3, 3], [1, 3, 3, 1], [1, 3, 4, 4], [1, 3, 4, 2], [2, 2, 1, 1], [2, 2, 1, 3], [2, 2, 2, 2], [2, 2, 2, 4], [2, 2, 3, 3], [2, 2, 3, 1], [2, 2, 4, 4], [2, 2, 4, 2], [2, 4, 1, 1], [2, 4, 1, 3], [2, 4, 2, 2], [2, 4, 2, 4], [2, 4, 3, 3], [2, 4, 3, 1], [2, 4, 4, 4], [2, 4, 4, 2], [3, 3, 1, 1], [3, 3, 1, 3], [3, 3, 2, 2], [3, 3, 2, 4], [3, 3, 3, 3], [3, 3, 3, 1], [3, 3, 4, 4], [3, 3, 4, 2], [3, 1, 1, 1], [3, 1, 1, 3], [3, 1, 2, 2], [3, 1, 2, 4], [3, 1, 3, 3], [3, 1, 3, 1], [3, 1, 4, 4], [3, 1, 4, 2], [4, 4, 1, 1], [4, 4, 1, 3], [4, 4, 2, 2], [4, 4, 2, 4], [4, 4, 3, 3], [4, 4, 3, 1], [4, 4, 4, 4], [4, 4, 4, 2], [4, 2, 1, 1], [4, 2, 1, 3], [4, 2, 2, 2], [4, 2, 2, 4], [4, 2, 3, 3], [4, 2, 3, 1], [4, 2, 4, 4], [4, 2, 4, 2]]\n",
      "1 1 1 1\n",
      "0.30000000000000004\n",
      "1 1 1 3\n",
      "0.0\n",
      "1 1 2 2\n",
      "0.30000000000000004\n",
      "1 1 2 4\n",
      "0.0\n",
      "1 1 3 3\n",
      "0.20000000000000004\n",
      "1 1 3 1\n",
      "0.0\n",
      "1 1 4 4\n",
      "0.20000000000000004\n",
      "1 1 4 2\n",
      "0.0\n",
      "1 3 1 1\n",
      "0.0\n",
      "1 3 1 3\n",
      "0.0\n",
      "1 3 2 2\n",
      "0.0\n",
      "1 3 2 4\n",
      "0.0\n",
      "1 3 3 3\n",
      "0.0\n",
      "1 3 3 1\n",
      "0.20000000000000004\n",
      "1 3 4 4\n",
      "0.0\n",
      "1 3 4 2\n",
      "0.20000000000000004\n",
      "2 2 1 1\n",
      "0.30000000000000004\n",
      "2 2 1 3\n",
      "0.0\n",
      "2 2 2 2\n",
      "0.30000000000000004\n",
      "2 2 2 4\n",
      "0.0\n",
      "2 2 3 3\n",
      "0.20000000000000004\n",
      "2 2 3 1\n",
      "0.0\n",
      "2 2 4 4\n",
      "0.20000000000000004\n",
      "2 2 4 2\n",
      "0.0\n",
      "2 4 1 1\n",
      "0.0\n",
      "2 4 1 3\n",
      "0.0\n",
      "2 4 2 2\n",
      "0.0\n",
      "2 4 2 4\n",
      "0.0\n",
      "2 4 3 3\n",
      "0.0\n",
      "2 4 3 1\n",
      "0.20000000000000004\n",
      "2 4 4 4\n",
      "0.0\n",
      "2 4 4 2\n",
      "0.20000000000000004\n",
      "3 3 1 1\n",
      "0.20000000000000004\n",
      "3 3 1 3\n",
      "0.0\n",
      "3 3 2 2\n",
      "0.20000000000000004\n",
      "3 3 2 4\n",
      "0.0\n",
      "3 3 3 3\n",
      "0.30000000000000004\n",
      "3 3 3 1\n",
      "0.0\n",
      "3 3 4 4\n",
      "0.30000000000000004\n",
      "3 3 4 2\n",
      "0.0\n",
      "3 1 1 1\n",
      "0.0\n",
      "3 1 1 3\n",
      "0.0\n",
      "3 1 2 2\n",
      "0.0\n",
      "3 1 2 4\n",
      "0.0\n",
      "3 1 3 3\n",
      "0.0\n",
      "3 1 3 1\n",
      "0.20000000000000004\n",
      "3 1 4 4\n",
      "0.0\n",
      "3 1 4 2\n",
      "0.20000000000000004\n",
      "4 4 1 1\n",
      "0.20000000000000004\n",
      "4 4 1 3\n",
      "0.0\n",
      "4 4 2 2\n",
      "0.20000000000000004\n",
      "4 4 2 4\n",
      "0.0\n",
      "4 4 3 3\n",
      "0.30000000000000004\n",
      "4 4 3 1\n",
      "0.0\n",
      "4 4 4 4\n",
      "0.30000000000000004\n",
      "4 4 4 2\n",
      "0.0\n",
      "4 2 1 1\n",
      "0.0\n",
      "4 2 1 3\n",
      "0.0\n",
      "4 2 2 2\n",
      "0.0\n",
      "4 2 2 4\n",
      "0.0\n",
      "4 2 3 3\n",
      "0.0\n",
      "4 2 3 1\n",
      "0.20000000000000004\n",
      "4 2 4 4\n",
      "0.0\n",
      "4 2 4 2\n",
      "0.20000000000000004\n"
     ]
    }
   ],
   "source": [
    "gpqrs = two_body(size, L, 2, 0.2)"
   ]
  },
  {
   "cell_type": "code",
   "execution_count": 170,
   "metadata": {},
   "outputs": [
    {
     "data": {
      "text/plain": [
       "array([[[[0.3, 0. , 0. , 0. ],\n",
       "         [0. , 0.3, 0. , 0. ],\n",
       "         [0. , 0. , 0.2, 0. ],\n",
       "         [0. , 0. , 0. , 0.2]],\n",
       "\n",
       "        [[0. , 0. , 0. , 0. ],\n",
       "         [0. , 0. , 0. , 0. ],\n",
       "         [0. , 0. , 0. , 0. ],\n",
       "         [0. , 0. , 0. , 0. ]],\n",
       "\n",
       "        [[0. , 0. , 0.2, 0. ],\n",
       "         [0. , 0. , 0. , 0.2],\n",
       "         [0.2, 0. , 0. , 0. ],\n",
       "         [0. , 0.2, 0. , 0. ]],\n",
       "\n",
       "        [[0. , 0. , 0. , 0. ],\n",
       "         [0. , 0. , 0. , 0. ],\n",
       "         [0. , 0. , 0. , 0. ],\n",
       "         [0. , 0. , 0. , 0. ]]],\n",
       "\n",
       "\n",
       "       [[[0. , 0. , 0. , 0. ],\n",
       "         [0. , 0. , 0. , 0. ],\n",
       "         [0. , 0. , 0. , 0. ],\n",
       "         [0. , 0. , 0. , 0. ]],\n",
       "\n",
       "        [[0.3, 0. , 0. , 0. ],\n",
       "         [0. , 0.3, 0. , 0. ],\n",
       "         [0. , 0. , 0.2, 0. ],\n",
       "         [0. , 0. , 0. , 0.2]],\n",
       "\n",
       "        [[0. , 0. , 0. , 0. ],\n",
       "         [0. , 0. , 0. , 0. ],\n",
       "         [0. , 0. , 0. , 0. ],\n",
       "         [0. , 0. , 0. , 0. ]],\n",
       "\n",
       "        [[0. , 0. , 0.2, 0. ],\n",
       "         [0. , 0. , 0. , 0.2],\n",
       "         [0.2, 0. , 0. , 0. ],\n",
       "         [0. , 0.2, 0. , 0. ]]],\n",
       "\n",
       "\n",
       "       [[[0. , 0. , 0.2, 0. ],\n",
       "         [0. , 0. , 0. , 0.2],\n",
       "         [0.2, 0. , 0. , 0. ],\n",
       "         [0. , 0.2, 0. , 0. ]],\n",
       "\n",
       "        [[0. , 0. , 0. , 0. ],\n",
       "         [0. , 0. , 0. , 0. ],\n",
       "         [0. , 0. , 0. , 0. ],\n",
       "         [0. , 0. , 0. , 0. ]],\n",
       "\n",
       "        [[0.2, 0. , 0. , 0. ],\n",
       "         [0. , 0.2, 0. , 0. ],\n",
       "         [0. , 0. , 0.3, 0. ],\n",
       "         [0. , 0. , 0. , 0.3]],\n",
       "\n",
       "        [[0. , 0. , 0. , 0. ],\n",
       "         [0. , 0. , 0. , 0. ],\n",
       "         [0. , 0. , 0. , 0. ],\n",
       "         [0. , 0. , 0. , 0. ]]],\n",
       "\n",
       "\n",
       "       [[[0. , 0. , 0. , 0. ],\n",
       "         [0. , 0. , 0. , 0. ],\n",
       "         [0. , 0. , 0. , 0. ],\n",
       "         [0. , 0. , 0. , 0. ]],\n",
       "\n",
       "        [[0. , 0. , 0.2, 0. ],\n",
       "         [0. , 0. , 0. , 0.2],\n",
       "         [0.2, 0. , 0. , 0. ],\n",
       "         [0. , 0.2, 0. , 0. ]],\n",
       "\n",
       "        [[0. , 0. , 0. , 0. ],\n",
       "         [0. , 0. , 0. , 0. ],\n",
       "         [0. , 0. , 0. , 0. ],\n",
       "         [0. , 0. , 0. , 0. ]],\n",
       "\n",
       "        [[0.2, 0. , 0. , 0. ],\n",
       "         [0. , 0.2, 0. , 0. ],\n",
       "         [0. , 0. , 0.3, 0. ],\n",
       "         [0. , 0. , 0. , 0.3]]]])"
      ]
     },
     "execution_count": 170,
     "metadata": {},
     "output_type": "execute_result"
    }
   ],
   "source": [
    "gpqrs"
   ]
  },
  {
   "cell_type": "markdown",
   "metadata": {},
   "source": [
    "Matrix calculations"
   ]
  },
  {
   "cell_type": "code",
   "execution_count": 142,
   "metadata": {},
   "outputs": [],
   "source": [
    "# Applys the operator A+j on the state 'state'\n",
    "def applyAp(j, state):\n",
    "\n",
    "    newstatevector = states[state].copy()\n",
    "    #Estimate the sign which is the sum of the numbers of 1 before j\n",
    "    sumones = 0\n",
    "    for i in range(0, j):\n",
    "        sumones = sumones + states[state][i]\n",
    "    sign = 1\n",
    "    if sumones % 2 != 0:\n",
    "        sign = -1\n",
    "\n",
    "    if states[state][j] == 0:\n",
    "        newstatevector[j] = 1\n",
    "        newstate = getState(newstatevector)\n",
    "    else:\n",
    "        sign = 0\n",
    "        newstate = 0\n",
    "    vector = np.zeros(N**2, dtype=np.int32)\n",
    "    if sign == 0:\n",
    "        return vector\n",
    "    else:\n",
    "        vector[newstate] = 1\n",
    "        return sign * vector\n",
    "    return vector"
   ]
  },
  {
   "cell_type": "code",
   "execution_count": 143,
   "metadata": {},
   "outputs": [
    {
     "data": {
      "text/plain": [
       "array([0, 1, 0, 0, 0, 0, 0, 0, 0, 0, 0, 0, 0, 0, 0, 0], dtype=int32)"
      ]
     },
     "execution_count": 143,
     "metadata": {},
     "output_type": "execute_result"
    }
   ],
   "source": [
    "applyAp(0, 0)"
   ]
  },
  {
   "cell_type": "code",
   "execution_count": 144,
   "metadata": {},
   "outputs": [],
   "source": [
    "# Applys the operator Aj on the state 'state'\n",
    "def applyA(j, state):\n",
    "\n",
    "    newstatevector = states[state].copy()\n",
    "    #Estimate the sign which is the sum of the numbers of 1 before j\n",
    "    sumones = 0\n",
    "    for i in range(0, j):\n",
    "        sumones = sumones + states[state][i]\n",
    "    sign = 1\n",
    "    if sumones % 2 != 0:\n",
    "        sign = -1\n",
    "\n",
    "    if states[state][j] == 1:\n",
    "        newstatevector[j] = 0\n",
    "        newstate = getState(newstatevector)\n",
    "    else:\n",
    "        sign = 0\n",
    "        newstate = 0\n",
    "    vector = np.zeros(N**2, dtype=np.int32)\n",
    "    if sign == 0:\n",
    "        return vector\n",
    "    else:\n",
    "        vector[newstate] = 1\n",
    "        return sign * vector\n",
    "    return vector"
   ]
  },
  {
   "cell_type": "code",
   "execution_count": 145,
   "metadata": {},
   "outputs": [
    {
     "data": {
      "text/plain": [
       "array([0, 0, 0, 0, 0, 0, 0, 0, 1, 0, 0, 0, 0, 0, 0, 0], dtype=int32)"
      ]
     },
     "execution_count": 145,
     "metadata": {},
     "output_type": "execute_result"
    }
   ],
   "source": [
    "applyA(3, 14)"
   ]
  },
  {
   "cell_type": "code",
   "execution_count": 146,
   "metadata": {},
   "outputs": [
    {
     "data": {
      "text/plain": [
       "array([0, 0, 0, 0, 0, 0, 0, 0, 0, 0, 0, 0, 0, 0, 0, 0], dtype=int32)"
      ]
     },
     "execution_count": 146,
     "metadata": {},
     "output_type": "execute_result"
    }
   ],
   "source": [
    "applyA(0, 14)"
   ]
  },
  {
   "cell_type": "code",
   "execution_count": 147,
   "metadata": {},
   "outputs": [],
   "source": [
    "# Builds the full A+j matrix\n",
    "def makeMatrixAp(j):\n",
    "\n",
    "    mat = applyAp(j, 0)\n",
    "    for i in range(1, N**2):\n",
    "        mat = np.vstack((mat, applyAp(j, i)))\n",
    "    return mat.T"
   ]
  },
  {
   "cell_type": "code",
   "execution_count": 148,
   "metadata": {},
   "outputs": [
    {
     "data": {
      "text/plain": [
       "array([[0, 0, 0, 0, 0, 0, 0, 0, 0, 0, 0, 0, 0, 0, 0, 0],\n",
       "       [1, 0, 0, 0, 0, 0, 0, 0, 0, 0, 0, 0, 0, 0, 0, 0],\n",
       "       [0, 0, 0, 0, 0, 0, 0, 0, 0, 0, 0, 0, 0, 0, 0, 0],\n",
       "       [0, 0, 0, 0, 0, 0, 0, 0, 0, 0, 0, 0, 0, 0, 0, 0],\n",
       "       [0, 0, 0, 0, 0, 0, 0, 0, 0, 0, 0, 0, 0, 0, 0, 0],\n",
       "       [0, 0, 1, 0, 0, 0, 0, 0, 0, 0, 0, 0, 0, 0, 0, 0],\n",
       "       [0, 0, 0, 1, 0, 0, 0, 0, 0, 0, 0, 0, 0, 0, 0, 0],\n",
       "       [0, 0, 0, 0, 1, 0, 0, 0, 0, 0, 0, 0, 0, 0, 0, 0],\n",
       "       [0, 0, 0, 0, 0, 0, 0, 0, 0, 0, 0, 0, 0, 0, 0, 0],\n",
       "       [0, 0, 0, 0, 0, 0, 0, 0, 0, 0, 0, 0, 0, 0, 0, 0],\n",
       "       [0, 0, 0, 0, 0, 0, 0, 0, 0, 0, 0, 0, 0, 0, 0, 0],\n",
       "       [0, 0, 0, 0, 0, 0, 0, 0, 1, 0, 0, 0, 0, 0, 0, 0],\n",
       "       [0, 0, 0, 0, 0, 0, 0, 0, 0, 1, 0, 0, 0, 0, 0, 0],\n",
       "       [0, 0, 0, 0, 0, 0, 0, 0, 0, 0, 1, 0, 0, 0, 0, 0],\n",
       "       [0, 0, 0, 0, 0, 0, 0, 0, 0, 0, 0, 0, 0, 0, 0, 0],\n",
       "       [0, 0, 0, 0, 0, 0, 0, 0, 0, 0, 0, 0, 0, 0, 1, 0]], dtype=int32)"
      ]
     },
     "execution_count": 148,
     "metadata": {},
     "output_type": "execute_result"
    }
   ],
   "source": [
    "makeMatrixAp(0)"
   ]
  },
  {
   "cell_type": "code",
   "execution_count": 149,
   "metadata": {},
   "outputs": [],
   "source": [
    "# Builds the full A+j matrix\n",
    "def makeMatrixA(j):\n",
    "\n",
    "    mat = applyA(j, 0)\n",
    "    for i in range(1, N**2):\n",
    "        mat = np.vstack((mat, applyA(j, i)))\n",
    "    return mat.T"
   ]
  },
  {
   "cell_type": "code",
   "execution_count": 150,
   "metadata": {},
   "outputs": [
    {
     "data": {
      "text/plain": [
       "array([[0, 1, 0, 0, 0, 0, 0, 0, 0, 0, 0, 0, 0, 0, 0, 0],\n",
       "       [0, 0, 0, 0, 0, 0, 0, 0, 0, 0, 0, 0, 0, 0, 0, 0],\n",
       "       [0, 0, 0, 0, 0, 1, 0, 0, 0, 0, 0, 0, 0, 0, 0, 0],\n",
       "       [0, 0, 0, 0, 0, 0, 1, 0, 0, 0, 0, 0, 0, 0, 0, 0],\n",
       "       [0, 0, 0, 0, 0, 0, 0, 1, 0, 0, 0, 0, 0, 0, 0, 0],\n",
       "       [0, 0, 0, 0, 0, 0, 0, 0, 0, 0, 0, 0, 0, 0, 0, 0],\n",
       "       [0, 0, 0, 0, 0, 0, 0, 0, 0, 0, 0, 0, 0, 0, 0, 0],\n",
       "       [0, 0, 0, 0, 0, 0, 0, 0, 0, 0, 0, 0, 0, 0, 0, 0],\n",
       "       [0, 0, 0, 0, 0, 0, 0, 0, 0, 0, 0, 1, 0, 0, 0, 0],\n",
       "       [0, 0, 0, 0, 0, 0, 0, 0, 0, 0, 0, 0, 1, 0, 0, 0],\n",
       "       [0, 0, 0, 0, 0, 0, 0, 0, 0, 0, 0, 0, 0, 1, 0, 0],\n",
       "       [0, 0, 0, 0, 0, 0, 0, 0, 0, 0, 0, 0, 0, 0, 0, 0],\n",
       "       [0, 0, 0, 0, 0, 0, 0, 0, 0, 0, 0, 0, 0, 0, 0, 0],\n",
       "       [0, 0, 0, 0, 0, 0, 0, 0, 0, 0, 0, 0, 0, 0, 0, 0],\n",
       "       [0, 0, 0, 0, 0, 0, 0, 0, 0, 0, 0, 0, 0, 0, 0, 1],\n",
       "       [0, 0, 0, 0, 0, 0, 0, 0, 0, 0, 0, 0, 0, 0, 0, 0]], dtype=int32)"
      ]
     },
     "execution_count": 150,
     "metadata": {},
     "output_type": "execute_result"
    }
   ],
   "source": [
    "makeMatrixA(0)"
   ]
  },
  {
   "cell_type": "code",
   "execution_count": 151,
   "metadata": {},
   "outputs": [],
   "source": [
    "# Builds the full single particle Hamiltonian\n",
    "def buildSingleParticleH(h, A, Ap):\n",
    "\n",
    "    H = np.zeros((N*N, N*N))\n",
    "    for i in range(0, N):\n",
    "        for j in range(0, N):\n",
    "            H = H + h[i, j] * np.matmul(Ap[i], A[j])\n",
    "\n",
    "    return H\n",
    "\n",
    "\n",
    "# Builds the single particle Hamiltonian restricted to\n",
    "# the interesting states given as a vector of states\n",
    "def buildSingleParticleHRestricted(H, interestingStates):\n",
    "\n",
    "    n = len(interestingStates)\n",
    "    \n",
    "    Hres = np.zeros((n, n))\n",
    "    for i in range(0, n):\n",
    "        for j in range(0, n):\n",
    "            statei = interestingStates[i]\n",
    "            statej = interestingStates[j]\n",
    "            si = getStateGlobalBasis(statei)\n",
    "            sj = getStateGlobalBasis(statej)\n",
    "            Hres[i, j] = np.matmul(si, np.matmul(H, sj))\n",
    "\n",
    "    return Hres\n",
    "\n",
    "\n",
    "# Builds the full double particle Hamiltonian\n",
    "def buildDoubleParticleH(h, A, Ap):\n",
    "\n",
    "    H = np.zeros((N*N, N*N))\n",
    "    for i in range(0, N):\n",
    "        for j in range(0, N):\n",
    "            for k in range(0, N):\n",
    "                for l in range(0, N):\n",
    "                    # print(i, j, k, l)\n",
    "                    # print(np.matmul(Ap[i], np.matmul(Ap[j], np.matmul(A[k], A[l]))))\n",
    "                    H = H + h[i, j, k, l] * np.matmul(np.matmul(Ap[i], Ap[j]), np.matmul(A[k], A[l]))\n",
    "\n",
    "    return H\n",
    "\n",
    "\n",
    "# Creates a vector with the A and A+ operators\n",
    "def createOperators():\n",
    "\n",
    "    A = []\n",
    "    Ap = []\n",
    "    for i in range(0, N):\n",
    "        A.append(makeMatrixA(i))\n",
    "        Ap.append(makeMatrixAp(i))\n",
    "    return A, Ap"
   ]
  },
  {
   "cell_type": "code",
   "execution_count": 153,
   "metadata": {},
   "outputs": [
    {
     "data": {
      "text/plain": [
       "array([[0., 0., 0., 0., 0., 0., 0., 0., 0., 0., 0., 0., 0., 0., 0., 0.],\n",
       "       [0., 0., 0., 0., 0., 0., 0., 0., 0., 0., 0., 0., 0., 0., 0., 0.],\n",
       "       [0., 0., 0., 0., 0., 0., 0., 0., 0., 0., 0., 0., 0., 0., 0., 0.],\n",
       "       [0., 0., 0., 0., 0., 0., 0., 0., 0., 0., 0., 0., 0., 0., 0., 0.],\n",
       "       [0., 0., 0., 0., 0., 0., 0., 0., 0., 0., 0., 0., 0., 0., 0., 0.],\n",
       "       [0., 0., 0., 0., 0., 0., 0., 0., 0., 0., 0., 0., 0., 0., 0., 0.],\n",
       "       [0., 0., 0., 0., 0., 0., 0., 0., 0., 0., 0., 0., 0., 0., 0., 0.],\n",
       "       [0., 0., 0., 0., 0., 0., 0., 0., 0., 0., 0., 0., 0., 0., 0., 0.],\n",
       "       [0., 0., 0., 0., 0., 0., 0., 0., 0., 0., 0., 0., 0., 0., 0., 0.],\n",
       "       [0., 0., 0., 0., 0., 0., 0., 0., 0., 0., 0., 0., 0., 0., 0., 0.],\n",
       "       [0., 0., 0., 0., 0., 0., 0., 0., 0., 0., 0., 0., 0., 0., 0., 0.],\n",
       "       [0., 0., 0., 0., 0., 0., 0., 0., 0., 0., 0., 0., 0., 0., 0., 0.],\n",
       "       [0., 0., 0., 0., 0., 0., 0., 0., 0., 0., 0., 0., 0., 0., 0., 0.],\n",
       "       [0., 0., 0., 0., 0., 0., 0., 0., 0., 0., 0., 0., 0., 0., 0., 0.],\n",
       "       [0., 0., 0., 0., 0., 0., 0., 0., 0., 0., 0., 0., 0., 0., 0., 0.],\n",
       "       [0., 0., 0., 0., 0., 0., 0., 0., 0., 0., 0., 0., 0., 0., 0., 0.]])"
      ]
     },
     "execution_count": 153,
     "metadata": {},
     "output_type": "execute_result"
    }
   ],
   "source": [
    "buildDoubleParticleH(hpqrs, A, Ap)"
   ]
  },
  {
   "cell_type": "markdown",
   "metadata": {},
   "source": [
    "Code"
   ]
  },
  {
   "cell_type": "code",
   "execution_count": 67,
   "metadata": {},
   "outputs": [
    {
     "name": "stdout",
     "output_type": "stream",
     "text": [
      "[[ 2.  0.  0.  0.  0.  0.]\n",
      " [ 0.  6.  0.  0.  0.  0.]\n",
      " [ 0.  0.  6.  0.  0.  0.]\n",
      " [ 0.  0.  0.  6.  0.  0.]\n",
      " [ 0.  0.  0.  0.  6.  0.]\n",
      " [ 0.  0.  0.  0.  0. 10.]]\n"
     ]
    }
   ],
   "source": [
    "#We create the operators \n",
    "A, Ap = createOperators()\n",
    "\n",
    "#We create the hpq matrix\n",
    "hpq = np.zeros((N,N))\n",
    "hpq[0, 0] = 1.\n",
    "hpq[1, 1] = 1.\n",
    "hpq[2, 2] = 5.\n",
    "hpq[3, 3] = 5.\n",
    "\n",
    "\n",
    "#We create the hpqrs matrix\n",
    "hpqrs = gpqrs\n",
    "\n",
    "\n",
    "#We build the full single particle Hamiltonian\n",
    "Hsingle = buildSingleParticleH(hpq, A, Ap)\n",
    "\n",
    "#We build the full double particle Hamiltonian\n",
    "Hdouble = buildDoubleParticleH(hpqrs, A, Ap)\n",
    "\n",
    "#H = Hsingle + Hdouble\n",
    "H = Hsingle + Hdouble\n",
    "\n",
    "#We restrict to the states in which we are interested in\n",
    "interestingStates = [5, 6, 7, 8, 9, 10]\n",
    "Hres = buildSingleParticleHRestricted(H, interestingStates)\n",
    "\n",
    "print(Hres)"
   ]
  }
 ],
 "metadata": {
  "kernelspec": {
   "display_name": "tfg_env",
   "language": "python",
   "name": "python3"
  },
  "language_info": {
   "codemirror_mode": {
    "name": "ipython",
    "version": 3
   },
   "file_extension": ".py",
   "mimetype": "text/x-python",
   "name": "python",
   "nbconvert_exporter": "python",
   "pygments_lexer": "ipython3",
   "version": "3.10.12"
  }
 },
 "nbformat": 4,
 "nbformat_minor": 2
}

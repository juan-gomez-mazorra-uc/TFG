{
 "cells": [
  {
   "cell_type": "markdown",
   "metadata": {},
   "source": [
    "### Hydrogen"
   ]
  },
  {
   "cell_type": "code",
   "execution_count": 1,
   "metadata": {},
   "outputs": [],
   "source": [
    "import os\n",
    "import csv\n",
    "import numpy as np\n",
    "from matplotlib import rc\n",
    "import matplotlib.pyplot as plt\n",
    "from qiskit_algorithms import VQE\n",
    "from qiskit_nature.units import DistanceUnit\n",
    "from qiskit_algorithms.utils import algorithm_globals\n",
    "from qiskit_algorithms import NumPyMinimumEigensolver\n",
    "from qiskit_nature.second_q.drivers import PySCFDriver\n",
    "from qiskit_aer.primitives import Estimator as AerEstimator\n",
    "from qiskit_algorithms.optimizers import COBYLA, SLSQP, SPSA\n",
    "from qiskit_nature.second_q.mappers import JordanWignerMapper\n",
    "from qiskit_nature.second_q.algorithms import GroundStateEigensolver\n",
    "from qiskit_nature.second_q.circuit.library import HartreeFock, UCCSD"
   ]
  },
  {
   "cell_type": "code",
   "execution_count": 2,
   "metadata": {},
   "outputs": [],
   "source": [
    "optimizer = COBYLA\n",
    "optimizer_str = 'COBYLA'"
   ]
  },
  {
   "cell_type": "markdown",
   "metadata": {},
   "source": [
    "##### Functions"
   ]
  },
  {
   "cell_type": "code",
   "execution_count": 3,
   "metadata": {},
   "outputs": [],
   "source": [
    "def vqe_distance(solver, vqe, distance):\n",
    "    # build the model:\n",
    "    driver = PySCFDriver(\n",
    "        atom=f\"H 0 0 0; H 0 0 {distance}\",\n",
    "        basis=\"sto3g\",\n",
    "        charge=0,\n",
    "        spin=0,\n",
    "        unit=DistanceUnit.ANGSTROM,\n",
    "    )\n",
    "\n",
    "    # it'll return an instance of ElectronicStructureProblem:\n",
    "    problem = driver.run()\n",
    "\n",
    "    mapper = JordanWignerMapper()\n",
    "    fermionic_op = problem.hamiltonian.second_q_op()\n",
    "    qubit_op = mapper.map(fermionic_op)\n",
    "\n",
    "    hamiltonian = problem.hamiltonian\n",
    "    result = solver.solve(problem)\n",
    "\n",
    "    \"\"\"\n",
    "    vqe.estimator = noisy_estimator\n",
    "    \"\"\"\n",
    "\n",
    "    result_vqe = vqe.compute_minimum_eigenvalue(operator=qubit_op)\n",
    "    \n",
    "    return (hamiltonian, result, result_vqe)"
   ]
  },
  {
   "cell_type": "code",
   "execution_count": 4,
   "metadata": {},
   "outputs": [],
   "source": [
    "def save_csv(distances, energies, energies_vqe, path):\n",
    "\n",
    "    folder = path.split('/')[0]\n",
    "    if not os.path.exists(folder):\n",
    "        os.makedirs(folder)\n",
    "    \n",
    "    with open(path, mode='w', newline='') as archivo_csv:\n",
    "        escritor_csv = csv.writer(archivo_csv)\n",
    "        escritor_csv.writerow(['distance', 'energy', 'energy_vqe'])\n",
    "        for x, y, z in zip(distances, energies, energies_vqe):\n",
    "            escritor_csv.writerow([x, y, z])"
   ]
  },
  {
   "cell_type": "code",
   "execution_count": 5,
   "metadata": {},
   "outputs": [],
   "source": [
    "# Configura Matplotlib para usar la fuente Times New Roman\n",
    "# rc('font', size=12, **{'family': 'serif', 'serif': ['Times New Roman']})\n",
    "\n",
    "def save_plt(distances, energies, energies_vqe, path, shots):\n",
    "\n",
    "    folder = path.split('/')[0]\n",
    "    if not os.path.exists(folder):\n",
    "        os.makedirs(folder)\n",
    "\n",
    "    plt.plot(distances, energies, marker='', linestyle='-', label='Exact solution')\n",
    "    plt.plot(distances, energies_vqe, marker='', linestyle='--', label=f'$shots$ = {shots}')\n",
    "    plt.xlabel('$d$ / Å')\n",
    "    plt.ylabel('$E$ / Hartree')\n",
    "    # plt.title('Hydrogen Molecule')\n",
    "    plt.legend()\n",
    "    plt.savefig(path)\n",
    "    plt.show()"
   ]
  },
  {
   "cell_type": "markdown",
   "metadata": {},
   "source": [
    "##### Code"
   ]
  },
  {
   "cell_type": "code",
   "execution_count": 6,
   "metadata": {},
   "outputs": [],
   "source": [
    "solver = GroundStateEigensolver(\n",
    "    JordanWignerMapper(),\n",
    "    NumPyMinimumEigensolver(),\n",
    "    )"
   ]
  },
  {
   "cell_type": "code",
   "execution_count": 7,
   "metadata": {},
   "outputs": [],
   "source": [
    "driver = PySCFDriver(\n",
    "    atom=f\"H 0 0 0; H 0 0 0.735\",\n",
    "    basis=\"sto3g\",\n",
    "    charge=0,\n",
    "    spin=0,\n",
    "    unit=DistanceUnit.ANGSTROM,\n",
    "    )\n",
    "\n",
    "problem = driver.run()\n",
    "mapper = JordanWignerMapper()\n",
    "\n",
    "fermionic_op = problem.hamiltonian.second_q_op()\n",
    "\n",
    "# define ansatz and optimizer\n",
    "num_spatial_orbitals = int(fermionic_op.num_spin_orbitals/2)\n",
    "num_particles = (1, 1)\n",
    "ansatz = UCCSD(\n",
    "    num_spatial_orbitals,\n",
    "    num_particles,\n",
    "    mapper,\n",
    "    initial_state=HartreeFock(\n",
    "        num_spatial_orbitals,\n",
    "        num_particles,\n",
    "        mapper,\n",
    "    ),\n",
    ")"
   ]
  },
  {
   "cell_type": "code",
   "execution_count": 8,
   "metadata": {},
   "outputs": [],
   "source": [
    "distances = np.linspace(0.25, 2.5, 200)\n",
    "shots_list = [16, 128, 1024, 16384]\n",
    "\n",
    "for shots in shots_list:\n",
    "    energies = []\n",
    "    energies_vqe = []\n",
    "\n",
    "    seed = 170\n",
    "    algorithm_globals.random_seed = seed\n",
    "\n",
    "    noiseless_estimator = AerEstimator(\n",
    "        run_options={\"seed\": seed, \"shots\": shots},\n",
    "        transpile_options={\"seed_transpiler\": seed},\n",
    "    )\n",
    "\n",
    "    vqe = VQE(noiseless_estimator, ansatz, optimizer=optimizer())\n",
    "    # vqe.initial_point = np.zeros(ansatz.num_parameters)\n",
    "    \n",
    "    for distance in distances:\n",
    "        \n",
    "        hamiltonian, result, result_vqe = vqe_distance(solver, vqe, distance)\n",
    "\n",
    "        energies.append(result.groundenergy + hamiltonian.nuclear_repulsion_energy)\n",
    "        energies_vqe.append(result_vqe.eigenvalue.real + hamiltonian.nuclear_repulsion_energy)\n",
    "\n",
    "    path_csv = f'results_{optimizer_str}/shots={shots}.csv'\n",
    "    path_plt = f'results_{optimizer_str}/shots={shots}.png'\n",
    "    \n",
    "    save_csv(distances, energies, energies_vqe, path_csv)\n",
    "    # save_plt(distances, energies, energies_vqe, path_plt, shots)"
   ]
  }
 ],
 "metadata": {
  "kernelspec": {
   "display_name": "tfg_env",
   "language": "python",
   "name": "python3"
  },
  "language_info": {
   "codemirror_mode": {
    "name": "ipython",
    "version": 3
   },
   "file_extension": ".py",
   "mimetype": "text/x-python",
   "name": "python",
   "nbconvert_exporter": "python",
   "pygments_lexer": "ipython3",
   "version": "3.10.12"
  }
 },
 "nbformat": 4,
 "nbformat_minor": 2
}

{
 "cells": [
  {
   "cell_type": "code",
   "execution_count": 1,
   "metadata": {},
   "outputs": [],
   "source": [
    "import os\n",
    "import csv\n",
    "import sympy as sp\n",
    "import numpy as np\n",
    "import matplotlib.pyplot as plt\n",
    "from qiskit_algorithms import VQE\n",
    "from qiskit_algorithms.utils import algorithm_globals\n",
    "from qiskit_algorithms.optimizers import COBYLA, SLSQP, SPSA\n",
    "from qiskit_nature.second_q.mappers import JordanWignerMapper\n",
    "from qiskit_aer.primitives import Estimator as AerEstimator\n",
    "from qiskit_nature.second_q.hamiltonians import ElectronicEnergy\n",
    "from qiskit_nature.second_q.circuit.library import HartreeFock, UCCSD"
   ]
  },
  {
   "cell_type": "markdown",
   "metadata": {},
   "source": [
    "### 2 electrons in a 1D infinites square well potential"
   ]
  },
  {
   "cell_type": "markdown",
   "metadata": {},
   "source": [
    "##### Hamiltonian"
   ]
  },
  {
   "cell_type": "code",
   "execution_count": 7,
   "metadata": {},
   "outputs": [],
   "source": [
    "optimizer = COBYLA\n",
    "optimizer_str = 'COBYLA'\n",
    "L = 1\n",
    "\n",
    "x = sp.Symbol('x')\n",
    "x_1 = sp.Symbol('x_1')\n",
    "x_2 = sp.Symbol('x_2')\n",
    "\n",
    "\n",
    "def well_wavefunction(n, L, x = sp.Symbol('x')):\n",
    "    \"\"\"\n",
    "    Calcula la función de onda para un estado dado (n) en un pozo de potencial infinito.\n",
    "    \n",
    "    Parámetros:\n",
    "        n (int): Estado cuántico del electrón.\n",
    "    \n",
    "    Retorna:\n",
    "        La función de onda.\n",
    "    \"\"\"\n",
    "    \n",
    "    # Factor de normalización\n",
    "    normalization_factor = sp.sqrt(2/L)\n",
    "    \n",
    "    # Función de onda radial\n",
    "    well_wavefunction = normalization_factor * sp.sin(n*sp.pi*x/L)\n",
    "    \n",
    "    return well_wavefunction\n",
    "\n",
    "\n",
    "def hamiltonian_interaction(L, N = 3):\n",
    "    h_pq = []\n",
    "\n",
    "    for i in range(1, N+1):\n",
    "        h_pq.append([])\n",
    "        for j in range(1, N+1):\n",
    "            globals()[f'h_{i}{j}'] = -1/2 * sp.integrate(globals()[f'phi_{i}']*globals()[f'dd_phi_{j}'], (x, 0, L))\n",
    "            h_pq[i-1].append(globals()[f'h_{i}{j}'])\n",
    "\n",
    "    size = len(h_pq)\n",
    "    h1_a = np.array(h_pq, dtype=float)\n",
    "    \n",
    "    h_ijkl = np.zeros((size, size, size, size))\n",
    "\n",
    "    for i in range(N):\n",
    "        for j in range(N):\n",
    "            for k in range(N):\n",
    "                for l in range(N):\n",
    "                    globals()[f'h_{i}{j}{k}{l}'] = globals()[f'phi_{i+1}_1']*globals()[f'phi_{j+1}_2']*\\\n",
    "                                                   globals()[f'phi_{k+1}_2']*globals()[f'phi_{l+1}_1']\n",
    "\n",
    "                    h_ijkl[i][j][k][l] = sp.integrate(globals()[f'h_{i}{j}{k}{l}'], (x_1, 0, L))\n",
    "\n",
    "    h2_aa = np.array(h_ijkl, dtype=float)\n",
    "\n",
    "    hamiltonian = ElectronicEnergy.from_raw_integrals(h1_a, h2_aa)\n",
    "\n",
    "    return hamiltonian\n",
    "\n",
    "\n",
    "def hamiltonian_no_interaction(L, N = 3):\n",
    "    h_pq = []\n",
    "\n",
    "    for i in range(1, N+1):\n",
    "        h_pq.append([])\n",
    "        for j in range(1, N+1):\n",
    "            globals()[f'h_{i}{j}'] = -1/2 * sp.integrate(globals()[f'phi_{i}']*globals()[f'dd_phi_{j}'], (x, 0, L))\n",
    "            h_pq[i-1].append(globals()[f'h_{i}{j}'])\n",
    "\n",
    "    size = len(h_pq)\n",
    "    h1_a = np.array(h_pq, dtype=float)\n",
    "    \n",
    "    h_ijkl = np.zeros((size, size, size, size))\n",
    "    h2_aa = np.array(h_ijkl, dtype=float)\n",
    "\n",
    "    hamiltonian = ElectronicEnergy.from_raw_integrals(h1_a, h2_aa)\n",
    "\n",
    "    return hamiltonian\n",
    "\n",
    "\n",
    "n_max = 8\n",
    "\n",
    "for n in range(1, n_max+1):\n",
    "    for l in range(n):\n",
    "        globals()[f'phi_{n}'] = well_wavefunction(n, L)\n",
    "        globals()[f'dd_phi_{n}'] = sp.diff(globals()[f'phi_{n}'], x, x)\n",
    "\n",
    "\n",
    "n_max = 8\n",
    "\n",
    "for n in range(1, n_max+1):\n",
    "    for l in range(n):\n",
    "        globals()[f'phi_{n}_1'] = well_wavefunction(n, L, sp.Symbol('x_1'))\n",
    "        globals()[f'phi_{n}_2'] = well_wavefunction(n, L, sp.Symbol('x_1'))"
   ]
  },
  {
   "cell_type": "code",
   "execution_count": 9,
   "metadata": {},
   "outputs": [
    {
     "name": "stdout",
     "output_type": "stream",
     "text": [
      "Polynomial Tensor\n",
      " \"+-\":\n",
      "array([[ 4.9348022,  0.       ],\n",
      "       [ 0.       , 19.7392088]])\n",
      " \"++--\":\n",
      "array([[[[1.5, 0. ],\n",
      "         [0. , 1. ]],\n",
      "\n",
      "        [[0. , 1. ],\n",
      "         [1. , 0. ]]],\n",
      "\n",
      "\n",
      "       [[[0. , 1. ],\n",
      "         [1. , 0. ]],\n",
      "\n",
      "        [[1. , 0. ],\n",
      "         [0. , 1.5]]]])\n"
     ]
    }
   ],
   "source": [
    "N = 2\n",
    "hamiltonian = hamiltonian_interaction(L, N)\n",
    "print(hamiltonian.electronic_integrals.alpha)"
   ]
  },
  {
   "cell_type": "code",
   "execution_count": 12,
   "metadata": {},
   "outputs": [],
   "source": [
    "h_pq = hamiltonian.electronic_integrals.alpha['+-']"
   ]
  },
  {
   "cell_type": "code",
   "execution_count": 13,
   "metadata": {},
   "outputs": [],
   "source": [
    "h_ijkl = hamiltonian.electronic_integrals.alpha['++--']"
   ]
  },
  {
   "cell_type": "markdown",
   "metadata": {},
   "source": [
    "##### Second quantization formulation"
   ]
  },
  {
   "cell_type": "code",
   "execution_count": 28,
   "metadata": {},
   "outputs": [],
   "source": [
    "# h_pq = np.array([[9.8696044,         0,         0,         0,         0,          0],\n",
    "#                  [        0, 24.674011,         0,         0,         0,          0],\n",
    "#                  [        0,         0, 24.674011,         0,         0,          0],\n",
    "#                  [        0,         0,         0, 24.674011,         0,          0],\n",
    "#                  [        0,         0,         0,         0, 24.674011,          0],\n",
    "#                  [        0,         0,         0,         0,         0, 39.4784176]])"
   ]
  },
  {
   "cell_type": "code",
   "execution_count": 4,
   "metadata": {},
   "outputs": [],
   "source": [
    "sigma_x = np.array([[0, 1],\n",
    "                    [1, 0]])\n",
    "\n",
    "sigma_y = np.array([[ 0, -1j],\n",
    "                    [1j,   0]])\n",
    "\n",
    "sigma_z = np.array([[1,  0],\n",
    "                    [0, -1]])\n",
    "\n",
    "id = np.array([[1, 0],\n",
    "               [0, 1]])\n",
    "\n",
    "Q_plus = np.array([[0, 0],\n",
    "                   [1, 0]])\n",
    "\n",
    "Q_minus = np.array([[0, 1],\n",
    "                    [0, 0]])"
   ]
  },
  {
   "cell_type": "code",
   "execution_count": null,
   "metadata": {},
   "outputs": [],
   "source": []
  },
  {
   "cell_type": "code",
   "execution_count": null,
   "metadata": {},
   "outputs": [],
   "source": []
  },
  {
   "cell_type": "code",
   "execution_count": 24,
   "metadata": {},
   "outputs": [],
   "source": [
    "H = 0\n",
    "\n",
    "for p in range(h_pq.shape[0]):\n",
    "    for q in range(h_pq.shape[1]):\n",
    "\n",
    "        H += h_pq[p, q] * globals()[f'a_{p}_adjoint'] * globals()[f'a_{q}']"
   ]
  },
  {
   "cell_type": "code",
   "execution_count": null,
   "metadata": {},
   "outputs": [],
   "source": []
  },
  {
   "cell_type": "code",
   "execution_count": null,
   "metadata": {},
   "outputs": [],
   "source": []
  },
  {
   "cell_type": "code",
   "execution_count": 29,
   "metadata": {},
   "outputs": [],
   "source": [
    "# np.tensordot(sigma_z, sigma_z, axes=0)"
   ]
  }
 ],
 "metadata": {
  "kernelspec": {
   "display_name": "tfg_env",
   "language": "python",
   "name": "python3"
  },
  "language_info": {
   "codemirror_mode": {
    "name": "ipython",
    "version": 3
   },
   "file_extension": ".py",
   "mimetype": "text/x-python",
   "name": "python",
   "nbconvert_exporter": "python",
   "pygments_lexer": "ipython3",
   "version": "3.10.12"
  }
 },
 "nbformat": 4,
 "nbformat_minor": 2
}

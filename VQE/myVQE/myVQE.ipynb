{
 "cells": [
  {
   "cell_type": "code",
   "execution_count": 1,
   "metadata": {},
   "outputs": [
    {
     "name": "stdout",
     "output_type": "stream",
     "text": [
      "     ┌───────┐┌─┐\n",
      "  q: ┤ Ry(π) ├┤M├\n",
      "     └───────┘└╥┘\n",
      "c: 1/══════════╩═\n",
      "               0 \n",
      "{'1': 1024}\n"
     ]
    }
   ],
   "source": [
    "import numpy as np\n",
    "from qiskit import QuantumCircuit, transpile\n",
    "from qiskit_ibm_runtime import QiskitRuntimeService\n",
    "from qiskit import QuantumRegister, ClassicalRegister\n",
    "\n",
    "\n",
    "provider = QiskitRuntimeService()          \n",
    "backend = provider.backend('ibmq_qasm_simulator')\n",
    "\n",
    "\n",
    "pi = np.pi\n",
    "\n",
    "q = QuantumRegister(1,'q')\n",
    "c = ClassicalRegister(1,'c')\n",
    "\n",
    "circuit = QuantumCircuit(q,c)\n",
    "\n",
    "circuit.ry(pi,q[0])\n",
    "circuit.measure(q,c)\n",
    "\n",
    "print(circuit)\n",
    "\n",
    "new_circuit = transpile(circuit, \n",
    "                        backend = backend)\n",
    "\n",
    "job = backend.run(new_circuit,\n",
    "                  shots = 1024)\n",
    "\n",
    "counts = job.result().get_counts()\n",
    "\n",
    "print(counts)"
   ]
  },
  {
   "cell_type": "markdown",
   "metadata": {},
   "source": [
    "### VQE"
   ]
  },
  {
   "cell_type": "markdown",
   "metadata": {},
   "source": [
    "https://qiskit-community.github.io/qiskit-optimization/tutorials/06_examples_max_cut_and_tsp.html"
   ]
  },
  {
   "cell_type": "code",
   "execution_count": 2,
   "metadata": {},
   "outputs": [],
   "source": [
    "import time\n",
    "import numpy as np\n",
    "from qiskit_aer import Aer\n",
    "from scipy.optimize import minimize\n",
    "from qiskit_ibm_runtime import QiskitRuntimeService\n",
    "from qiskit import QuantumCircuit, QuantumRegister, ClassicalRegister, transpile"
   ]
  },
  {
   "cell_type": "markdown",
   "metadata": {},
   "source": [
    "##### Construction of the Hamiltonian"
   ]
  },
  {
   "cell_type": "code",
   "execution_count": 3,
   "metadata": {},
   "outputs": [],
   "source": [
    "def qubo_to_ising(input_Q):\n",
    "\n",
    "    # Define the 2x2 matrices we need\n",
    "\n",
    "    # (1 + pauli_z)/2\n",
    "    sigma_z = np.array([[1, 0],\n",
    "                        [0, 0]])\n",
    "\n",
    "    # (1 - sigma_z)\n",
    "    minus_z = np.array([[0, 0],\n",
    "                        [0, 1]])\n",
    "\n",
    "    # Identity\n",
    "    id_matrix = np.array([[1, 0],\n",
    "                          [0, 1]])\n",
    "\n",
    "    n = len(input_Q)\n",
    "    print(\"input:\")\n",
    "    print(input_Q)\n",
    "    print(\"\")\n",
    "    \n",
    "    # initialize H\n",
    "    H = 0\n",
    "\n",
    "    # compute the contribution of the i,j term to the Hamiltonian\n",
    "    # i = left-side term = x_i (corresponds to sigma_z)\n",
    "    for i in range(n):\n",
    "        # j = right-side term = (1 - x_j) (corresponds to minus_z)\n",
    "        for j in range(n):            \n",
    "            # first term\n",
    "            matrix_ij = 0\n",
    "            if i == 0:\n",
    "                matrix_ij = sigma_z\n",
    "            elif j == 0:\n",
    "                matrix_ij = minus_z\n",
    "            else:\n",
    "                matrix_ij = id_matrix\n",
    "            \n",
    "            # tensor product n times\n",
    "            for k in range(1,n):\n",
    "                if i == k:\n",
    "                    new_term = sigma_z\n",
    "                elif j == k:\n",
    "                    new_term = minus_z\n",
    "                else:\n",
    "                    new_term = id_matrix                \n",
    "                matrix_ij = np.kron(matrix_ij, new_term)\n",
    "\n",
    "            # multiply by the i,j term of input_Q \n",
    "            matrix_ij = matrix_ij * input_Q[i,j]\n",
    "            \n",
    "            # sum\n",
    "            H = H + matrix_ij\n",
    "\n",
    "    print(H)\n",
    "    return(-H)"
   ]
  },
  {
   "cell_type": "code",
   "execution_count": 4,
   "metadata": {},
   "outputs": [
    {
     "name": "stdout",
     "output_type": "stream",
     "text": [
      "input:\n",
      "[[-0.5    0.   ]\n",
      " [ 0.    -0.125]]\n",
      "\n",
      "[[-0.625  0.     0.     0.   ]\n",
      " [ 0.    -0.5    0.     0.   ]\n",
      " [ 0.     0.    -0.125  0.   ]\n",
      " [ 0.     0.     0.     0.   ]]\n"
     ]
    },
    {
     "data": {
      "text/plain": [
       "array([[ 0.625, -0.   , -0.   , -0.   ],\n",
       "       [-0.   ,  0.5  , -0.   , -0.   ],\n",
       "       [-0.   , -0.   ,  0.125, -0.   ],\n",
       "       [-0.   , -0.   , -0.   , -0.   ]])"
      ]
     },
     "execution_count": 4,
     "metadata": {},
     "output_type": "execute_result"
    }
   ],
   "source": [
    "input_Q = np.array([[-1/(2*1**2),           0],\n",
    "                    [          0, -1/(2*2**2)]])\n",
    "\n",
    "qubo_to_ising(input_Q)"
   ]
  },
  {
   "cell_type": "markdown",
   "metadata": {},
   "source": [
    "##### Cost function"
   ]
  },
  {
   "cell_type": "code",
   "execution_count": 5,
   "metadata": {},
   "outputs": [],
   "source": [
    "def cost_function_C(results, weights):\n",
    "    \n",
    "    # the eigenstates obtained by the evaluation of the circuit\n",
    "    eigenstates = list(results.keys())\n",
    "    \n",
    "    # how many times each eigenstate has been sampled\n",
    "    abundancies = list(results.values())\n",
    "    \n",
    "    # number of shots \n",
    "    shots = sum(results.values())\n",
    "    \n",
    "    # initialize the cost function\n",
    "    cost = 0\n",
    "    \n",
    "    for k in range(len(eigenstates)):\n",
    "        # ndarray of the digits extracted from the eigenstate string \n",
    "        x = np.array([int(num) for num in eigenstates[k]])\n",
    "        # Cost function due to the k-th eigenstate\n",
    "        cost = cost + x.dot(weights.dot(1-x)) * abundancies[k]\n",
    "    \n",
    "    return -cost / shots"
   ]
  },
  {
   "cell_type": "markdown",
   "metadata": {},
   "source": [
    "##### Definition of the VQE_circuit"
   ]
  },
  {
   "cell_type": "markdown",
   "metadata": {},
   "source": [
    "https://docs.quantum.ibm.com/api/qiskit/qiskit.circuit.library.RYGate\n",
    "\n",
    "https://docs.quantum.ibm.com/api/qiskit/qiskit.circuit.library.CZGate"
   ]
  },
  {
   "cell_type": "code",
   "execution_count": 6,
   "metadata": {},
   "outputs": [],
   "source": [
    "def VQE_circuit(theta, n, depth): \n",
    "    \"\"\"\n",
    "    Creates a variational-form RY ansatz.\n",
    "    \n",
    "    theta: (depth+1 x n) matrix of rotation angles.\n",
    "    n    : number of qbits.\n",
    "    depth: number of layers.\n",
    "    \"\"\"\n",
    "        \n",
    "    if len(theta.ravel()) != ((depth+1) * n):        \n",
    "        raise ValueError(\"Theta cannot be reshaped as a (depth+1 x n) matrix\")\n",
    "\n",
    "    theta.shape = (depth + 1, n)\n",
    "\n",
    "    # Define the Quantum and Classical Registers\n",
    "    q = QuantumRegister(n)\n",
    "    c = ClassicalRegister(n)\n",
    "\n",
    "    # Build the circuit for the ansatz\n",
    "    circuit = QuantumCircuit(q, c)\n",
    "\n",
    "    # Put all the qbits in the |+> state\n",
    "    for i in range(n):\n",
    "        circuit.ry(theta[0,i],q[i])\n",
    "    circuit.barrier()\n",
    "    \n",
    "    # Now introduce the z-gates and RY-gates 'depth' times\n",
    "    for j in range(depth):\n",
    "        # Apply controlled-z gates\n",
    "        for i in range(n-1):\n",
    "            circuit.cz(q[i], q[i+1])\n",
    "\n",
    "        # Introduce RY-gates\n",
    "        for i in range(n):\n",
    "            circuit.ry(theta[j+1,i],q[i])\n",
    "        circuit.barrier()\n",
    "    \n",
    "    # Close the circuit with qbits measurements\n",
    "    circuit.measure(q, c)\n",
    "    \n",
    "    return circuit"
   ]
  },
  {
   "cell_type": "code",
   "execution_count": 7,
   "metadata": {},
   "outputs": [
    {
     "name": "stdout",
     "output_type": "stream",
     "text": [
      "[[ 1. -0.]\n",
      " [ 0.  1.]]\n"
     ]
    },
    {
     "data": {
      "text/html": [
       "<pre style=\"word-wrap: normal;white-space: pre;background: #fff0;line-height: 1.1;font-family: &quot;Courier New&quot;,Courier,monospace\">      ┌───────┐ ░    ┌───────┐ ░ ┌─┐   \n",
       "q3_0: ┤ Ry(1) ├─░──■─┤ Ry(0) ├─░─┤M├───\n",
       "      ├───────┤ ░  │ ├───────┤ ░ └╥┘┌─┐\n",
       "q3_1: ┤ Ry(0) ├─░──■─┤ Ry(1) ├─░──╫─┤M├\n",
       "      └───────┘ ░    └───────┘ ░  ║ └╥┘\n",
       "c0: 2/════════════════════════════╩══╩═\n",
       "                                  0  1 </pre>"
      ],
      "text/plain": [
       "      ┌───────┐ ░    ┌───────┐ ░ ┌─┐   \n",
       "q3_0: ┤ Ry(1) ├─░──■─┤ Ry(0) ├─░─┤M├───\n",
       "      ├───────┤ ░  │ ├───────┤ ░ └╥┘┌─┐\n",
       "q3_1: ┤ Ry(0) ├─░──■─┤ Ry(1) ├─░──╫─┤M├\n",
       "      └───────┘ ░    └───────┘ ░  ║ └╥┘\n",
       "c0: 2/════════════════════════════╩══╩═\n",
       "                                  0  1 "
      ]
     },
     "execution_count": 7,
     "metadata": {},
     "output_type": "execute_result"
    }
   ],
   "source": [
    "theta = 0\n",
    "\n",
    "theta_matrix = np.array([[np.cos(theta/2), -np.sin(theta/2)],\n",
    "                         [np.sin(theta/2),  np.cos(theta/2)]])\n",
    "\n",
    "print(theta_matrix)\n",
    "\n",
    "n = 2\n",
    "depth = 1\n",
    "vqe = VQE_circuit(theta_matrix, n, depth)\n",
    "\n",
    "vqe.draw()"
   ]
  },
  {
   "cell_type": "code",
   "execution_count": 9,
   "metadata": {},
   "outputs": [
    {
     "name": "stdout",
     "output_type": "stream",
     "text": [
      "{'11': 56, '01': 175, '00': 603, '10': 190}\n"
     ]
    }
   ],
   "source": [
    "provider = QiskitRuntimeService()          \n",
    "backend = provider.backend('ibmq_qasm_simulator')\n",
    "\n",
    "new_circuit = transpile(vqe, \n",
    "                        backend = backend)\n",
    "\n",
    "job = backend.run(new_circuit,\n",
    "                  shots = 1024)\n",
    "\n",
    "counts = job.result().get_counts()\n",
    "\n",
    "print(counts)"
   ]
  },
  {
   "cell_type": "code",
   "execution_count": 10,
   "metadata": {},
   "outputs": [
    {
     "data": {
      "text/plain": [
       "-0.3623046875"
      ]
     },
     "execution_count": 10,
     "metadata": {},
     "output_type": "execute_result"
    }
   ],
   "source": [
    "weights = np.array([[0, 1],\n",
    "                    [1, 0]])\n",
    "\n",
    "cost_function_C({'01': 189, '11': 48, '10': 182, '00': 605}, weights)"
   ]
  },
  {
   "cell_type": "markdown",
   "metadata": {},
   "source": [
    "##### Minimization"
   ]
  },
  {
   "cell_type": "code",
   "execution_count": 9,
   "metadata": {},
   "outputs": [],
   "source": [
    "def cost_function_cobyla(params, \n",
    "                         weights,   # = W, \n",
    "                         n_qbits      = 2, \n",
    "                         depth        = 1,\n",
    "                         shots        = 1024,\n",
    "                         cost         = 'cost',\n",
    "                         algorithm    = \"VQE\", \n",
    "                         alpha        = 0.5,\n",
    "                         backend_name = 'qasm_simulator',\n",
    "                         verbosity    = False):\n",
    "    \"\"\"\n",
    "    Creates a circuit, executes it and computes the cost function.\n",
    "    \n",
    "    params: ndarray with the values of the parameters to be optimized,\n",
    "    weights: the original QUBO matrix of the problem,\n",
    "    n_qbits: number of qbits of the circuit,\n",
    "    depth: number of layers of the ciruit,\n",
    "    shots: number of evaluations of the circuit state,\n",
    "    cost: the cost function to be used. It can be: \n",
    "     - 'cost': mean value of all measured eigenvalues\n",
    "     - 'cvar': conditional value at risk = mean of the\n",
    "               alpha*shots lowest eigenvalues,\n",
    "    alpha: 'cvar' alpha parameter\n",
    "    verbosity: activate/desactivate some control printouts.\n",
    "    \n",
    "    The function calls 'VQE_circuit' to create the circuit, then\n",
    "    evaluates it and compute the cost function.\n",
    "    \"\"\"\n",
    "    \n",
    "    if (verbosity == True):\n",
    "        print(\"Arguments:\")  \n",
    "        print(\"params    = \\n\", params)\n",
    "        print(\"weights   = \\n\", weights)\n",
    "        print(\"qbits     = \", n_qbits)\n",
    "        print(\"depth     = \", depth)\n",
    "        print(\"shots     = \", shots)\n",
    "        print(\"cost      = \", cost)\n",
    "        print(\"algorithm = \", algorithm)\n",
    "        print(\"alpha     = \", alpha)\n",
    "        print(\"backend   = \", backend_name)\n",
    "    \n",
    "    circuit = VQE_circuit(params, n_qbits, depth)\n",
    "\n",
    "    print(circuit.draw())\n",
    "    \n",
    "    if backend_name == 'qasm_simulator':\n",
    "        backend = Aer.get_backend('qasm_simulator')\n",
    "    else:\n",
    "        provider = QiskitRuntimeService()\n",
    "        backend = provider.backend(backend_name)\n",
    "    \n",
    "    # Execute the circuit on a simulator\n",
    "    new_circuit = transpile(circuit, \n",
    "                            backend = backend)\n",
    "\n",
    "    job = backend.run(new_circuit,\n",
    "                      shots = shots)\n",
    "    \n",
    "    results = job.result()\n",
    " \n",
    "    if cost == 'cost':\n",
    "        output = cost_function_C(results.get_counts(), weights)\n",
    "    #elif cost == 'cvar':\n",
    "        # output = cv_a_r(results.get_counts(), weights, alpha)\n",
    "    else:\n",
    "        raise ValueError(\"Please select a valid cost function\")\n",
    "    \n",
    "    if (verbosity == True):\n",
    "        print(\"cost = \", output)\n",
    "        print(results.get_counts(circuit))\n",
    "\n",
    "    return output"
   ]
  },
  {
   "cell_type": "markdown",
   "metadata": {},
   "source": [
    "weigths?"
   ]
  },
  {
   "cell_type": "code",
   "execution_count": 11,
   "metadata": {},
   "outputs": [
    {
     "name": "stdout",
     "output_type": "stream",
     "text": [
      "Arguments:\n",
      "params    = \n",
      " [[ 1. -0.]\n",
      " [ 0.  1.]]\n",
      "weights   = \n",
      " [[0 1]\n",
      " [1 0]]\n",
      "qbits     =  2\n",
      "depth     =  1\n",
      "shots     =  1024\n",
      "cost      =  cost\n",
      "algorithm =  VQE\n",
      "alpha     =  0.5\n",
      "backend   =  qasm_simulator\n",
      "      ┌───────┐ ░    ┌───────┐ ░ ┌─┐   \n",
      "q9_0: ┤ Ry(1) ├─░──■─┤ Ry(0) ├─░─┤M├───\n",
      "      ├───────┤ ░  │ ├───────┤ ░ └╥┘┌─┐\n",
      "q9_1: ┤ Ry(0) ├─░──■─┤ Ry(1) ├─░──╫─┤M├\n",
      "      └───────┘ ░    └───────┘ ░  ║ └╥┘\n",
      "c2: 2/════════════════════════════╩══╩═\n",
      "                                  0  1 \n",
      "cost =  -0.337890625\n",
      "{'11': 58, '01': 161, '10': 185, '00': 620}\n"
     ]
    },
    {
     "data": {
      "text/plain": [
       "-0.337890625"
      ]
     },
     "execution_count": 11,
     "metadata": {},
     "output_type": "execute_result"
    }
   ],
   "source": [
    "params = theta_matrix\n",
    "\n",
    "weights = np.array([[0, 1],\n",
    "                    [1, 0]])\n",
    "\n",
    "cost_function_cobyla(params, weights, verbosity = True)"
   ]
  },
  {
   "cell_type": "markdown",
   "metadata": {},
   "source": [
    "##### Time studies"
   ]
  },
  {
   "cell_type": "code",
   "execution_count": 8,
   "metadata": {},
   "outputs": [],
   "source": [
    "def time_vs_shots(weights,\n",
    "                  final_eval_shots,\n",
    "                  cost         = 'cost',\n",
    "                  shots        = 1024,\n",
    "                  n_qbits      = 2,\n",
    "                  depth        = 1,\n",
    "                  backend_name = 'qasm_simulator',\n",
    "                  alpha        = 0.5,\n",
    "                  algorithm    = \"VQE\",\n",
    "                  method       = \"COBYLA\",\n",
    "                  theta        = 1,\n",
    "                  verbosity    = False):\n",
    "    \"\"\"\n",
    "    Returns the time taken to solve a VQE problem\n",
    "    as a function of the shots.    \n",
    "    \n",
    "    Input parameters:\n",
    "    shots: number of evaluations of the circuit state,\n",
    "    weights: the original QUBO matrix of the problem,\n",
    "    n_qbits: number of qbits of the circuit,\n",
    "    depth: number of layers of the ciruit,\n",
    "    backend_name: the name of the device where the optimization will be performed,\n",
    "    final_eval_shots: number of shots for the evaluation of the optimized circuit,\n",
    "    cost: the cost function to be used. It can be: \n",
    "     - 'cost': mean value of all measured eigenvalues\n",
    "     - 'cvar': conditional value at risk = mean of the\n",
    "               alpha*shots lowest eigenvalues,\n",
    "    alpha: 'cvar' alpha parameter\n",
    "    algorithm: the optimization algorithm to be used (VQE or QAOA),\n",
    "    method: the classical optimizar (COBYLA or SLSQP),\n",
    "    theta: the ansatz initial parameters. If set to 1, the \n",
    "        standard ry ansatz parameters are used,\n",
    "    verbosity: activate/desactivate some control printouts.\n",
    "    \n",
    "    Output:\n",
    "    elapsed_time: time taken for the optimization (in seconds)\n",
    "    counts: dictionaty the results of the optimization\n",
    "    shots: the 'shots' input parameter (it may be useful for analysis)\n",
    "    n_func_evaluations: number of evaluations of the cost function\n",
    "    final_eval_shots: shots for the optimal circuit evaluation\n",
    "    optimal_angles: the theta parameters given by the optimization,\n",
    "    final_cost: the cost function of the optimal circuit.\n",
    "    \n",
    "    \"\"\"\n",
    "    # Do this only if no initial parameters have been given\n",
    "    if isinstance(theta, (int)):\n",
    "        # Create the rotation angles for the ansatz\n",
    "        theta_0       = np.repeat(np.pi/2, n_qbits)\n",
    "        theta_0.shape = (1, n_qbits)\n",
    "        theta_1       = np.zeros((depth, n_qbits))\n",
    "        theta         = np.concatenate((theta_0, theta_1), axis = 0) \n",
    "    \n",
    "    # Time starts with the optimization\n",
    "    start_time = time.time()\n",
    "\n",
    "    # print(\"method: {0}\".format(method))\n",
    "\n",
    "    # Classical optimizer tuning - COBYLA\n",
    "    res = minimize(fun     = cost_function_cobyla, \n",
    "                   x0      = theta.ravel(),       # the 'params' argument of 'cost_function_cobyla'\n",
    "                   method  = method, #'COBYLA',            # we want to use the COBYLA optimization algorithm\n",
    "                   options = {'maxiter': 10000},  # maximum number of iterations\n",
    "                   tol     = 0.0001,              # tolerance or final accuracy in the optimization \n",
    "                   args    = (weights, \n",
    "                              n_qbits, \n",
    "                              depth, \n",
    "                              shots,\n",
    "                              cost,\n",
    "                              algorithm,\n",
    "                              alpha,\n",
    "                              backend_name,\n",
    "                              verbosity))    # the arguments of 'cost_function_cobyla', except 'params'\n",
    "\n",
    "    # Time stops when the optimization stops https://qiskit.org/\n",
    "    end_time = time.time()\n",
    "    \n",
    "    # Total time taken for the optimization\n",
    "    elapsed_time = end_time - start_time \n",
    "\n",
    "    # Number of cost function evaluations during the optimization\n",
    "    n_func_evaluations = res.nfev\n",
    "\n",
    "    # Obtain the output distribution using the final parameters\n",
    "    # VQE\n",
    "    if algorithm == \"VQE\":\n",
    "        optimal_circuit = VQE_circuit(res.x, \n",
    "                                      n_qbits, \n",
    "                                      depth)\n",
    "\n",
    "    # Define the backend for the evaluation of the optimal circuit\n",
    "    # - in case it is a simulator\n",
    "    if backend_name == 'qasm_simulator':\n",
    "        backend = Aer.get_backend('qasm_simulator')\n",
    "    # - in case it is a real quantum device\n",
    "    else:\n",
    "        provider = QiskitRuntimeService()\n",
    "        backend = provider.get_backend(backend_name)\n",
    "\n",
    "    # Get the results from the circuit with the optimized parameters\n",
    "    new_circuit = transpile(optimal_circuit, \n",
    "                            backend)\n",
    "\n",
    "    job = backend.run(new_circuit,\n",
    "                      shots = final_eval_shots)\n",
    "    \n",
    "    counts = job.result().get_counts(optimal_circuit)\n",
    "    \n",
    "    # The optimized rotation angles\n",
    "    optimal_angles = res.x\n",
    "    \n",
    "    # The cost function of the optimal circuit\n",
    "    final_cost = res.fun\n",
    "    \n",
    "    return elapsed_time, counts, shots, n_func_evaluations, final_eval_shots, optimal_angles, final_cost"
   ]
  },
  {
   "cell_type": "code",
   "execution_count": 14,
   "metadata": {},
   "outputs": [
    {
     "data": {
      "text/plain": [
       "2097152"
      ]
     },
     "execution_count": 14,
     "metadata": {},
     "output_type": "execute_result"
    }
   ],
   "source": [
    "2**21"
   ]
  },
  {
   "cell_type": "code",
   "execution_count": 25,
   "metadata": {},
   "outputs": [
    {
     "data": {
      "text/plain": [
       "(11.620121717453003,\n",
       " {'01001': 1,\n",
       "  '11001': 15,\n",
       "  '01010': 1,\n",
       "  '11000': 3,\n",
       "  '10100': 1,\n",
       "  '10101': 12,\n",
       "  '00110': 26,\n",
       "  '01110': 1,\n",
       "  '00101': 1,\n",
       "  '10001': 6,\n",
       "  '10110': 957},\n",
       " 1024,\n",
       " 286,\n",
       " 1024,\n",
       " array([[ 1.16447173,  2.52241108,  1.59249025,  0.74789167,  1.37758357],\n",
       "        [-0.04508625,  0.47127114, -0.14555245, -0.10019049,  1.5194394 ],\n",
       "        [-0.42122118,  0.30665605,  0.8707306 ,  0.94513636,  0.78119993],\n",
       "        [ 0.07422825, -0.36519337,  0.98307729, -0.78112931, -0.72489068],\n",
       "        [-0.68457412, -0.04728897,  1.26211494, -0.64959998, -0.49491385]]),\n",
       " -8.88671875)"
      ]
     },
     "execution_count": 25,
     "metadata": {},
     "output_type": "execute_result"
    }
   ],
   "source": [
    "final_eval_shots = 1024\n",
    "\n",
    "weights = np.array([[0, 1, 0, 0, 0],\n",
    "                    [1, 0, 3, 1, 0],\n",
    "                    [0, 3, 0, 0, 2],\n",
    "                    [0, 1, 0, 0, 2],\n",
    "                    [0, 0, 2, 2, 0]])\n",
    "\n",
    "time_vs_shots(weights, final_eval_shots, n_qbits=5,depth=4, verbosity = False)"
   ]
  },
  {
   "cell_type": "code",
   "execution_count": 23,
   "metadata": {},
   "outputs": [],
   "source": [
    "# Compute the value of the cost function of each eigenstate in a solution\n",
    "# and returns to 'best candidate' eigenstate\n",
    "# results_dict: the eigenstate-freq dictionary returned by 'time_vs_shots'\n",
    "# weights: the original QUBO matrix\n",
    "def best_candidate_finder(results_dict, \n",
    "                          weights):\n",
    "        \n",
    "    # the eigenstates obtained by the evaluation of the circuit\n",
    "    eigenstates = list(results_dict.keys())\n",
    "        \n",
    "    # initialize the cost function\n",
    "    min_cost = 0\n",
    "    best_candidate = 0\n",
    "    \n",
    "    for k in range(len(eigenstates)):\n",
    "        # ndarray of the digits extracted from the eigenstate string \n",
    "        x = np.array([int(num) for num in eigenstates[k]])\n",
    "        # Cost function of to the k-th eigenstate\n",
    "        cost = x.dot(weights.dot(1-x))\n",
    "        print(cost)\n",
    "        if cost >= min_cost:\n",
    "            min_cost = cost\n",
    "            best_candidate = eigenstates[k]\n",
    "    \n",
    "    return best_candidate"
   ]
  },
  {
   "cell_type": "code",
   "execution_count": 27,
   "metadata": {},
   "outputs": [
    {
     "name": "stdout",
     "output_type": "stream",
     "text": [
      "4\n",
      "4\n",
      "6\n",
      "6\n",
      "5\n",
      "5\n",
      "6\n",
      "8\n",
      "9\n"
     ]
    },
    {
     "data": {
      "text/plain": [
       "'01001'"
      ]
     },
     "execution_count": 27,
     "metadata": {},
     "output_type": "execute_result"
    }
   ],
   "source": [
    "weights = np.array([[0, 1, 0, 0, 0],\n",
    "                    [1, 0, 3, 1, 0],\n",
    "                    [0, 3, 0, 0, 2],\n",
    "                    [0, 1, 0, 0, 2],\n",
    "                    [0, 0, 2, 2, 0]])\n",
    "\n",
    "results_dict = time_vs_shots(weights, final_eval_shots, n_qbits=5,depth=4, verbosity = False)[1]\n",
    "\n",
    "best_candidate_finder(results_dict, weights)"
   ]
  },
  {
   "cell_type": "code",
   "execution_count": 28,
   "metadata": {},
   "outputs": [
    {
     "data": {
      "text/plain": [
       "{'01101': 1,\n",
       " '00001': 2,\n",
       " '10101': 1,\n",
       " '01011': 1,\n",
       " '01110': 1,\n",
       " '10001': 7,\n",
       " '01010': 5,\n",
       " '11001': 3,\n",
       " '01001': 1003}"
      ]
     },
     "execution_count": 28,
     "metadata": {},
     "output_type": "execute_result"
    }
   ],
   "source": [
    "results_dict "
   ]
  },
  {
   "cell_type": "markdown",
   "metadata": {},
   "source": [
    "Que significa el valor del coste?"
   ]
  },
  {
   "cell_type": "code",
   "execution_count": 18,
   "metadata": {},
   "outputs": [],
   "source": [
    "# Function to compute F_opt\n",
    "def F_opt_finder(results_obj,\n",
    "                 weights,\n",
    "                 opt_sol,\n",
    "                 n_shots       = 1024,\n",
    "                 n_eigenstates = 1000):\n",
    "    \"\"\"\n",
    "    Returns the fraction of optimal solutions.\n",
    "    \n",
    "    Given the object returned by 'time_vs_shots',\n",
    "    computes the fraction of best_candidates solutions\n",
    "    which are optimal solutions.\n",
    "    \n",
    "    Inputs:\n",
    "    results_obj: the object returned by 'time_vs_shots',\n",
    "    n_shots: the 'number of shots' to investigate,\n",
    "    W: the original QUBO matrix,\n",
    "    opt_sol: list of the optimal solutions to the problem,\n",
    "    n_eigenstates: maximum number of eigenstates in a solution.\n",
    "    \"\"\"\n",
    "    # Initialize the counter of repetitions for the\n",
    "    # selected number of shots\n",
    "    N_rep = 0\n",
    "    # Initialize the counter of best candidates which \n",
    "    # are optimal solutions    \n",
    "    N_bc  = 0\n",
    "    # Scan all the entries of the object\n",
    "    for res in results_obj:\n",
    "        print(res)\n",
    "        # Select only the entries corresponding to \n",
    "        # the selected number of shots\n",
    "        if res[2] == n_shots:\n",
    "            # If the number of shots is the one we want to check,\n",
    "            # sum 1 to the number of repetitions\n",
    "            N_rep += 1\n",
    "            # Find best candidate\n",
    "            bc = best_candidate_finder(res[1], weights)\n",
    "            # best candidate must contain the optimal solution\n",
    "            print(bc)\n",
    "            if bc in opt_sol:\n",
    "                # best candidate must have less than 'n_eigenstates' eigenstates\n",
    "                if len(res[1]) < n_eigenstates:\n",
    "                    N_bc += 1\n",
    "    # Initialize output value\n",
    "    F_opt = 0\n",
    "    # If N_rep is not 0, return the fraction of best candidates\n",
    "    # which are also optimal solutions\n",
    "    if N_rep != 0:\n",
    "        F_opt = N_bc / N_rep\n",
    "    else:\n",
    "        print(\"The number of shots selected is not present\")\n",
    "    return F_opt"
   ]
  },
  {
   "cell_type": "code",
   "execution_count": 19,
   "metadata": {},
   "outputs": [
    {
     "data": {
      "text/plain": [
       "[(1.6054978370666504,\n",
       "  {'11': 2171, '00': 1, '10': 901876, '01': 1193104},\n",
       "  1024,\n",
       "  51,\n",
       "  2097152,\n",
       "  array([[1.70218169, 1.50501036],\n",
       "         [0.74537481, 0.77557917]]),\n",
       "  -0.9990234375),\n",
       " (1.5477209091186523,\n",
       "  {'11': 2, '10': 132, '01': 890},\n",
       "  1024,\n",
       "  50,\n",
       "  1024,\n",
       "  array([[2.22158633, 1.02211471],\n",
       "         [0.51544875, 0.91048187]]),\n",
       "  -0.9951171875)]"
      ]
     },
     "execution_count": 19,
     "metadata": {},
     "output_type": "execute_result"
    }
   ],
   "source": [
    "results_obj = [time_vs_shots(weights, 2**21, verbosity = False),\n",
    "               time_vs_shots(weights, 2**10, verbosity = False)]\n",
    "results_obj"
   ]
  },
  {
   "cell_type": "markdown",
   "metadata": {},
   "source": [
    "Como saco opt_sol?"
   ]
  },
  {
   "cell_type": "code",
   "execution_count": 20,
   "metadata": {},
   "outputs": [
    {
     "name": "stdout",
     "output_type": "stream",
     "text": [
      "(1.6054978370666504, {'11': 2171, '00': 1, '10': 901876, '01': 1193104}, 1024, 51, 2097152, array([[1.70218169, 1.50501036],\n",
      "       [0.74537481, 0.77557917]]), -0.9990234375)\n",
      "10\n",
      "(1.5477209091186523, {'11': 2, '10': 132, '01': 890}, 1024, 50, 1024, array([[2.22158633, 1.02211471],\n",
      "       [0.51544875, 0.91048187]]), -0.9951171875)\n",
      "10\n"
     ]
    },
    {
     "data": {
      "text/plain": [
       "0.0"
      ]
     },
     "execution_count": 20,
     "metadata": {},
     "output_type": "execute_result"
    }
   ],
   "source": [
    "weights = np.array([[0, 1],\n",
    "                    [1, 0]])\n",
    "\n",
    "opt_sol = ['01']\n",
    "\n",
    "F_opt_finder(results_obj, weights, opt_sol)"
   ]
  }
 ],
 "metadata": {
  "kernelspec": {
   "display_name": "tfg_env",
   "language": "python",
   "name": "python3"
  },
  "language_info": {
   "codemirror_mode": {
    "name": "ipython",
    "version": 3
   },
   "file_extension": ".py",
   "mimetype": "text/x-python",
   "name": "python",
   "nbconvert_exporter": "python",
   "pygments_lexer": "ipython3",
   "version": "3.10.12"
  }
 },
 "nbformat": 4,
 "nbformat_minor": 2
}

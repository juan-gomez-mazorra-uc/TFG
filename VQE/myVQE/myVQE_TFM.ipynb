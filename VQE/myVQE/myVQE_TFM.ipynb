{
 "cells": [
  {
   "cell_type": "code",
   "execution_count": 12,
   "metadata": {},
   "outputs": [],
   "source": [
    "import numpy as np\n",
    "import matplotlib.pyplot as plt\n",
    "# from qiskit_nature.drivers import Molecule\n",
    "# from qiskit_nature.drivers.second_quantization import ElectronicStructureMoleculeDriver,ElectronicStructureDriverType\n",
    "# from qiskit_nature.transformers.second_quantization.electronic import FreezeCoreTransformer\n",
    "# from qiskit_nature.problems.second_quantization import ElectronicStructureProblem\n",
    "# from qiskit_nature.converters.second_quantization import QubitConverter\n",
    "# from qiskit_nature.mappers.second_quantization import ParityMapper,JordanWignerMapper,BravyiKitaevMapper\n",
    "from scipy.optimize import minimize\n",
    "# from qiskit.algorithms.optimizers import COBYLA, SPSA,SLSQP,GradientDescent\n",
    "# from qiskit.opflow import TwoQubitReduction,Z2Symmetries\n",
    "# from qiskit import BasicAer, Aer\n",
    "# from qiskit.utils import QuantumInstance\n",
    "from qiskit.quantum_info import Pauli\n",
    "import time"
   ]
  },
  {
   "cell_type": "code",
   "execution_count": 13,
   "metadata": {},
   "outputs": [],
   "source": [
    "import time\n",
    "import numpy as np\n",
    "from qiskit_aer import Aer\n",
    "from scipy.optimize import minimize\n",
    "from qiskit_ibm_runtime import QiskitRuntimeService\n",
    "from qiskit_nature.second_q.mappers import JordanWignerMapper\n",
    "from qiskit_nature.second_q.hamiltonians import ElectronicEnergy\n",
    "from qiskit import QuantumCircuit, QuantumRegister, ClassicalRegister, transpile"
   ]
  },
  {
   "cell_type": "code",
   "execution_count": 17,
   "metadata": {},
   "outputs": [],
   "source": [
    "def get_qubit_op(h_pq, h_ijkl):\n",
    "    \n",
    "    h1_a = np.array(h_pq, dtype=float)    \n",
    "    h2_aa = np.array(h_ijkl, dtype=float)\n",
    "\n",
    "    hamiltonian = ElectronicEnergy.from_raw_integrals(h1_a, h2_aa)\n",
    "\n",
    "    mapper = JordanWignerMapper()\n",
    "    fermionic_op = hamiltonian.second_q_op()\n",
    "    qubit_op = mapper.map(fermionic_op)\n",
    "\n",
    "    return qubit_op"
   ]
  },
  {
   "cell_type": "code",
   "execution_count": 18,
   "metadata": {},
   "outputs": [],
   "source": [
    "h_pq = [[4.9348022,          0],\n",
    "        [        0, 19.7392088]]\n",
    "\n",
    "size = len(h_pq)\n",
    "h_ijkl = np.zeros((size, size, size, size))\n",
    "\n",
    "qubit_op = get_qubit_op(h_pq, h_ijkl)"
   ]
  },
  {
   "cell_type": "code",
   "execution_count": 21,
   "metadata": {},
   "outputs": [
    {
     "data": {
      "text/plain": [
       "SparsePauliOp(['IIII', 'IIIZ', 'IIZI', 'IZII', 'ZIII'],\n",
       "              coeffs=[24.674011 +0.j, -2.4674011+0.j, -9.8696044+0.j, -2.4674011+0.j,\n",
       " -9.8696044+0.j])"
      ]
     },
     "execution_count": 21,
     "metadata": {},
     "output_type": "execute_result"
    }
   ],
   "source": [
    "qubit_op"
   ]
  },
  {
   "cell_type": "code",
   "execution_count": 19,
   "metadata": {},
   "outputs": [],
   "source": [
    "num_particles = 1"
   ]
  },
  {
   "cell_type": "code",
   "execution_count": 85,
   "metadata": {},
   "outputs": [],
   "source": [
    "def define_ansatz(theta):\n",
    "    q = QuantumRegister(2)\n",
    "    c = ClassicalRegister(2)\n",
    "    ansatz = QuantumCircuit(q,c)\n",
    "    pi = np.pi\n",
    "    ansatz.rx(pi,q[1])\n",
    "    ansatz.rx(-pi/2,q[1])\n",
    "    ansatz.ry(pi/2,q[0])\n",
    "    ansatz.cx(q[0],q[1])\n",
    "    ansatz.rz(theta[0],q[1])\n",
    "    ansatz.cx(q[0],q[1])\n",
    "    ansatz.ry(-pi/2,q[0])\n",
    "    ansatz.rx(pi/2,q[1])\n",
    "    return (ansatz)"
   ]
  },
  {
   "cell_type": "code",
   "execution_count": 87,
   "metadata": {},
   "outputs": [],
   "source": [
    "def VQE_circuit(theta, n, depth): \n",
    "    \"\"\"\n",
    "    Creates a variational-form RY ansatz.\n",
    "    \n",
    "    theta: (depth+1 x n) matrix of rotation angles.\n",
    "    n    : number of qbits.\n",
    "    depth: number of layers.\n",
    "    \"\"\"\n",
    "        \n",
    "    if len(theta.ravel()) != ((depth+1) * n):        \n",
    "        raise ValueError(\"Theta cannot be reshaped as a (depth+1 x n) matrix\")\n",
    "\n",
    "    theta.shape = (depth + 1, n)\n",
    "\n",
    "    # Define the Quantum and Classical Registers\n",
    "    q = QuantumRegister(n)\n",
    "    c = ClassicalRegister(n)\n",
    "\n",
    "    # Build the circuit for the ansatz\n",
    "    circuit = QuantumCircuit(q, c)\n",
    "\n",
    "    # Put all the qbits in the |+> state\n",
    "    for i in range(n):\n",
    "        circuit.ry(theta[0,i],q[i])\n",
    "    circuit.barrier()\n",
    "    \n",
    "    # Now introduce the z-gates and RY-gates 'depth' times\n",
    "    for j in range(depth):\n",
    "        # Apply controlled-z gates\n",
    "        for i in range(n-1):\n",
    "            circuit.cz(q[i], q[i+1])\n",
    "\n",
    "        # Introduce RY-gates\n",
    "        for i in range(n):\n",
    "            circuit.ry(theta[j+1,i],q[i])\n",
    "        circuit.barrier()\n",
    "    \n",
    "    # Close the circuit with qbits measurements\n",
    "    circuit.measure(q, c)\n",
    "    \n",
    "    return circuit"
   ]
  },
  {
   "cell_type": "code",
   "execution_count": 92,
   "metadata": {},
   "outputs": [
    {
     "data": {
      "text/html": [
       "<pre style=\"word-wrap: normal;white-space: pre;background: #fff0;line-height: 1.1;font-family: &quot;Courier New&quot;,Courier,monospace\">        ┌───────┐ ░    ┌───────┐                            ░    ┌───────┐»\n",
       "q218_0: ┤ Ry(1) ├─░──■─┤ Ry(1) ├────────────────────────────░──■─┤ Ry(1) ├»\n",
       "        ├───────┤ ░  │ └───────┘┌───────┐                   ░  │ └───────┘»\n",
       "q218_1: ┤ Ry(0) ├─░──■─────■────┤ Ry(0) ├───────────────────░──■─────■────»\n",
       "        ├───────┤ ░        │    └───────┘┌───────┐          ░        │    »\n",
       "q218_2: ┤ Ry(1) ├─░────────■────────■────┤ Ry(1) ├──────────░────────■────»\n",
       "        ├───────┤ ░                 │    └───────┘┌───────┐ ░             »\n",
       "q218_3: ┤ Ry(2) ├─░─────────────────■────────■────┤ Ry(2) ├─░─────────────»\n",
       "        ├───────┤ ░                          │    ├───────┤ ░             »\n",
       "q218_4: ┤ Ry(5) ├─░──────────────────────────■────┤ Ry(5) ├─░─────────────»\n",
       "        └───────┘ ░                               └───────┘ ░             »\n",
       " c77: 5/══════════════════════════════════════════════════════════════════»\n",
       "                                                                          »\n",
       "«                                    ░    ┌───────┐                           »\n",
       "«q218_0: ────────────────────────────░──■─┤ Ry(1) ├───────────────────────────»\n",
       "«        ┌───────┐                   ░  │ └───────┘┌───────┐                  »\n",
       "«q218_1: ┤ Ry(0) ├───────────────────░──■─────■────┤ Ry(0) ├──────────────────»\n",
       "«        └───────┘┌───────┐          ░        │    └───────┘┌───────┐         »\n",
       "«q218_2: ────■────┤ Ry(1) ├──────────░────────■────────■────┤ Ry(1) ├─────────»\n",
       "«            │    └───────┘┌───────┐ ░                 │    └───────┘┌───────┐»\n",
       "«q218_3: ────■────────■────┤ Ry(2) ├─░─────────────────■────────■────┤ Ry(2) ├»\n",
       "«                     │    ├───────┤ ░                          │    ├───────┤»\n",
       "«q218_4: ─────────────■────┤ Ry(5) ├─░──────────────────────────■────┤ Ry(5) ├»\n",
       "«                          └───────┘ ░                               └───────┘»\n",
       "« c77: 5/═════════════════════════════════════════════════════════════════════»\n",
       "«                                                                             »\n",
       "«         ░    ┌───────┐                            ░ ┌─┐            \n",
       "«q218_0: ─░──■─┤ Ry(1) ├────────────────────────────░─┤M├────────────\n",
       "«         ░  │ └───────┘┌───────┐                   ░ └╥┘┌─┐         \n",
       "«q218_1: ─░──■─────■────┤ Ry(0) ├───────────────────░──╫─┤M├─────────\n",
       "«         ░        │    └───────┘┌───────┐          ░  ║ └╥┘┌─┐      \n",
       "«q218_2: ─░────────■────────■────┤ Ry(1) ├──────────░──╫──╫─┤M├──────\n",
       "«         ░                 │    └───────┘┌───────┐ ░  ║  ║ └╥┘┌─┐   \n",
       "«q218_3: ─░─────────────────■────────■────┤ Ry(2) ├─░──╫──╫──╫─┤M├───\n",
       "«         ░                          │    ├───────┤ ░  ║  ║  ║ └╥┘┌─┐\n",
       "«q218_4: ─░──────────────────────────■────┤ Ry(5) ├─░──╫──╫──╫──╫─┤M├\n",
       "«         ░                               └───────┘ ░  ║  ║  ║  ║ └╥┘\n",
       "« c77: 5/══════════════════════════════════════════════╩══╩══╩══╩══╩═\n",
       "«                                                      0  1  2  3  4 </pre>"
      ],
      "text/plain": [
       "        ┌───────┐ ░    ┌───────┐                            ░    ┌───────┐»\n",
       "q218_0: ┤ Ry(1) ├─░──■─┤ Ry(1) ├────────────────────────────░──■─┤ Ry(1) ├»\n",
       "        ├───────┤ ░  │ └───────┘┌───────┐                   ░  │ └───────┘»\n",
       "q218_1: ┤ Ry(0) ├─░──■─────■────┤ Ry(0) ├───────────────────░──■─────■────»\n",
       "        ├───────┤ ░        │    └───────┘┌───────┐          ░        │    »\n",
       "q218_2: ┤ Ry(1) ├─░────────■────────■────┤ Ry(1) ├──────────░────────■────»\n",
       "        ├───────┤ ░                 │    └───────┘┌───────┐ ░             »\n",
       "q218_3: ┤ Ry(2) ├─░─────────────────■────────■────┤ Ry(2) ├─░─────────────»\n",
       "        ├───────┤ ░                          │    ├───────┤ ░             »\n",
       "q218_4: ┤ Ry(5) ├─░──────────────────────────■────┤ Ry(5) ├─░─────────────»\n",
       "        └───────┘ ░                               └───────┘ ░             »\n",
       " c77: 5/══════════════════════════════════════════════════════════════════»\n",
       "                                                                          »\n",
       "«                                    ░    ┌───────┐                           »\n",
       "«q218_0: ────────────────────────────░──■─┤ Ry(1) ├───────────────────────────»\n",
       "«        ┌───────┐                   ░  │ └───────┘┌───────┐                  »\n",
       "«q218_1: ┤ Ry(0) ├───────────────────░──■─────■────┤ Ry(0) ├──────────────────»\n",
       "«        └───────┘┌───────┐          ░        │    └───────┘┌───────┐         »\n",
       "«q218_2: ────■────┤ Ry(1) ├──────────░────────■────────■────┤ Ry(1) ├─────────»\n",
       "«            │    └───────┘┌───────┐ ░                 │    └───────┘┌───────┐»\n",
       "«q218_3: ────■────────■────┤ Ry(2) ├─░─────────────────■────────■────┤ Ry(2) ├»\n",
       "«                     │    ├───────┤ ░                          │    ├───────┤»\n",
       "«q218_4: ─────────────■────┤ Ry(5) ├─░──────────────────────────■────┤ Ry(5) ├»\n",
       "«                          └───────┘ ░                               └───────┘»\n",
       "« c77: 5/═════════════════════════════════════════════════════════════════════»\n",
       "«                                                                             »\n",
       "«         ░    ┌───────┐                            ░ ┌─┐            \n",
       "«q218_0: ─░──■─┤ Ry(1) ├────────────────────────────░─┤M├────────────\n",
       "«         ░  │ └───────┘┌───────┐                   ░ └╥┘┌─┐         \n",
       "«q218_1: ─░──■─────■────┤ Ry(0) ├───────────────────░──╫─┤M├─────────\n",
       "«         ░        │    └───────┘┌───────┐          ░  ║ └╥┘┌─┐      \n",
       "«q218_2: ─░────────■────────■────┤ Ry(1) ├──────────░──╫──╫─┤M├──────\n",
       "«         ░                 │    └───────┘┌───────┐ ░  ║  ║ └╥┘┌─┐   \n",
       "«q218_3: ─░─────────────────■────────■────┤ Ry(2) ├─░──╫──╫──╫─┤M├───\n",
       "«         ░                          │    ├───────┤ ░  ║  ║  ║ └╥┘┌─┐\n",
       "«q218_4: ─░──────────────────────────■────┤ Ry(5) ├─░──╫──╫──╫──╫─┤M├\n",
       "«         ░                               └───────┘ ░  ║  ║  ║  ║ └╥┘\n",
       "« c77: 5/══════════════════════════════════════════════╩══╩══╩══╩══╩═\n",
       "«                                                      0  1  2  3  4 "
      ]
     },
     "execution_count": 92,
     "metadata": {},
     "output_type": "execute_result"
    }
   ],
   "source": [
    "pi = np.pi\n",
    "\n",
    "theta = np.array([[1, 0, 1, 2, 5],\n",
    "                  [1, 0, 1, 2, 5],\n",
    "                  [1, 0, 1, 2, 5],\n",
    "                  [1, 0, 1, 2, 5],\n",
    "                  [1, 0, 1, 2, 5]])\n",
    "\n",
    "VQE_circuit(theta, n=5, depth=4).draw()"
   ]
  },
  {
   "cell_type": "code",
   "execution_count": 104,
   "metadata": {},
   "outputs": [],
   "source": [
    "def cost_function_C(results, weights):\n",
    "    \n",
    "    # the eigenstates obtained by the evaluation of the circuit\n",
    "    eigenstates = list(results.keys())\n",
    "    \n",
    "    # how many times each eigenstate has been sampled\n",
    "    abundancies = list(results.values())\n",
    "    \n",
    "    # number of shots \n",
    "    shots = sum(results.values())\n",
    "    \n",
    "    # initialize the cost function\n",
    "    cost = 0\n",
    "    \n",
    "    for k in range(len(eigenstates)):\n",
    "        # ndarray of the digits extracted from the eigenstate string \n",
    "        x = np.array([int(num) for num in eigenstates[k]])\n",
    "        # Cost function due to the k-th eigenstate\n",
    "        cost = cost + x.dot(weights.dot(1-x)) * abundancies[k]\n",
    "    \n",
    "    return -cost / shots"
   ]
  },
  {
   "cell_type": "code",
   "execution_count": 131,
   "metadata": {},
   "outputs": [],
   "source": [
    "def Energy_general(theta, R, num_qubits, gates_list_hamiltonian, num_elements_hamiltonian):\n",
    "\n",
    "    shots = 2**14\n",
    "\n",
    "    provider = QiskitRuntimeService()          \n",
    "    backend = provider.backend('ibmq_qasm_simulator')\n",
    "\n",
    "    E_sim = []\n",
    "    Energy_meas = []\n",
    "    index_param = 0\n",
    "\n",
    "    for measurement in gates_list_hamiltonian[1:]:\n",
    "\n",
    "        index_param += 1 \n",
    "        n = num_qubits \n",
    "        q = QuantumRegister(num_qubits)\n",
    "        c = ClassicalRegister(num_qubits)\n",
    "        hamiltonian_circuit = QuantumCircuit(q,c)\n",
    "\n",
    "\n",
    "        \n",
    "        for sing_gate in measurement:\n",
    "            n -= 1\n",
    "            if sing_gate == Pauli('Z'):\n",
    "                hamiltonian_circuit.measure(n,n)\n",
    "            if sing_gate == Pauli('X'):\n",
    "                hamiltonian_circuit.h(q[n])\n",
    "            hamiltonian_circuit.measure(n,n)\n",
    "            if sing_gate == Pauli('Y'):\n",
    "                hamiltonian_circuit.sdg(q[n])\n",
    "                hamiltonian_circuit.h(q[n])\n",
    "                hamiltonian_circuit.measure(n,n)\n",
    "\n",
    "                print(hamiltonian_circuit.draw())\n",
    "\n",
    "        qc = VQE_circuit(theta, n=num_qubits, depth=num_qubits-1).compose(hamiltonian_circuit)\n",
    "\n",
    "        qc_trans = transpile(qc, backend)\n",
    "        counts = backend.run(qc_trans,shots=shots).result().get_counts()\n",
    "\n",
    "        #print(counts)\n",
    "\n",
    "        probs = {}\n",
    "        for output in counts.keys():\n",
    "            \n",
    "            probs[output] = counts[output]/shots\n",
    "\n",
    "\n",
    "\n",
    "        print(probs)\n",
    "\n",
    "\n",
    "\n",
    "        if measurement in probs.keys():\n",
    "            Energy_meas.append(float(R[index_param].real) * (-sum(probs.values()) + 2 * probs['0000'] + 2 * probs[measurement]))\n",
    "        else:\n",
    "            Energy_meas.append(0)\n",
    "        print(Energy_meas)\n",
    "\n",
    "        E_sim.append(np.sum(np.array(Energy_meas)))\n",
    "\n",
    "    return (E_sim, Energy_meas, R, counts, measurement, hamiltonian_circuit)\n",
    "    \n",
    "        #E_sim[0] + float(R[0].real) + float(R[num_elements_hamiltonian].real)"
   ]
  },
  {
   "cell_type": "code",
   "execution_count": 132,
   "metadata": {},
   "outputs": [
    {
     "name": "stdout",
     "output_type": "stream",
     "text": [
      "{'0100': 0.01214599609375, '0000': 0.0252685546875, '0001': 0.126220703125, '1000': 0.1038818359375, '1001': 0.49652099609375, '0101': 0.05877685546875, '1100': 0.02862548828125, '1101': 0.1485595703125}\n",
      "[1.7198315772705077]\n",
      "{'0100': 0.0126953125, '0000': 0.02484130859375, '1001': 0.50091552734375, '1000': 0.10247802734375, '0001': 0.1297607421875, '1100': 0.0299072265625, '0101': 0.06048583984375, '1101': 0.138916015625}\n",
      "[1.7198315772705077, 0]\n",
      "{'0100': 0.0120849609375, '1101': 0.14447021484375, '0001': 0.13214111328125, '1000': 0.102294921875, '1001': 0.4923095703125, '0101': 0.060302734375, '1100': 0.03094482421875, '0000': 0.02545166015625}\n",
      "[1.7198315772705077, 0, 2.282165299645996]\n",
      "{'1101': 0.14959716796875, '0001': 0.1258544921875, '1100': 0.02996826171875, '0101': 0.060546875, '1000': 0.10162353515625, '1001': 0.49249267578125, '0000': 0.0269775390625, '0100': 0.012939453125}\n",
      "[1.7198315772705077, 0, 2.282165299645996, 7.331120944091797]\n"
     ]
    }
   ],
   "source": [
    "pi = np.pi\n",
    "\n",
    "theta = np.array([[1, 0, 1, 2],\n",
    "                  [1, 0, 1, 2],\n",
    "                  [1, 0, 1, 2],\n",
    "                  [1, 0, 1, 2]])\n",
    "\n",
    "R = [24.674011 +0.j, -2.4674011+0.j, -9.8696044+0.j, -2.4674011+0.j, -9.8696044+0.j]\n",
    "\n",
    "num_qubits = 4\n",
    "\n",
    "gates_list_hamiltonian = ['0000', '0001', '0010', '0100', '1000']\n",
    "\n",
    "num_elements_hamiltonian = 1\n",
    "\n",
    "a = Energy_general(theta, R, num_qubits, gates_list_hamiltonian, num_elements_hamiltonian)"
   ]
  },
  {
   "cell_type": "code",
   "execution_count": 133,
   "metadata": {},
   "outputs": [
    {
     "data": {
      "text/plain": [
       "([1.7198315772705077,\n",
       "  1.7198315772705077,\n",
       "  4.001996876916504,\n",
       "  11.333117821008301],\n",
       " [1.7198315772705077, 0, 2.282165299645996, 7.331120944091797],\n",
       " [(24.674011+0j),\n",
       "  (-2.4674011+0j),\n",
       "  (-9.8696044+0j),\n",
       "  (-2.4674011+0j),\n",
       "  (-9.8696044+0j)],\n",
       " {'1101': 2451,\n",
       "  '0001': 2062,\n",
       "  '1100': 491,\n",
       "  '0101': 992,\n",
       "  '1000': 1665,\n",
       "  '1001': 8069,\n",
       "  '0000': 442,\n",
       "  '0100': 212},\n",
       " '1000',\n",
       " <qiskit.circuit.quantumcircuit.QuantumCircuit at 0x7fd4b70b2350>)"
      ]
     },
     "execution_count": 133,
     "metadata": {},
     "output_type": "execute_result"
    }
   ],
   "source": [
    "a"
   ]
  },
  {
   "cell_type": "code",
   "execution_count": 135,
   "metadata": {},
   "outputs": [
    {
     "data": {
      "text/plain": [
       "23.926441477270508"
      ]
     },
     "execution_count": 135,
     "metadata": {},
     "output_type": "execute_result"
    }
   ],
   "source": [
    "1.7198315772705077 + float(R[0].real) + float(R[num_elements_hamiltonian].real)"
   ]
  },
  {
   "cell_type": "code",
   "execution_count": null,
   "metadata": {},
   "outputs": [],
   "source": [
    "E_sim[0] + float(R[0].real) + float(R[num_elements_hamiltonian].real)"
   ]
  },
  {
   "cell_type": "code",
   "execution_count": 114,
   "metadata": {},
   "outputs": [
    {
     "data": {
      "text/html": [
       "<pre style=\"word-wrap: normal;white-space: pre;background: #fff0;line-height: 1.1;font-family: &quot;Courier New&quot;,Courier,monospace\">                    \n",
       "q315_0: ────────────\n",
       "                 ┌─┐\n",
       "q315_1: ─────────┤M├\n",
       "              ┌─┐└╥┘\n",
       "q315_2: ──────┤M├─╫─\n",
       "           ┌─┐└╥┘ ║ \n",
       "q315_3: ───┤M├─╫──╫─\n",
       "        ┌─┐└╥┘ ║  ║ \n",
       "q315_4: ┤M├─╫──╫──╫─\n",
       "        └╥┘ ║  ║  ║ \n",
       "c114: 5/═╩══╩══╩══╩═\n",
       "         4  3  2  1 </pre>"
      ],
      "text/plain": [
       "                    \n",
       "q315_0: ────────────\n",
       "                 ┌─┐\n",
       "q315_1: ─────────┤M├\n",
       "              ┌─┐└╥┘\n",
       "q315_2: ──────┤M├─╫─\n",
       "           ┌─┐└╥┘ ║ \n",
       "q315_3: ───┤M├─╫──╫─\n",
       "        ┌─┐└╥┘ ║  ║ \n",
       "q315_4: ┤M├─╫──╫──╫─\n",
       "        └╥┘ ║  ║  ║ \n",
       "c114: 5/═╩══╩══╩══╩═\n",
       "         4  3  2  1 "
      ]
     },
     "execution_count": 114,
     "metadata": {},
     "output_type": "execute_result"
    }
   ],
   "source": [
    "a[-1].draw()"
   ]
  }
 ],
 "metadata": {
  "kernelspec": {
   "display_name": "tfg_env",
   "language": "python",
   "name": "python3"
  },
  "language_info": {
   "codemirror_mode": {
    "name": "ipython",
    "version": 3
   },
   "file_extension": ".py",
   "mimetype": "text/x-python",
   "name": "python",
   "nbconvert_exporter": "python",
   "pygments_lexer": "ipython3",
   "version": "3.10.12"
  }
 },
 "nbformat": 4,
 "nbformat_minor": 2
}

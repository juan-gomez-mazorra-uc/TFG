{
 "cells": [
  {
   "cell_type": "markdown",
   "metadata": {},
   "source": [
    "https://mitiq.readthedocs.io/en/stable/examples/maxcut-demo.html"
   ]
  },
  {
   "cell_type": "markdown",
   "metadata": {},
   "source": [
    "### Solving MaxCut with Mitiq-improved QAOA"
   ]
  },
  {
   "cell_type": "markdown",
   "metadata": {},
   "source": [
    "##### The MaxCut problem"
   ]
  },
  {
   "cell_type": "code",
   "execution_count": 20,
   "metadata": {},
   "outputs": [],
   "source": [
    "# Square graph\n",
    "square_graph = [(0, 1), (1, 2), (2, 3), (3, 0)]"
   ]
  },
  {
   "cell_type": "code",
   "execution_count": 45,
   "metadata": {},
   "outputs": [
    {
     "data": {
      "image/png": "[encoded data removed]",
      "text/plain": [
       "<Figure size 640x480 with 1 Axes>"
      ]
     },
     "metadata": {},
     "output_type": "display_data"
    }
   ],
   "source": [
    "import networkx as nx\n",
    "import matplotlib.pyplot as plt\n",
    "\n",
    "# Definir los bordes del grafo cuadrado\n",
    "square_graph_edges = [(0, 1), (1, 2), (2, 3), (3, 0)]\n",
    "\n",
    "# Crear un grafo vacío\n",
    "G = nx.Graph()\n",
    "\n",
    "# Agregar los bordes al grafo\n",
    "G.add_edges_from(square_graph_edges)\n",
    "\n",
    "# Dibujar el grafo\n",
    "nx.draw(G, with_labels=True, node_color='lightblue', font_weight='bold', node_size=1000)\n",
    "plt.show()\n"
   ]
  },
  {
   "cell_type": "code",
   "execution_count": 21,
   "metadata": {},
   "outputs": [],
   "source": [
    "from typing import List, Tuple\n",
    "\n",
    "def count_cuts(graph: List[Tuple[int]], set_a: set, set_b: set):\n",
    "    \"\"\"Counts the number of cuts of a graph bipartition.\"\"\"\n",
    "    num_cuts = 0\n",
    "    for edge in graph:\n",
    "        if edge[0] in set_a and edge[1] in set_b:\n",
    "            num_cuts += 1\n",
    "        if edge[0] in set_b and edge[1] in set_a:\n",
    "            num_cuts += 1\n",
    "    return num_cuts"
   ]
  },
  {
   "cell_type": "code",
   "execution_count": 46,
   "metadata": {},
   "outputs": [],
   "source": [
    "set_a = {0, 1}\n",
    "set_b = {2, 3}"
   ]
  },
  {
   "cell_type": "code",
   "execution_count": 47,
   "metadata": {},
   "outputs": [
    {
     "data": {
      "text/plain": [
       "2"
      ]
     },
     "execution_count": 47,
     "metadata": {},
     "output_type": "execute_result"
    }
   ],
   "source": [
    "count_cuts(square_graph, set_a, set_b)"
   ]
  },
  {
   "cell_type": "markdown",
   "metadata": {},
   "source": [
    "##### Representing a solution as bitstring"
   ]
  },
  {
   "cell_type": "code",
   "execution_count": 24,
   "metadata": {},
   "outputs": [],
   "source": [
    "optimal_string = \"1010\"\n",
    "sub_optimal_string = \"1110\""
   ]
  },
  {
   "cell_type": "code",
   "execution_count": 25,
   "metadata": {},
   "outputs": [],
   "source": [
    "def count_cuts_from_string(graph: List[Tuple[int]], bitstring: str):\n",
    "    \"\"\"Counts the number of cuts of a graph bipartition represented as a (big-endian) bitstring.\n",
    "    \"\"\"\n",
    "    cost = 0\n",
    "    for i, j in graph:\n",
    "        z1 = (2 * int(bitstring[-i]) - 1)\n",
    "        z2 = (2 * int(bitstring[-j]) - 1)\n",
    "        cost += -(1 - z1 * z2) // 2\n",
    "    return -cost"
   ]
  },
  {
   "cell_type": "code",
   "execution_count": 26,
   "metadata": {},
   "outputs": [
    {
     "data": {
      "text/plain": [
       "2"
      ]
     },
     "execution_count": 26,
     "metadata": {},
     "output_type": "execute_result"
    }
   ],
   "source": [
    "count_cuts_from_string(square_graph, sub_optimal_string)"
   ]
  },
  {
   "cell_type": "markdown",
   "metadata": {},
   "source": [
    "##### Define the QAOA cost Hamiltonian using Cirq"
   ]
  },
  {
   "cell_type": "code",
   "execution_count": 53,
   "metadata": {},
   "outputs": [],
   "source": [
    "from cirq import NamedQubit, Circuit, identity_each, ZZ\n",
    "import numpy as np\n",
    "\n",
    "def qaoa_hamiltonian(graph: List[Tuple[float]]) -> np.ndarray:\n",
    "    \"\"\"\n",
    "    Returns the cost Hamiltonian associated to the input graph.\n",
    "    \"\"\"\n",
    "    # Get all the nodes of the graph\n",
    "    nodes = list({node for edge in graph for node in edge})\n",
    "    # Initialize the qubits. One for each node.\n",
    "    qreg = [NamedQubit(str(nn)) for nn in nodes]\n",
    "    # Define the Hamiltonian as a NumPy array\n",
    "    np_identity = np.eye(2 ** len(nodes))\n",
    "    zz_terms = np.real([Circuit([identity_each(*qreg), ZZ(qreg[i], qreg[j])]).unitary() for i, j in graph])\n",
    "    local_terms = [-0.5 * (np_identity - zz_term) for zz_term in zz_terms]\n",
    "    return sum(local_terms)"
   ]
  },
  {
   "cell_type": "code",
   "execution_count": 54,
   "metadata": {},
   "outputs": [
    {
     "data": {
      "text/plain": [
       "-4.0"
      ]
     },
     "execution_count": 54,
     "metadata": {},
     "output_type": "execute_result"
    }
   ],
   "source": [
    "eig_vals = np.diag(qaoa_hamiltonian(square_graph))\n",
    "\n",
    "# Ground state energy\n",
    "min(eig_vals)"
   ]
  },
  {
   "cell_type": "code",
   "execution_count": 40,
   "metadata": {},
   "outputs": [
    {
     "data": {
      "text/plain": [
       "['0101', '1010']"
      ]
     },
     "execution_count": 40,
     "metadata": {},
     "output_type": "execute_result"
    }
   ],
   "source": [
    "nodes = list({node for edge in square_graph for node in edge})\n",
    "num_nodes = len(nodes)\n",
    "optimal_bitstrings = [f\"{j:b}\".zfill(num_nodes) for j, eig_val in enumerate(eig_vals) if eig_val == min(eig_vals)]\n",
    "optimal_bitstrings"
   ]
  },
  {
   "cell_type": "code",
   "execution_count": 41,
   "metadata": {},
   "outputs": [
    {
     "data": {
      "text/plain": [
       "[4, 4]"
      ]
     },
     "execution_count": 41,
     "metadata": {},
     "output_type": "execute_result"
    }
   ],
   "source": [
    "[count_cuts_from_string(square_graph, bitstring) for bitstring in optimal_bitstrings]"
   ]
  },
  {
   "cell_type": "markdown",
   "metadata": {},
   "source": [
    "##### Defining the QAOA ansatz"
   ]
  },
  {
   "cell_type": "code",
   "execution_count": 34,
   "metadata": {},
   "outputs": [],
   "source": [
    "from cirq import NamedQubit, Circuit, identity_each, ZZ, H, X\n",
    "from typing import List, Tuple\n",
    "\n",
    "def qaoa_ansatz(graph: List[Tuple[float]], params: List[float]) -> Circuit:\n",
    "    \"\"\"Generates a QAOA circuit associated to the input graph, for\n",
    "    a specific choice of variational parameters.\n",
    "\n",
    "    Args:\n",
    "        graph: The input graph.\n",
    "        params: The variational parameters.\n",
    "\n",
    "    Returns:\n",
    "        The QAOA circuit.\n",
    "    \"\"\"\n",
    "\n",
    "    # Get the list of unique nodes from the list of edges\n",
    "    nodes = list({node for edge in graph for node in edge})\n",
    "\n",
    "    # Initialize the qubits\n",
    "    qreg = [NamedQubit(str(nn)) for nn in nodes]\n",
    "\n",
    "    # Define the Hamiltonian evolution (up to an additive and a multiplicative constant)\n",
    "    def h_step(beta: float) -> Circuit:\n",
    "        return Circuit(ZZ(qreg[u], qreg[v]) ** (beta) for u, v in graph)\n",
    "\n",
    "    # Define the mixing evolution (up to an additive and a multiplicative constant)\n",
    "    def mix_step(gamma: float) -> Circuit:\n",
    "        return Circuit(X(qq) ** gamma for qq in qreg)\n",
    "\n",
    "    # State preparation layer\n",
    "    circ = Circuit(H.on_each(qreg))\n",
    "\n",
    "    # Apply QAOA steps\n",
    "    num_steps = len(params) // 2\n",
    "    betas, alphas = params[:num_steps], params[num_steps:]\n",
    "    for beta, alpha in zip(betas, alphas):\n",
    "        circ.append([h_step(beta) + mix_step(alpha)])\n",
    "\n",
    "    return circ"
   ]
  },
  {
   "cell_type": "code",
   "execution_count": 35,
   "metadata": {},
   "outputs": [
    {
     "data": {
      "text/html": [
       "<pre style=\"overflow: auto; white-space: pre;\">0: ───H───ZZ─────────────────────────ZZ───────X^0.3───ZZ─────────────────────────ZZ───────X^0.4───\n",
       "          │                          │                │                          │\n",
       "1: ───H───ZZ^0.1───ZZ────────────────┼────────X^0.3───ZZ^0.2───ZZ────────────────┼────────X^0.4───\n",
       "                   │                 │                         │                 │\n",
       "2: ───H────────────ZZ^0.1───ZZ───────┼────────X^0.3────────────ZZ^0.2───ZZ───────┼────────X^0.4───\n",
       "                            │        │                                  │        │\n",
       "3: ───H─────────────────────ZZ^0.1───ZZ^0.1───X^0.3─────────────────────ZZ^0.2───ZZ^0.2───X^0.4───</pre>"
      ],
      "text/plain": [
       "0: ───H───ZZ─────────────────────────ZZ───────X^0.3───ZZ─────────────────────────ZZ───────X^0.4───\n",
       "          │                          │                │                          │\n",
       "1: ───H───ZZ^0.1───ZZ────────────────┼────────X^0.3───ZZ^0.2───ZZ────────────────┼────────X^0.4───\n",
       "                   │                 │                         │                 │\n",
       "2: ───H────────────ZZ^0.1───ZZ───────┼────────X^0.3────────────ZZ^0.2───ZZ───────┼────────X^0.4───\n",
       "                            │        │                                  │        │\n",
       "3: ───H─────────────────────ZZ^0.1───ZZ^0.1───X^0.3─────────────────────ZZ^0.2───ZZ^0.2───X^0.4───"
      ]
     },
     "execution_count": 35,
     "metadata": {},
     "output_type": "execute_result"
    }
   ],
   "source": [
    "betas = [0.1, 0.2]\n",
    "alphas = [0.3, 0.4]\n",
    "params = betas + alphas\n",
    "qaoa_ansatz(square_graph, params)"
   ]
  },
  {
   "cell_type": "code",
   "execution_count": 36,
   "metadata": {},
   "outputs": [],
   "source": [
    "from cirq import depolarize, DensityMatrixSimulator\n",
    "\n",
    "def executor(circ: Circuit, obs: np.array, noise: float) -> float:\n",
    "    \"\"\"Simulates a circuit with depolarizing noise at level 'noise' and returns the\n",
    "    expectation value of the observable 'obs'.\n",
    "    \"\"\"\n",
    "    SIMULATOR = DensityMatrixSimulator()\n",
    "    # Add the noise\n",
    "    noisy_circ = circ.with_noise(depolarize(p=noise))\n",
    "    # Get the final quantum state\n",
    "    rho = SIMULATOR.simulate(noisy_circ).final_density_matrix\n",
    "    # Return the expectation value\n",
    "    return np.real(np.trace(rho @ obs))"
   ]
  },
  {
   "cell_type": "code",
   "execution_count": 37,
   "metadata": {},
   "outputs": [
    {
     "ename": "NameError",
     "evalue": "name 'qaoa_hamiltonian' is not defined",
     "output_type": "error",
     "traceback": [
      "\u001b[0;31m---------------------------------------------------------------------------\u001b[0m",
      "\u001b[0;31mNameError\u001b[0m                                 Traceback (most recent call last)",
      "Cell \u001b[0;32mIn[37], line 5\u001b[0m\n\u001b[1;32m      3\u001b[0m params \u001b[38;5;241m=\u001b[39m betas \u001b[38;5;241m+\u001b[39m alphas\n\u001b[1;32m      4\u001b[0m circuit \u001b[38;5;241m=\u001b[39m qaoa_ansatz(square_graph, params)\n\u001b[0;32m----> 5\u001b[0m hamiltonian \u001b[38;5;241m=\u001b[39m \u001b[43mqaoa_hamiltonian\u001b[49m(square_graph)\n\u001b[1;32m      6\u001b[0m executor(circuit, obs\u001b[38;5;241m=\u001b[39mhamiltonian, noise\u001b[38;5;241m=\u001b[39m\u001b[38;5;241m0\u001b[39m)\n",
      "\u001b[0;31mNameError\u001b[0m: name 'qaoa_hamiltonian' is not defined"
     ]
    }
   ],
   "source": [
    "betas = [0.1, 0.2]\n",
    "alphas = [0.3, 0.4]\n",
    "params = betas + alphas\n",
    "circuit = qaoa_ansatz(square_graph, params)\n",
    "hamiltonian = qaoa_hamiltonian(square_graph)\n",
    "executor(circuit, obs=hamiltonian, noise=0)"
   ]
  },
  {
   "cell_type": "markdown",
   "metadata": {},
   "source": [
    "##### Minimization of the QAOA cost"
   ]
  },
  {
   "cell_type": "code",
   "execution_count": 42,
   "metadata": {},
   "outputs": [],
   "source": [
    "from typing import Callable\n",
    "from scipy.optimize import minimize\n",
    "\n",
    "\n",
    "def minimize_cost(\n",
    "    cost_function: Callable[[np.array], float],\n",
    "    init_params: np.array,\n",
    ") -> Tuple[float, np.ndarray, List[float]]:\n",
    "    \"\"\"Minimizes a cost function which depends on an array variational parameters.\n",
    "\n",
    "    Args:\n",
    "        cost_function: The cost function to minimize.\n",
    "        init_params: The initial variational parameters.\n",
    "\n",
    "    Returns:\n",
    "        A triple of the minimum cost, the optimal parameters and a list of costs at each iteration steps.\n",
    "    \"\"\"\n",
    "\n",
    "\n",
    "    # store the optimization trajectory\n",
    "    traj = []\n",
    "\n",
    "    def callback(xk: np.ndarray) -> bool:\n",
    "        traj.append(cost_function(xk))\n",
    "        return True\n",
    "\n",
    "    results = minimize(\n",
    "        cost_function,\n",
    "        x0=init_params,\n",
    "        method=\"Nelder-Mead\",\n",
    "        callback=callback,\n",
    "        options={\"disp\": True, \"maxiter\": 300},\n",
    "        # Set tol=0 to enforce a fixed number of iterations.\n",
    "        # Comment tol=0 to speedup the notebook execution.\n",
    "        tol=0,\n",
    "    )\n",
    "\n",
    "    plt.title(\"Optimization history\")\n",
    "    plt.xlabel(\"Iteration Step\")\n",
    "    plt.ylabel(\"Cost\")\n",
    "    plt.plot(traj)\n",
    "    plt.show()\n",
    "    return results.fun, results.x, traj"
   ]
  },
  {
   "cell_type": "code",
   "execution_count": 43,
   "metadata": {},
   "outputs": [],
   "source": [
    "from matplotlib import pyplot as plt\n",
    "\n",
    "graph = [(0, 1), (1, 2), (2, 3), (3, 0)]\n",
    "betas = [0.0, 0.5]\n",
    "gammas = [0.7, 1.0]\n",
    "init_params = betas + gammas"
   ]
  },
  {
   "cell_type": "code",
   "execution_count": 44,
   "metadata": {},
   "outputs": [
    {
     "name": "stderr",
     "output_type": "stream",
     "text": [
      "/tmp/ipykernel_58875/746384773.py:27: RuntimeWarning: Maximum number of iterations has been exceeded.\n",
      "  results = minimize(\n"
     ]
    },
    {
     "data": {
      "image/png": "[encoded data removed]",
      "text/plain": [
       "<Figure size 640x480 with 1 Axes>"
      ]
     },
     "metadata": {},
     "output_type": "display_data"
    },
    {
     "name": "stdout",
     "output_type": "stream",
     "text": [
      "Ideal cost:  -4.0\n"
     ]
    }
   ],
   "source": [
    "def qaoa_ideal_cost(params: np.array) -> float:\n",
    "    \"\"\"Ideal cost function of the QAOA problem without noise.\"\"\"\n",
    "    qaoa_circuit = qaoa_ansatz(graph, params)\n",
    "    qaoa_obs = qaoa_hamiltonian(graph)\n",
    "    return executor(qaoa_circuit, qaoa_obs, noise=0)\n",
    "\n",
    "ideal_opt_cost, ideal_opt_params, traj = minimize_cost(qaoa_ideal_cost, init_params)\n",
    "print(\"Ideal cost: \", np.round(ideal_opt_cost, 4))"
   ]
  }
 ],
 "metadata": {
  "kernelspec": {
   "display_name": "tfg_env",
   "language": "python",
   "name": "python3"
  },
  "language_info": {
   "codemirror_mode": {
    "name": "ipython",
    "version": 3
   },
   "file_extension": ".py",
   "mimetype": "text/x-python",
   "name": "python",
   "nbconvert_exporter": "python",
   "pygments_lexer": "ipython3",
   "version": "3.10.12"
  }
 },
 "nbformat": 4,
 "nbformat_minor": 2
}

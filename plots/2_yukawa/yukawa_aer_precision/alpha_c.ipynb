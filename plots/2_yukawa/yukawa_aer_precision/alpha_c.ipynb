{
 "cells": [
  {
   "cell_type": "code",
   "execution_count": 108,
   "metadata": {},
   "outputs": [],
   "source": [
    "import os\n",
    "import csv\n",
    "from matplotlib import rc"
   ]
  },
  {
   "cell_type": "code",
   "execution_count": 109,
   "metadata": {},
   "outputs": [],
   "source": [
    "base = 5\n",
    "path = f'N={base}'"
   ]
  },
  {
   "cell_type": "code",
   "execution_count": 110,
   "metadata": {},
   "outputs": [],
   "source": [
    "rc('font', size=12, **{'family': 'serif', 'serif': ['Times New Roman']})\n",
    "\n",
    "def ordenar_por_numero(nombre_archivo):\n",
    "    # Obtener el número del nombre del archivo\n",
    "    numero = int(nombre_archivo.split('=')[1].split('.')[0])\n",
    "    return numero"
   ]
  },
  {
   "cell_type": "code",
   "execution_count": 111,
   "metadata": {},
   "outputs": [],
   "source": [
    "def format_number(number):\n",
    "    # Convertir el número a una cadena con notación científica para extraer la primera cifra significativa\n",
    "    scientific_str = f\"{number:.1e}\"\n",
    "    first_digit = int(scientific_str[0])\n",
    "    \n",
    "    # Si la primera cifra significativa es 1, usar dos cifras significativas\n",
    "    if first_digit == 1:\n",
    "        formatted_number = f\"{number:.2g}\"\n",
    "    else:\n",
    "        # Si la primera cifra significativa es diferente de 1, usar una cifra significativa\n",
    "        formatted_number = f\"{number:.1g}\"\n",
    "    \n",
    "    return formatted_number\n",
    "\n",
    "def match_decimals(number_to_format, reference_number):\n",
    "    # Formatear el número de referencia para determinar la cantidad de decimales\n",
    "    formatted_reference = format_number(reference_number)\n",
    "    \n",
    "    # Extraer la parte decimal del número formateado\n",
    "    if '.' in formatted_reference:\n",
    "        decimals = len(formatted_reference.split('.')[1])\n",
    "    else:\n",
    "        decimals = 0\n",
    "    \n",
    "    # Formatear el número a formatear con la misma cantidad de decimales\n",
    "    formatted_number = f\"{number_to_format:.{decimals}f}\"\n",
    "    \n",
    "    return formatted_number"
   ]
  },
  {
   "cell_type": "code",
   "execution_count": 112,
   "metadata": {},
   "outputs": [],
   "source": [
    "# files = [file for file in os.listdir(f'{path}') if file.endswith('.csv')]\n",
    "# for i, file in enumerate(files):\n",
    "#     alpha  = []\n",
    "#     energy = []\n",
    "\n",
    "#     with open(f'{path}/{file}', newline='') as csvfile:\n",
    "#         reader = csv.reader(csvfile)\n",
    "#         next(reader)\n",
    "\n",
    "#         for row in reader:\n",
    "#             alpha.append(float(row[0]))\n",
    "#             energy.append(float(row[1]))\n",
    "\n",
    "#     for n in range(len(energy)-1):\n",
    "#         if energy[n] * energy[n+1] < 0:\n",
    "#             alpha_c_exact = round((alpha[n] + alpha[n+1]) / 2, 3)\n",
    "#             print(alpha_c_exact)\n",
    "\n",
    "alpha_c_exact = 1.19061074"
   ]
  },
  {
   "cell_type": "code",
   "execution_count": 113,
   "metadata": {},
   "outputs": [
    {
     "name": "stdout",
     "output_type": "stream",
     "text": [
      "\t\t\t$COBYLA$ & $16$ & $1.036 \\pm 0.006$ & $12.99\\%$ \\\\\n",
      "\t\t\t$COBYLA$ & $128$ & & \\\\\n",
      "\t\t\t$COBYLA$ & $1024$ & $1.13 \\pm 0.01$ & $5.09\\%$ \\\\\n",
      "\t\t\t$COBYLA$ & $16384$ & $1.121 \\pm 0.002$ & $5.85\\%$ \\\\\n"
     ]
    }
   ],
   "source": [
    "folders = [folder for folder in os.listdir(path) if '.' not in folder]\n",
    "\n",
    "for n, folder in enumerate(folders):\n",
    "    files = [file for file in os.listdir(f'{path}/{folder}') if file.endswith('.csv')]\n",
    "    files = sorted(files, key=ordenar_por_numero)\n",
    "\n",
    "    for i, file in enumerate(files):\n",
    "        N = int(file.split('=')[1].split('.')[0])\n",
    "\n",
    "        alpha  = []\n",
    "        energy_vqe = []\n",
    "\n",
    "        with open(f'{path}/{folder}/{file}', newline='') as csvfile:\n",
    "            reader = csv.reader(csvfile)\n",
    "            next(reader)\n",
    "\n",
    "            for row in reader:\n",
    "                alpha.append(float(row[0]))\n",
    "                energy_vqe.append(float(row[1]))\n",
    "\n",
    "\n",
    "        alpha_c = []\n",
    "\n",
    "        for n in range(len(energy_vqe)-1):\n",
    "            if energy_vqe[n] * energy_vqe[n+1] < 0:\n",
    "                alpha_c.append((alpha[n] + alpha[n+1]) / 2)\n",
    "        \n",
    "        a = folder.split('_')[-1]\n",
    "        b = file.split('=')[-1].split('.')[0]\n",
    "\n",
    "        if len(alpha_c) == 0:\n",
    "            print(f'\t\t\t${a}$ & ${b}$ & & \\\\\\\\')\n",
    "        elif len(alpha_c) == 1:\n",
    "            c = alpha_c[0]\n",
    "            d = 0.0005\n",
    "            c = match_decimals(float(c), float(d))\n",
    "            e = abs(round((float(c) - alpha_c_exact) / alpha_c_exact * 100, 2))\n",
    "            print(f'\t\t\t${a}$ & ${b}$ & ${c} \\\\pm {d}$ & ${e}\\\\%$ \\\\\\\\')\n",
    "        else:\n",
    "            c = (alpha_c[0] + alpha_c[-1]) / 2\n",
    "            d = format_number(abs((alpha_c[0] - alpha_c[-1]) / 2))\n",
    "            c = match_decimals(float(c), float(d))\n",
    "            e = abs(round((float(c) - alpha_c_exact) / alpha_c_exact * 100, 2))\n",
    "            print(f'\t\t\t${a}$ & ${b}$ & ${c} \\\\pm {d}$ & ${e}\\\\%$ \\\\\\\\')"
   ]
  }
 ],
 "metadata": {
  "kernelspec": {
   "display_name": "tfg_env",
   "language": "python",
   "name": "python3"
  },
  "language_info": {
   "codemirror_mode": {
    "name": "ipython",
    "version": 3
   },
   "file_extension": ".py",
   "mimetype": "text/x-python",
   "name": "python",
   "nbconvert_exporter": "python",
   "pygments_lexer": "ipython3",
   "version": "3.12.4"
  }
 },
 "nbformat": 4,
 "nbformat_minor": 2
}

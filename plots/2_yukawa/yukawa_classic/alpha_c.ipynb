{
 "cells": [
  {
   "cell_type": "code",
   "execution_count": 7,
   "metadata": {},
   "outputs": [],
   "source": [
    "import os\n",
    "import csv\n",
    "import numpy as np\n",
    "from matplotlib import rc\n",
    "import matplotlib.pyplot as plt"
   ]
  },
  {
   "cell_type": "code",
   "execution_count": 8,
   "metadata": {},
   "outputs": [],
   "source": [
    "base = '0.75'\n",
    "folder = f'results_{base}'"
   ]
  },
  {
   "cell_type": "code",
   "execution_count": 9,
   "metadata": {},
   "outputs": [],
   "source": [
    "rc('font', size=12, **{'family': 'serif', 'serif': ['Times New Roman']})\n",
    "\n",
    "def ordenar_por_numero(nombre_archivo):\n",
    "    # Obtener el número del nombre del archivo\n",
    "    numero = int(nombre_archivo.split('=')[1].split('.')[0])\n",
    "    return numero"
   ]
  },
  {
   "cell_type": "code",
   "execution_count": 10,
   "metadata": {},
   "outputs": [
    {
     "name": "stdout",
     "output_type": "stream",
     "text": [
      "$2$ & $1.111$ \\\\\n",
      "$3$ & $1.141$ \\\\\n",
      "$4$ & $1.161$ \\\\\n",
      "$5$ & $1.161$ \\\\\n",
      "$6$ & $1.171$ \\\\\n",
      "$7$ & $1.171$ \\\\\n",
      "$8$ & $1.171$ \\\\\n"
     ]
    }
   ],
   "source": [
    "folders = [folder for folder in os.listdir(folder) if '.' not in folder]\n",
    "\n",
    "files = [file for file in os.listdir(f'{folder}') if file.endswith('.csv')]\n",
    "files = sorted(files, key=ordenar_por_numero)\n",
    "\n",
    "\n",
    "for i, file in enumerate(files):\n",
    "    N = int(file.split('=')[1].split('.')[0])\n",
    "\n",
    "    alpha  = []\n",
    "    energy = []\n",
    "\n",
    "    with open(f'{folder}/{file}', newline='') as csvfile:\n",
    "        reader = csv.reader(csvfile)\n",
    "        next(reader)\n",
    "\n",
    "        for row in reader:\n",
    "            alpha.append(float(row[0]))\n",
    "            energy.append(float(row[1]))\n",
    "\n",
    "\n",
    "    for n in range(len(energy)-1):\n",
    "        if energy[n] * energy[n+1] < 0:\n",
    "            alpha_c = (alpha[n] + alpha[n+1]) / 2\n",
    "            print(f'${N}$ & ${round(alpha_c, 3)}$ \\\\\\\\')"
   ]
  },
  {
   "cell_type": "code",
   "execution_count": 11,
   "metadata": {},
   "outputs": [
    {
     "data": {
      "image/png": "[encoded data removed]",
      "text/plain": [
       "<Figure size 750x500 with 1 Axes>"
      ]
     },
     "metadata": {},
     "output_type": "display_data"
    }
   ],
   "source": [
    "bases = [0.75, 1, 2]\n",
    "markers = ['o', 'x', 's']\n",
    "colors = ['red', '#0027FF', 'green']\n",
    "\n",
    "rows = 1\n",
    "columns = 1\n",
    "\n",
    "fig, axs = plt.subplots(rows, columns, figsize=(7.5, 5))\n",
    "\n",
    "\n",
    "for base in bases:\n",
    "    globals()[f'base_{base}'] = []\n",
    "    globals()[f'alpha_{base}'] = []\n",
    "\n",
    "for l, base in enumerate(bases):\n",
    "    folder = f'results_{base}'\n",
    "    folders = [folder for folder in os.listdir(folder) if '.' not in folder]\n",
    "\n",
    "    files = [file for file in os.listdir(f'{folder}') if file.endswith('.csv')]\n",
    "    files = sorted(files, key=ordenar_por_numero)\n",
    "\n",
    "\n",
    "    for i, file in enumerate(files):\n",
    "        N = int(file.split('=')[1].split('.')[0])\n",
    "\n",
    "        alpha  = []\n",
    "        energy = []\n",
    "\n",
    "        with open(f'{folder}/{file}', newline='') as csvfile:\n",
    "            reader = csv.reader(csvfile)\n",
    "            next(reader)\n",
    "\n",
    "            for row in reader:\n",
    "                alpha.append(float(row[0]))\n",
    "                energy.append(float(row[1]))\n",
    "\n",
    "        \n",
    "        for n in range(len(energy)-1):\n",
    "            if energy[n] * energy[n+1] < 0:\n",
    "                alpha_c = (alpha[n] + alpha[n+1]) / 2\n",
    "\n",
    "\n",
    "        globals()[f'base_{base}'].append(N)\n",
    "        globals()[f'alpha_{base}'].append(alpha_c)\n",
    "\n",
    "\n",
    "    axs.errorbar(globals()[f'base_{base}'], globals()[f'alpha_{base}'], color=colors[l], marker=markers[l], linestyle='', label=f'Z = {base}', markersize=6)\n",
    "    # axs[column].set_title(f'$N = {N}$', fontsize=16)\n",
    "    axs.set_xlabel('$N$', fontsize=14)\n",
    "    axs.set_ylabel(r'$\\alpha_c$', fontsize=14)\n",
    "    axs.grid(False)\n",
    "    axs.legend(loc='lower right')\n",
    "    axs.set_xlim(0, 10)\n",
    "    # axs.set_ylim(-0.5, 0.1)\n",
    "\n",
    "\n",
    "N = np.linspace(0, 10, 200).astype(int)\n",
    "alpha_c = np.linspace(1.19061074, 1.19061074, 200).astype(float)\n",
    "axs.plot(N, alpha_c, color='black', marker='', linestyle='--')\n",
    "\n",
    "plt.tight_layout()\n",
    "plt.savefig(f'yukawa_classic_plot.png')\n",
    "plt.savefig(f'../../../TFG/Figuras/yukawa_classic_plot.png')\n",
    "plt.show()"
   ]
  }
 ],
 "metadata": {
  "kernelspec": {
   "display_name": "tfg_env",
   "language": "python",
   "name": "python3"
  },
  "language_info": {
   "codemirror_mode": {
    "name": "ipython",
    "version": 3
   },
   "file_extension": ".py",
   "mimetype": "text/x-python",
   "name": "python",
   "nbconvert_exporter": "python",
   "pygments_lexer": "ipython3",
   "version": "3.12.4"
  }
 },
 "nbformat": 4,
 "nbformat_minor": 2
}

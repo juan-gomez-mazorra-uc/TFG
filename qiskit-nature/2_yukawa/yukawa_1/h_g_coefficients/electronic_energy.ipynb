{
 "cells": [
  {
   "cell_type": "markdown",
   "metadata": {},
   "source": [
    "https://qiskit-community.github.io/qiskit-nature/stubs/qiskit_nature.second_q.hamiltonians.ElectronicEnergy.html"
   ]
  },
  {
   "cell_type": "markdown",
   "metadata": {},
   "source": [
    "### The electronic energy Hamiltonian"
   ]
  },
  {
   "cell_type": "code",
   "execution_count": 14,
   "metadata": {},
   "outputs": [],
   "source": [
    "import numpy as np\n",
    "from qiskit_nature.units import DistanceUnit\n",
    "from qiskit_nature.second_q.drivers import PySCFDriver\n",
    "from qiskit_nature.second_q.algorithms import GroundStateEigensolver\n",
    "from qiskit_nature.second_q.mappers import JordanWignerMapper\n",
    "from qiskit_algorithms import VQE\n",
    "from qiskit_algorithms import NumPyMinimumEigensolver"
   ]
  },
  {
   "cell_type": "code",
   "execution_count": 16,
   "metadata": {},
   "outputs": [],
   "source": [
    "driver = PySCFDriver(\n",
    "    atom=f\"H 0 0 0\",\n",
    "    basis=\"sto3g\",\n",
    "    charge=0,\n",
    "    spin=1,\n",
    "    unit=DistanceUnit.ANGSTROM,\n",
    ")\n",
    "problem = driver.run()\n",
    "mapper = JordanWignerMapper()\n",
    "\n",
    "fermionic_op = problem.hamiltonian.second_q_op()\n",
    "\n",
    "qubit_op = mapper.map(fermionic_op)"
   ]
  },
  {
   "cell_type": "code",
   "execution_count": 17,
   "metadata": {},
   "outputs": [
    {
     "name": "stdout",
     "output_type": "stream",
     "text": [
      "Polynomial Tensor\n",
      " \"+-\":\n",
      "array([[-0.46658185]])\n",
      " \"++--\":\n",
      "array([0.77460594])\n"
     ]
    }
   ],
   "source": [
    "hamiltonian = problem.hamiltonian\n",
    "coefficients = hamiltonian.electronic_integrals\n",
    "print(coefficients.alpha)"
   ]
  },
  {
   "cell_type": "code",
   "execution_count": 2,
   "metadata": {},
   "outputs": [],
   "source": [
    "# assuming you already have your one- and two-body integrals from somewhere\n",
    "# h1_a, h2_aa, h1_b, h2_bb, h2_ba = ...\n",
    "\n",
    "h1_a = np.array([[-0.46658185, 0          ],\n",
    "                 [ 0         , -0.46658185]])\n",
    "\n",
    "\n",
    "h2_aa = np.array([[[[0.77460594, 0         ], [0         , 0         ]],\n",
    "                   [[0         , 0         ], [0.77460594, 0         ]]],\n",
    "                  [[[0         , 0.77460594], [0         , 0         ]],\n",
    "                   [[0         , 0         ], [0         , 0.77460594]]]])\n",
    "\n",
    "\n",
    "h1_a = np.array([[-0.5]])\n",
    "h2_aa = np.zeros((1, 1, 1, 1))\n",
    "\n",
    "\n",
    "# -1.8654161073242188\n",
    "\n",
    "h1_b = h1_a\n",
    "h2_bb = h2_aa\n",
    "\n",
    "h2_ba = h2_aa\n",
    "\n",
    "\n",
    "from qiskit_nature.second_q.operators import ElectronicIntegrals, PolynomialTensor\n",
    "\n",
    "alpha = PolynomialTensor({\"+-\": h1_a, \"++--\": h2_aa})\n",
    "beta = PolynomialTensor({\"+-\": h1_b, \"++--\": h2_bb})\n",
    "beta_alpha = PolynomialTensor({\"++--\": h2_ba})\n",
    "\n",
    "integrals = ElectronicIntegrals(alpha, beta, beta_alpha)"
   ]
  },
  {
   "cell_type": "markdown",
   "metadata": {},
   "source": [
    "Las listas h1_a, h1_b, h2_aa, h2_bb, y h2_ba son matrices que representan las integrales electrónicas de un sistema cuántico o molecular. El tamaño de estas matrices depende de la cantidad de orbitales atómicos en el sistema y de cómo se están representando las interacciones entre estos orbitales.\n",
    "\n",
    "1. h1_a y h1_b: Estas son matrices de un solo cuerpo que representan las integrales de energía cinética y potencial para los orbitales atómicos del sistema. Ambas matrices son de tamaño 2x2, ya que cada fila y columna corresponde a un orbital atómico en el sistema. Por ejemplo, h1_a[0, 0] representa la integral de energía cinética para el primer orbital atómico de A.\n",
    "\n",
    "1. h2_aa y h2_bb: Estas son matrices de dos cuerpos que representan las interacciones electrón-electrón dentro del mismo conjunto de orbitales atómicos (A-A o B-B). Ambas matrices son de tamaño 2x2x2x2, ya que hay dos índices para los orbitales atómicos en A o B. Por ejemplo, h2_aa[0, 0, 0, 0] representa la interacción electrón-electrón entre el primer orbital atómico de A y el primer orbital atómico de A.\n",
    "\n",
    "1. h2_ba: Esta es una matriz de dos cuerpos que representa las interacciones electrón-electrón entre orbitales atómicos de diferentes conjuntos (B-A). Esta matriz también es de tamaño 2x2x2x2, ya que hay dos índices para los orbitales atómicos en B y A. Por ejemplo, h2_ba[0, 0, 0, 0] representa la interacción electrón-electrón entre el primer orbital atómico de B y el primer orbital atómico de A.\n",
    "\n",
    "En resumen, los tamaños de estas matrices se derivan de la cantidad de orbitales atómicos en el sistema y de cómo se están modelando las interacciones entre estos orbitales en el contexto de las integrales electrónicas del sistema."
   ]
  },
  {
   "cell_type": "code",
   "execution_count": 3,
   "metadata": {},
   "outputs": [],
   "source": [
    "from qiskit_nature.second_q.hamiltonians import ElectronicEnergy\n",
    "\n",
    "hamiltonian = ElectronicEnergy(integrals, constants={\"nuclear_repulsion_energy\": 0.01})"
   ]
  },
  {
   "cell_type": "code",
   "execution_count": 4,
   "metadata": {},
   "outputs": [
    {
     "name": "stdout",
     "output_type": "stream",
     "text": [
      "Fermionic Operator\n",
      "number spin orbitals=2, number terms=2\n",
      "  -0.5 * ( +_0 -_0 )\n",
      "+ -0.5 * ( +_1 -_1 )\n"
     ]
    }
   ],
   "source": [
    "second_q_op = hamiltonian.second_q_op()\n",
    "print(second_q_op)"
   ]
  },
  {
   "cell_type": "code",
   "execution_count": 5,
   "metadata": {},
   "outputs": [],
   "source": [
    "from qiskit_nature.second_q.mappers import JordanWignerMapper\n",
    "from qiskit_algorithms import VQE\n",
    "from qiskit_algorithms.utils import algorithm_globals\n",
    "from qiskit_aer.primitives import Estimator as AerEstimator\n",
    "from qiskit.circuit.library import TwoLocal\n",
    "from qiskit_algorithms.optimizers import SPSA\n",
    "\n",
    "mapper = JordanWignerMapper()\n",
    "fermionic_op = hamiltonian.second_q_op()\n",
    "qubit_op = mapper.map(fermionic_op)\n",
    "\n",
    "# define callback\n",
    "# note: Re-run this cell to restart lists before training\n",
    "counts = []\n",
    "values = []\n",
    "\n",
    "def store_intermediate_result(eval_count, parameters, mean, std):\n",
    "    counts.append(eval_count)\n",
    "    values.append(mean)\n",
    "\n",
    "seed = 170\n",
    "algorithm_globals.random_seed = seed\n",
    "noiseless_estimator = AerEstimator(\n",
    "    run_options={\"seed\": seed, \"shots\": 2**11},\n",
    "    transpile_options={\"seed_transpiler\": seed},\n",
    ")\n",
    "\n",
    "iterations = 125\n",
    "ansatz = TwoLocal(rotation_blocks=\"ry\", entanglement_blocks=\"cz\")\n",
    "spsa = SPSA(maxiter=iterations)\n",
    "\n",
    "vqe = VQE(\n",
    "    noiseless_estimator, ansatz, optimizer=spsa, callback=store_intermediate_result\n",
    ")\n",
    "\n",
    "result_vqe = vqe.compute_minimum_eigenvalue(operator=qubit_op)"
   ]
  },
  {
   "cell_type": "code",
   "execution_count": 6,
   "metadata": {},
   "outputs": [
    {
     "data": {
      "text/plain": [
       "Text(0.5, 1.0, 'Convergence with no noise')"
      ]
     },
     "execution_count": 6,
     "metadata": {},
     "output_type": "execute_result"
    },
    {
     "data": {
      "image/png": "[encoded data removed]",
      "text/plain": [
       "<Figure size 1200x400 with 1 Axes>"
      ]
     },
     "metadata": {},
     "output_type": "display_data"
    }
   ],
   "source": [
    "import pylab\n",
    "\n",
    "pylab.rcParams[\"figure.figsize\"] = (12, 4)\n",
    "pylab.plot(counts, values)\n",
    "pylab.xlabel(\"Eval count\")\n",
    "pylab.ylabel(\"Energy\")\n",
    "pylab.title(\"Convergence with no noise\")"
   ]
  },
  {
   "cell_type": "code",
   "execution_count": 7,
   "metadata": {},
   "outputs": [
    {
     "data": {
      "text/plain": [
       "-1.0"
      ]
     },
     "execution_count": 7,
     "metadata": {},
     "output_type": "execute_result"
    }
   ],
   "source": [
    "result_vqe.eigenvalue.real"
   ]
  },
  {
   "cell_type": "markdown",
   "metadata": {},
   "source": [
    "Note, how we specified the nuclear repulsion energy as a constant energy offset in the above examples. This term will not be included in the mapped qubit operator since it is a constant offset term and does not need to incur any errors from being measured on a quantum device. It is however possible to include constant energy terms inside of the ElectronicIntegrals container, if you want it to be included in the qubit operator, once mapping the second-quantized operator to the qubit space (see also QubitMapper)."
   ]
  },
  {
   "cell_type": "code",
   "execution_count": 8,
   "metadata": {},
   "outputs": [],
   "source": [
    "from qiskit_nature.second_q.operators import PolynomialTensor\n",
    "\n",
    "e_nuc = hamiltonian.nuclear_repulsion_energy\n",
    "hamiltonian.electronic_integrals.alpha += PolynomialTensor({\"\": e_nuc})\n",
    "hamiltonian.nuclear_repulsion_energy = None"
   ]
  },
  {
   "cell_type": "markdown",
   "metadata": {},
   "source": [
    "It is also possible to add other constant energy offsets to the constants attribute of this Hamiltonian. All offsets registered in that dictionary will not be mapped to the qubit operator."
   ]
  },
  {
   "cell_type": "code",
   "execution_count": 9,
   "metadata": {},
   "outputs": [],
   "source": [
    "hamiltonian.constants[\"my custom offset\"] = 5.0\n",
    "\n",
    "# be careful, the following overwrites the hamiltonian.nuclear_repulsion_energy value\n",
    "hamiltonian.constants[\"nuclear_repulsion_energy\"] = 10.0"
   ]
  },
  {
   "cell_type": "code",
   "execution_count": null,
   "metadata": {},
   "outputs": [],
   "source": []
  },
  {
   "cell_type": "code",
   "execution_count": null,
   "metadata": {},
   "outputs": [],
   "source": []
  },
  {
   "cell_type": "code",
   "execution_count": null,
   "metadata": {},
   "outputs": [],
   "source": []
  },
  {
   "cell_type": "markdown",
   "metadata": {},
   "source": [
    "https://quri-parts.qunasys.com/tutorials/quantum_chemistry/mo_eint_and_hamiltonian"
   ]
  },
  {
   "cell_type": "code",
   "execution_count": 10,
   "metadata": {},
   "outputs": [],
   "source": [
    "from pyscf import gto\n",
    "\n",
    "h2o_atom_list = [['H', [0, 0, 0]], ['H', [0, 0, 0.735]]]\n",
    "h2o_mol = gto.M(atom=h2o_atom_list, spin=0, verbose = 0)"
   ]
  },
  {
   "cell_type": "code",
   "execution_count": 11,
   "metadata": {},
   "outputs": [],
   "source": [
    "from pyscf import scf\n",
    "\n",
    "h2o_mf = scf.RHF(h2o_mol).run()\n",
    "h2o_mo_coeff = h2o_mf.mo_coeff  # The MO coefficient of the H2O molecule."
   ]
  },
  {
   "cell_type": "code",
   "execution_count": 12,
   "metadata": {},
   "outputs": [],
   "source": [
    "from quri_parts.pyscf.mol import get_spin_mo_integrals_from_mole\n",
    "\n",
    "full_space, mo_eint_set = get_spin_mo_integrals_from_mole(h2o_mol, h2o_mo_coeff)"
   ]
  },
  {
   "cell_type": "code",
   "execution_count": 13,
   "metadata": {},
   "outputs": [],
   "source": [
    "nuclear_energy = mo_eint_set.const\n",
    "mo_1e_int = mo_eint_set.mo_1e_int.array\n",
    "mo_2e_int = mo_eint_set.mo_2e_int.array"
   ]
  },
  {
   "cell_type": "code",
   "execution_count": 14,
   "metadata": {},
   "outputs": [
    {
     "data": {
      "text/plain": [
       "array([[-1.25633907e+00+0.j,  0.00000000e+00+0.j, -1.37083854e-17+0.j,\n",
       "         0.00000000e+00+0.j],\n",
       "       [ 0.00000000e+00+0.j, -1.25633907e+00+0.j,  0.00000000e+00+0.j,\n",
       "        -1.37083854e-17+0.j],\n",
       "       [-6.07732712e-17+0.j,  0.00000000e+00+0.j, -4.71896007e-01+0.j,\n",
       "         0.00000000e+00+0.j],\n",
       "       [ 0.00000000e+00+0.j, -6.07732712e-17+0.j,  0.00000000e+00+0.j,\n",
       "        -4.71896007e-01+0.j]])"
      ]
     },
     "execution_count": 14,
     "metadata": {},
     "output_type": "execute_result"
    }
   ],
   "source": [
    "mo_1e_int"
   ]
  },
  {
   "cell_type": "code",
   "execution_count": 15,
   "metadata": {},
   "outputs": [
    {
     "data": {
      "text/plain": [
       "array([[[[ 6.75710155e-01+0.j,  0.00000000e+00+0.j,\n",
       "           1.39486891e-16+0.j,  0.00000000e+00+0.j],\n",
       "         [ 0.00000000e+00+0.j,  0.00000000e+00+0.j,\n",
       "           0.00000000e+00+0.j,  0.00000000e+00+0.j],\n",
       "         [ 1.09338783e-16+0.j,  0.00000000e+00+0.j,\n",
       "           1.80931200e-01+0.j,  0.00000000e+00+0.j],\n",
       "         [ 0.00000000e+00+0.j,  0.00000000e+00+0.j,\n",
       "           0.00000000e+00+0.j,  0.00000000e+00+0.j]],\n",
       "\n",
       "        [[ 0.00000000e+00+0.j,  0.00000000e+00+0.j,\n",
       "           0.00000000e+00+0.j,  0.00000000e+00+0.j],\n",
       "         [ 6.75710155e-01+0.j,  0.00000000e+00+0.j,\n",
       "           1.39486891e-16+0.j,  0.00000000e+00+0.j],\n",
       "         [ 0.00000000e+00+0.j,  0.00000000e+00+0.j,\n",
       "           0.00000000e+00+0.j,  0.00000000e+00+0.j],\n",
       "         [ 1.09338783e-16+0.j,  0.00000000e+00+0.j,\n",
       "           1.80931200e-01+0.j,  0.00000000e+00+0.j]],\n",
       "\n",
       "        [[ 1.09338783e-16+0.j,  0.00000000e+00+0.j,\n",
       "           1.80931200e-01+0.j,  0.00000000e+00+0.j],\n",
       "         [ 0.00000000e+00+0.j,  0.00000000e+00+0.j,\n",
       "           0.00000000e+00+0.j,  0.00000000e+00+0.j],\n",
       "         [ 6.64581730e-01+0.j,  0.00000000e+00+0.j,\n",
       "          -1.03094037e-16+0.j,  0.00000000e+00+0.j],\n",
       "         [ 0.00000000e+00+0.j,  0.00000000e+00+0.j,\n",
       "           0.00000000e+00+0.j,  0.00000000e+00+0.j]],\n",
       "\n",
       "        [[ 0.00000000e+00+0.j,  0.00000000e+00+0.j,\n",
       "           0.00000000e+00+0.j,  0.00000000e+00+0.j],\n",
       "         [ 1.09338783e-16+0.j,  0.00000000e+00+0.j,\n",
       "           1.80931200e-01+0.j,  0.00000000e+00+0.j],\n",
       "         [ 0.00000000e+00+0.j,  0.00000000e+00+0.j,\n",
       "           0.00000000e+00+0.j,  0.00000000e+00+0.j],\n",
       "         [ 6.64581730e-01+0.j,  0.00000000e+00+0.j,\n",
       "          -1.03094037e-16+0.j,  0.00000000e+00+0.j]]],\n",
       "\n",
       "\n",
       "       [[[ 0.00000000e+00+0.j,  6.75710155e-01+0.j,\n",
       "           0.00000000e+00+0.j,  1.39486891e-16+0.j],\n",
       "         [ 0.00000000e+00+0.j,  0.00000000e+00+0.j,\n",
       "           0.00000000e+00+0.j,  0.00000000e+00+0.j],\n",
       "         [ 0.00000000e+00+0.j,  1.09338783e-16+0.j,\n",
       "           0.00000000e+00+0.j,  1.80931200e-01+0.j],\n",
       "         [ 0.00000000e+00+0.j,  0.00000000e+00+0.j,\n",
       "           0.00000000e+00+0.j,  0.00000000e+00+0.j]],\n",
       "\n",
       "        [[ 0.00000000e+00+0.j,  0.00000000e+00+0.j,\n",
       "           0.00000000e+00+0.j,  0.00000000e+00+0.j],\n",
       "         [ 0.00000000e+00+0.j,  6.75710155e-01+0.j,\n",
       "           0.00000000e+00+0.j,  1.39486891e-16+0.j],\n",
       "         [ 0.00000000e+00+0.j,  0.00000000e+00+0.j,\n",
       "           0.00000000e+00+0.j,  0.00000000e+00+0.j],\n",
       "         [ 0.00000000e+00+0.j,  1.09338783e-16+0.j,\n",
       "           0.00000000e+00+0.j,  1.80931200e-01+0.j]],\n",
       "\n",
       "        [[ 0.00000000e+00+0.j,  1.09338783e-16+0.j,\n",
       "           0.00000000e+00+0.j,  1.80931200e-01+0.j],\n",
       "         [ 0.00000000e+00+0.j,  0.00000000e+00+0.j,\n",
       "           0.00000000e+00+0.j,  0.00000000e+00+0.j],\n",
       "         [ 0.00000000e+00+0.j,  6.64581730e-01+0.j,\n",
       "           0.00000000e+00+0.j, -1.03094037e-16+0.j],\n",
       "         [ 0.00000000e+00+0.j,  0.00000000e+00+0.j,\n",
       "           0.00000000e+00+0.j,  0.00000000e+00+0.j]],\n",
       "\n",
       "        [[ 0.00000000e+00+0.j,  0.00000000e+00+0.j,\n",
       "           0.00000000e+00+0.j,  0.00000000e+00+0.j],\n",
       "         [ 0.00000000e+00+0.j,  1.09338783e-16+0.j,\n",
       "           0.00000000e+00+0.j,  1.80931200e-01+0.j],\n",
       "         [ 0.00000000e+00+0.j,  0.00000000e+00+0.j,\n",
       "           0.00000000e+00+0.j,  0.00000000e+00+0.j],\n",
       "         [ 0.00000000e+00+0.j,  6.64581730e-01+0.j,\n",
       "           0.00000000e+00+0.j, -1.03094037e-16+0.j]]],\n",
       "\n",
       "\n",
       "       [[[ 1.39486891e-16+0.j,  0.00000000e+00+0.j,\n",
       "           6.64581730e-01+0.j,  0.00000000e+00+0.j],\n",
       "         [ 0.00000000e+00+0.j,  0.00000000e+00+0.j,\n",
       "           0.00000000e+00+0.j,  0.00000000e+00+0.j],\n",
       "         [ 1.80931200e-01+0.j,  0.00000000e+00+0.j,\n",
       "           2.57172666e-16+0.j,  0.00000000e+00+0.j],\n",
       "         [ 0.00000000e+00+0.j,  0.00000000e+00+0.j,\n",
       "           0.00000000e+00+0.j,  0.00000000e+00+0.j]],\n",
       "\n",
       "        [[ 0.00000000e+00+0.j,  0.00000000e+00+0.j,\n",
       "           0.00000000e+00+0.j,  0.00000000e+00+0.j],\n",
       "         [ 1.39486891e-16+0.j,  0.00000000e+00+0.j,\n",
       "           6.64581730e-01+0.j,  0.00000000e+00+0.j],\n",
       "         [ 0.00000000e+00+0.j,  0.00000000e+00+0.j,\n",
       "           0.00000000e+00+0.j,  0.00000000e+00+0.j],\n",
       "         [ 1.80931200e-01+0.j,  0.00000000e+00+0.j,\n",
       "           2.57172666e-16+0.j,  0.00000000e+00+0.j]],\n",
       "\n",
       "        [[ 1.80931200e-01+0.j,  0.00000000e+00+0.j,\n",
       "           2.57172666e-16+0.j,  0.00000000e+00+0.j],\n",
       "         [ 0.00000000e+00+0.j,  0.00000000e+00+0.j,\n",
       "           0.00000000e+00+0.j,  0.00000000e+00+0.j],\n",
       "         [-1.03094037e-16+0.j,  0.00000000e+00+0.j,\n",
       "           6.98573723e-01+0.j,  0.00000000e+00+0.j],\n",
       "         [ 0.00000000e+00+0.j,  0.00000000e+00+0.j,\n",
       "           0.00000000e+00+0.j,  0.00000000e+00+0.j]],\n",
       "\n",
       "        [[ 0.00000000e+00+0.j,  0.00000000e+00+0.j,\n",
       "           0.00000000e+00+0.j,  0.00000000e+00+0.j],\n",
       "         [ 1.80931200e-01+0.j,  0.00000000e+00+0.j,\n",
       "           2.57172666e-16+0.j,  0.00000000e+00+0.j],\n",
       "         [ 0.00000000e+00+0.j,  0.00000000e+00+0.j,\n",
       "           0.00000000e+00+0.j,  0.00000000e+00+0.j],\n",
       "         [-1.03094037e-16+0.j,  0.00000000e+00+0.j,\n",
       "           6.98573723e-01+0.j,  0.00000000e+00+0.j]]],\n",
       "\n",
       "\n",
       "       [[[ 0.00000000e+00+0.j,  1.39486891e-16+0.j,\n",
       "           0.00000000e+00+0.j,  6.64581730e-01+0.j],\n",
       "         [ 0.00000000e+00+0.j,  0.00000000e+00+0.j,\n",
       "           0.00000000e+00+0.j,  0.00000000e+00+0.j],\n",
       "         [ 0.00000000e+00+0.j,  1.80931200e-01+0.j,\n",
       "           0.00000000e+00+0.j,  2.57172666e-16+0.j],\n",
       "         [ 0.00000000e+00+0.j,  0.00000000e+00+0.j,\n",
       "           0.00000000e+00+0.j,  0.00000000e+00+0.j]],\n",
       "\n",
       "        [[ 0.00000000e+00+0.j,  0.00000000e+00+0.j,\n",
       "           0.00000000e+00+0.j,  0.00000000e+00+0.j],\n",
       "         [ 0.00000000e+00+0.j,  1.39486891e-16+0.j,\n",
       "           0.00000000e+00+0.j,  6.64581730e-01+0.j],\n",
       "         [ 0.00000000e+00+0.j,  0.00000000e+00+0.j,\n",
       "           0.00000000e+00+0.j,  0.00000000e+00+0.j],\n",
       "         [ 0.00000000e+00+0.j,  1.80931200e-01+0.j,\n",
       "           0.00000000e+00+0.j,  2.57172666e-16+0.j]],\n",
       "\n",
       "        [[ 0.00000000e+00+0.j,  1.80931200e-01+0.j,\n",
       "           0.00000000e+00+0.j,  2.57172666e-16+0.j],\n",
       "         [ 0.00000000e+00+0.j,  0.00000000e+00+0.j,\n",
       "           0.00000000e+00+0.j,  0.00000000e+00+0.j],\n",
       "         [ 0.00000000e+00+0.j, -1.03094037e-16+0.j,\n",
       "           0.00000000e+00+0.j,  6.98573723e-01+0.j],\n",
       "         [ 0.00000000e+00+0.j,  0.00000000e+00+0.j,\n",
       "           0.00000000e+00+0.j,  0.00000000e+00+0.j]],\n",
       "\n",
       "        [[ 0.00000000e+00+0.j,  0.00000000e+00+0.j,\n",
       "           0.00000000e+00+0.j,  0.00000000e+00+0.j],\n",
       "         [ 0.00000000e+00+0.j,  1.80931200e-01+0.j,\n",
       "           0.00000000e+00+0.j,  2.57172666e-16+0.j],\n",
       "         [ 0.00000000e+00+0.j,  0.00000000e+00+0.j,\n",
       "           0.00000000e+00+0.j,  0.00000000e+00+0.j],\n",
       "         [ 0.00000000e+00+0.j, -1.03094037e-16+0.j,\n",
       "           0.00000000e+00+0.j,  6.98573723e-01+0.j]]]])"
      ]
     },
     "execution_count": 15,
     "metadata": {},
     "output_type": "execute_result"
    }
   ],
   "source": [
    "mo_2e_int"
   ]
  }
 ],
 "metadata": {
  "kernelspec": {
   "display_name": "tfg_env",
   "language": "python",
   "name": "python3"
  },
  "language_info": {
   "codemirror_mode": {
    "name": "ipython",
    "version": 3
   },
   "file_extension": ".py",
   "mimetype": "text/x-python",
   "name": "python",
   "nbconvert_exporter": "python",
   "pygments_lexer": "ipython3",
   "version": "3.10.12"
  }
 },
 "nbformat": 4,
 "nbformat_minor": 2
}

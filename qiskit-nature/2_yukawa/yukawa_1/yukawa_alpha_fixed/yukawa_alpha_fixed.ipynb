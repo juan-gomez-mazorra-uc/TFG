{
 "cells": [
  {
   "cell_type": "markdown",
   "metadata": {},
   "source": [
    "### Yukawa"
   ]
  },
  {
   "cell_type": "code",
   "execution_count": 1,
   "metadata": {},
   "outputs": [],
   "source": [
    "import os\n",
    "import csv\n",
    "import sympy as sp\n",
    "import numpy as np\n",
    "import matplotlib.pyplot as plt\n",
    "from qiskit_algorithms import VQE\n",
    "from qiskit_algorithms.utils import algorithm_globals\n",
    "from qiskit_algorithms.optimizers import COBYLA, SLSQP, SPSA\n",
    "from qiskit_nature.second_q.mappers import JordanWignerMapper\n",
    "from qiskit_aer.primitives import Estimator as AerEstimator\n",
    "from qiskit_nature.second_q.hamiltonians import ElectronicEnergy\n",
    "from qiskit_nature.second_q.circuit.library import HartreeFock, UCCSD"
   ]
  },
  {
   "cell_type": "code",
   "execution_count": 2,
   "metadata": {},
   "outputs": [],
   "source": [
    "optimizer = COBYLA\n",
    "optimizer_str = 'COBYLA'\n",
    "N = 3\n",
    "alpha = 1.2"
   ]
  },
  {
   "cell_type": "markdown",
   "metadata": {},
   "source": [
    "##### Functions"
   ]
  },
  {
   "cell_type": "code",
   "execution_count": 3,
   "metadata": {},
   "outputs": [],
   "source": [
    "x = sp.Symbol('x')\n",
    "r = sp.Symbol('r')\n",
    "\n",
    "# Página 338\n",
    "def laguerre(j, x):\n",
    "    f = sp.exp(-x) * x**j\n",
    "    for n in range(j):\n",
    "        f = sp.diff(f, x)\n",
    "\n",
    "    f = sp.exp(x) * f\n",
    "\n",
    "    globals()[f'L_{j}'] = f\n",
    "\n",
    "    return sp.simplify(globals()[f'L_{j}'])\n",
    "\n",
    "# Página 339\n",
    "def laguerre_associated(n, l, Z):\n",
    "    j = n-l-1\n",
    "    k = 2*l+1\n",
    "\n",
    "    f = laguerre(j+k, x)\n",
    "\n",
    "    for i in range(k):\n",
    "        f = sp.diff(f, x)\n",
    "\n",
    "    globals()[f'L_{j}^{k}'] = (-1)**k * f\n",
    "    return globals()[f'L_{j}^{k}'].subs(x, 2*r*Z/n)\n",
    "\n",
    "# Página 347\n",
    "def radial_wavefunction(n, l, Z):\n",
    "    \"\"\"\n",
    "    Calcula la función de onda radial para un estado dado (n, l) en un átomo con número atómico Z.\n",
    "    \n",
    "    Parámetros:\n",
    "        n (int): Número cuántico principal.\n",
    "        l (int): Número cuántico azimutal.\n",
    "        Z (float): Número atómico (número de protones en el núcleo).\n",
    "    \n",
    "    Retorna:\n",
    "        La función de onda radial.\n",
    "    \"\"\"\n",
    "    \n",
    "    # Polinomio de Laguerre generalizado\n",
    "    laguerre_poly = laguerre_associated(n, l, Z)\n",
    "    \n",
    "    # Factor de normalización\n",
    "    normalization_factor = sp.sqrt((2*Z/n)**3 * sp.factorial(n-l-1) / (2*n*sp.factorial(n+l)**3))\n",
    "    \n",
    "    # Exponencial\n",
    "    exponential = sp.exp(-Z*r/n)\n",
    "    \n",
    "    # Función de onda radial\n",
    "    radial_wavefunction = normalization_factor * exponential * (2*r*Z/n)**l * laguerre_poly\n",
    "    \n",
    "    return radial_wavefunction"
   ]
  },
  {
   "cell_type": "markdown",
   "metadata": {},
   "source": [
    "https://qiskit-community.github.io/qiskit-nature/stubs/qiskit_nature.second_q.hamiltonians.ElectronicEnergy.html"
   ]
  },
  {
   "cell_type": "code",
   "execution_count": 4,
   "metadata": {},
   "outputs": [],
   "source": [
    "def hamiltonian_alpha(alpha = 0, N = 3, l = 0):\n",
    "    h_pq = []\n",
    "\n",
    "    for i in range(1, N+1):\n",
    "        h_pq.append([])\n",
    "        for j in range(1, N+1):\n",
    "            globals()[f'h_{i}{j}'] = -1/2 * sp.integrate(globals()[f'u_{i}0']*globals()[f'dd_u_{j}0'], (r, 0, sp.oo)) \\\n",
    "                                    - sp.integrate(globals()[f'u_{i}0']*globals()[f'u_{j}0'] * Z*sp.exp(-alpha*r)/r, (r, 0, sp.oo))\n",
    "            h_pq[i-1].append(globals()[f'h_{i}{j}'])\n",
    "\n",
    "    size = len(h_pq)\n",
    "    h1_a = np.array(h_pq, dtype=float)\n",
    "    h2_aa = np.zeros((size, size, size, size))\n",
    "    hamiltonian = ElectronicEnergy.from_raw_integrals(h1_a, h2_aa)\n",
    "    \n",
    "    return hamiltonian"
   ]
  },
  {
   "cell_type": "code",
   "execution_count": 5,
   "metadata": {},
   "outputs": [],
   "source": [
    "def save_csv(folder, name, data):\n",
    "    alphas = data[0]\n",
    "    energies = data[1]\n",
    "\n",
    "    if not os.path.exists(folder):\n",
    "        os.makedirs(folder)\n",
    "\n",
    "    nombre_archivo = f'{name}.csv'\n",
    "    ruta_archivo = os.path.join(folder, nombre_archivo)\n",
    "\n",
    "    with open(ruta_archivo, mode='w', newline='') as archivo_csv:\n",
    "        escritor_csv = csv.writer(archivo_csv)\n",
    "        escritor_csv.writerow(['alpha', 'energy'])\n",
    "        for x, y in zip(alphas, energies):\n",
    "            escritor_csv.writerow([x, y])"
   ]
  },
  {
   "cell_type": "markdown",
   "metadata": {},
   "source": [
    "##### The Radial Wavefunction Solutions"
   ]
  },
  {
   "cell_type": "code",
   "execution_count": 6,
   "metadata": {},
   "outputs": [],
   "source": [
    "Z = 1\n",
    "n_max = 8\n",
    "r = sp.Symbol('r')\n",
    "\n",
    "for n in range(1, n_max+1):\n",
    "    for l in range(n):\n",
    "        globals()[f'u_{n}{l}'] = r * radial_wavefunction(n, l, Z)\n",
    "        globals()[f'dd_u_{n}{l}'] = sp.diff(globals()[f'u_{n}{l}'], r, r)"
   ]
  },
  {
   "cell_type": "markdown",
   "metadata": {},
   "source": [
    "##### Barrido de alpha"
   ]
  },
  {
   "cell_type": "code",
   "execution_count": 7,
   "metadata": {},
   "outputs": [],
   "source": [
    "alphas = np.linspace(alpha, alpha, 50)\n",
    "shots = [16, 128, 1024, 16384]\n",
    "\n",
    "for shot in shots:\n",
    "    energies = []\n",
    "\n",
    "    hamiltonian = hamiltonian_alpha(0, N)\n",
    "\n",
    "    mapper = JordanWignerMapper()\n",
    "    fermionic_op = hamiltonian.second_q_op()\n",
    "    qubit_op = mapper.map(fermionic_op)\n",
    "\n",
    "    num_spatial_orbitals = int(fermionic_op.num_spin_orbitals/2)\n",
    "    # The tuple of the number of alpha- and beta-spin particles\n",
    "    num_particles = (1, 0)\n",
    "\n",
    "    ansatz = UCCSD(\n",
    "        num_spatial_orbitals,\n",
    "        num_particles,\n",
    "        mapper,\n",
    "        initial_state=HartreeFock(\n",
    "            num_spatial_orbitals,\n",
    "            num_particles,\n",
    "            mapper,\n",
    "        ),\n",
    "    )\n",
    "\n",
    "    # seed = 170\n",
    "    # algorithm_globals.random_seed = seed\n",
    "\n",
    "    noiseless_estimator = AerEstimator(\n",
    "        run_options={\"shots\": shot}\n",
    "    )\n",
    "\n",
    "    vqe_solver = VQE(noiseless_estimator, ansatz, optimizer(maxiter=100))\n",
    "    vqe_solver.initial_point = np.zeros(ansatz.num_parameters)\n",
    "\n",
    "    for alpha in alphas:\n",
    "        hamiltonian = hamiltonian_alpha(alpha, N)\n",
    "\n",
    "        mapper = JordanWignerMapper()\n",
    "        fermionic_op = hamiltonian.second_q_op()\n",
    "        qubit_op = mapper.map(fermionic_op)\n",
    "        \n",
    "        eigenvalue = vqe_solver.compute_minimum_eigenvalue(operator=qubit_op).eigenvalue\n",
    "        energies.append(eigenvalue)\n",
    "\n",
    "    save_csv(f'results_{optimizer_str}_{alpha}', f'shots={shot}', [alphas, energies])"
   ]
  }
 ],
 "metadata": {
  "kernelspec": {
   "display_name": "tfg_env",
   "language": "python",
   "name": "python3"
  },
  "language_info": {
   "codemirror_mode": {
    "name": "ipython",
    "version": 3
   },
   "file_extension": ".py",
   "mimetype": "text/x-python",
   "name": "python",
   "nbconvert_exporter": "python",
   "pygments_lexer": "ipython3",
   "version": "3.10.12"
  }
 },
 "nbformat": 4,
 "nbformat_minor": 2
}

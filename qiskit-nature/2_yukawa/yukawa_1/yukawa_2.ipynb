{
 "cells": [
  {
   "cell_type": "markdown",
   "metadata": {},
   "source": [
    "### The Radial Wavefunction Solutions\n",
    "https://phys.libretexts.org/Bookshelves/Quantum_Mechanics/Quantum_Mechanics_III_(Chong)/04%3A_Identical_Particles/4.03%3A_Second_Quantization\n",
    "\n",
    "https://quantummechanics.ucsd.edu/ph130a/130_notes/node233.html\n",
    "\n",
    "https://galileo.phys.virginia.edu/classes/751.mf1i.fall02/HydrogenAtom.htm (no lo he usado)\n",
    "\n",
    "https://faculty.washington.edu/seattle/physics227/reading/reading-26-27.pdf\n",
    "\n",
    "https://www.researchgate.net/figure/Result-of-the-function-of-radial-wave-of-a-hydrogen-atom-for-i-i-4-and-5_tbl1_332921781\n",
    "\n",
    "https://arxiv.org/pdf/2008.02946.pdf (no lo he usado)\n"
   ]
  },
  {
   "cell_type": "markdown",
   "metadata": {},
   "source": [
    "### Polinomios de Laguerre\n",
    "\n",
    "https://faculty.washington.edu/seattle/physics227/reading/reading-26-27.pdf"
   ]
  },
  {
   "cell_type": "code",
   "execution_count": 2,
   "metadata": {},
   "outputs": [],
   "source": [
    "import sympy as sp\n",
    "\n",
    "x = sp.Symbol('x')\n",
    "r = sp.Symbol('r')\n",
    "\n",
    "# Página 338\n",
    "def laguerre(j, x):\n",
    "    f = sp.exp(-x) * x**j\n",
    "    for n in range(j):\n",
    "        f = sp.diff(f, x)\n",
    "\n",
    "    f = sp.exp(x) * f\n",
    "\n",
    "    globals()[f'L_{j}'] = f\n",
    "\n",
    "    return sp.simplify(globals()[f'L_{j}'])\n",
    "\n",
    "# Página 339\n",
    "def laguerre_associated(n, l, Z):\n",
    "    j = n-l-1\n",
    "    k = 2*l+1\n",
    "\n",
    "    f = laguerre(j+k, x)\n",
    "\n",
    "    for i in range(k):\n",
    "        f = sp.diff(f, x)\n",
    "\n",
    "    globals()[f'L_{j}^{k}'] = (-1)**k * f\n",
    "    return globals()[f'L_{j}^{k}'].subs(x, 2*r*Z/n)"
   ]
  },
  {
   "cell_type": "code",
   "execution_count": 3,
   "metadata": {},
   "outputs": [],
   "source": [
    "# Página 347\n",
    "def radial_wavefunction(n, l, Z):\n",
    "    \"\"\"\n",
    "    Calcula la función de onda radial para un estado dado (n, l) en un átomo con número atómico Z.\n",
    "    \n",
    "    Parámetros:\n",
    "        n (int): Número cuántico principal.\n",
    "        l (int): Número cuántico azimutal.\n",
    "        Z (float): Número atómico (número de protones en el núcleo).\n",
    "    \n",
    "    Retorna:\n",
    "        La función de onda radial.\n",
    "    \"\"\"\n",
    "    \n",
    "    # Polinomio de Laguerre generalizado\n",
    "    laguerre_poly = laguerre_associated(n, l, Z)\n",
    "    \n",
    "    # Factor de normalización\n",
    "    normalization_factor = sp.sqrt((2*Z/n)**3 * sp.factorial(n-l-1) / (2*n*sp.factorial(n+l)**3))\n",
    "    \n",
    "    # Exponencial\n",
    "    exponential = sp.exp(-Z*r/n)\n",
    "    \n",
    "    # Función de onda radial\n",
    "    radial_wavefunction = normalization_factor * exponential * (2*r*Z/n)**l * laguerre_poly\n",
    "    \n",
    "    return radial_wavefunction"
   ]
  },
  {
   "cell_type": "code",
   "execution_count": 4,
   "metadata": {},
   "outputs": [],
   "source": [
    "n_max = 10\n",
    "Z = 1\n",
    "\n",
    "for n in range(1, n_max+1):\n",
    "    for l in range(n):\n",
    "        globals()[f'u_{n}{l}'] = r * radial_wavefunction(n, l, Z)\n",
    "        globals()[f'dd_u_{n}{l}'] = sp.diff(globals()[f'u_{n}{l}'], r, r)"
   ]
  },
  {
   "cell_type": "code",
   "execution_count": 127,
   "metadata": {},
   "outputs": [],
   "source": [
    "alpha = 0\n",
    "\n",
    "n_max = 5\n",
    "l = 0\n",
    "\n",
    "h_pq = []\n",
    "\n",
    "for i in range(1, n_max+1):\n",
    "    h_pq.append([])\n",
    "    for j in range(1, n_max+1):\n",
    "        globals()[f'h_{i}{j}'] = -1/2 * sp.integrate(globals()[f'u_{i}0']*globals()[f'dd_u_{j}0'], (r, 0, sp.oo)) \\\n",
    "                                 - sp.integrate(globals()[f'u_{i}0']*globals()[f'u_{j}0'] * Z*sp.exp(-alpha*r)/r, (r, 0, sp.oo))\n",
    "        h_pq[i-1].append(globals()[f'h_{i}{j}'])"
   ]
  },
  {
   "cell_type": "code",
   "execution_count": 128,
   "metadata": {},
   "outputs": [
    {
     "data": {
      "text/latex": [
       "$\\displaystyle \\left[\\begin{matrix}-0.5 & 0 & 5.55111512312578 \\cdot 10^{-17} & 2.77555756156289 \\cdot 10^{-17} & -9.0205620750794 \\cdot 10^{-17}\\\\5.55111512312578 \\cdot 10^{-17} & -0.125 & -6.10622663543836 \\cdot 10^{-16} & 7.7715611723761 \\cdot 10^{-16} & -3.88578058618805 \\cdot 10^{-16}\\\\0 & -3.88578058618805 \\cdot 10^{-16} & -0.0555555555555558 & 1.16573417585641 \\cdot 10^{-15} & -5.10702591327572 \\cdot 10^{-15}\\\\-1.66533453693773 \\cdot 10^{-16} & 5.55111512312578 \\cdot 10^{-17} & -2.72004641033163 \\cdot 10^{-15} & -0.03125 & 1.19904086659517 \\cdot 10^{-14}\\\\2.77555756156289 \\cdot 10^{-17} & 8.88178419700125 \\cdot 10^{-16} & 1.99840144432528 \\cdot 10^{-15} & 1.4210854715202 \\cdot 10^{-14} & -0.0200000000000253\\end{matrix}\\right]$"
      ],
      "text/plain": [
       "Matrix([\n",
       "[                 -0.5,                     0,  5.55111512312578e-17, 2.77555756156289e-17,  -9.0205620750794e-17],\n",
       "[ 5.55111512312578e-17,                -0.125, -6.10622663543836e-16,  7.7715611723761e-16, -3.88578058618805e-16],\n",
       "[                    0, -3.88578058618805e-16,   -0.0555555555555558, 1.16573417585641e-15, -5.10702591327572e-15],\n",
       "[-1.66533453693773e-16,  5.55111512312578e-17, -2.72004641033163e-15,             -0.03125,  1.19904086659517e-14],\n",
       "[ 2.77555756156289e-17,  8.88178419700125e-16,  1.99840144432528e-15,  1.4210854715202e-14,   -0.0200000000000253]])"
      ]
     },
     "metadata": {},
     "output_type": "display_data"
    }
   ],
   "source": [
    "h_pq_matrix = sp.Matrix(h_pq)\n",
    "display(h_pq_matrix)"
   ]
  },
  {
   "cell_type": "markdown",
   "metadata": {},
   "source": [
    "### The electronic energy Hamiltonian"
   ]
  },
  {
   "cell_type": "markdown",
   "metadata": {},
   "source": [
    "https://qiskit-community.github.io/qiskit-nature/stubs/qiskit_nature.second_q.hamiltonians.ElectronicEnergy.html"
   ]
  },
  {
   "cell_type": "code",
   "execution_count": 17,
   "metadata": {},
   "outputs": [],
   "source": [
    "import numpy as np\n",
    "from qiskit_nature.second_q.hamiltonians import ElectronicEnergy\n",
    "\n",
    "size = len(h_pq)\n",
    "h1_a = np.array(h_pq, dtype=float)\n",
    "h2_aa = np.zeros((size, size, size, size))\n",
    "hamiltonian = ElectronicEnergy.from_raw_integrals(h1_a, h2_aa)"
   ]
  },
  {
   "cell_type": "markdown",
   "metadata": {},
   "source": [
    "https://qiskit-community.github.io/qiskit-nature/howtos/vqe_ucc.html"
   ]
  },
  {
   "cell_type": "code",
   "execution_count": 69,
   "metadata": {},
   "outputs": [
    {
     "name": "stdout",
     "output_type": "stream",
     "text": [
      "-0.500000244873663\n",
      "-0.5000000000014178\n",
      "-0.5000000019776109\n",
      "-0.4999999991510124\n",
      "-0.500000039862419\n",
      "-0.5000001397916265\n",
      "-0.5000001768398277\n",
      "-0.5000002152066866\n",
      "-0.5000000003129534\n",
      "-0.5000000226401884\n"
     ]
    }
   ],
   "source": [
    "from qiskit_algorithms import VQE\n",
    "from qiskit.primitives import Estimator\n",
    "from qiskit_algorithms.optimizers import SLSQP\n",
    "from qiskit_nature.second_q.mappers import JordanWignerMapper\n",
    "from qiskit_nature.second_q.circuit.library import HartreeFock, UCCSD\n",
    "\n",
    "mapper = JordanWignerMapper()\n",
    "fermionic_op = hamiltonian.second_q_op()\n",
    "qubit_op = mapper.map(fermionic_op)\n",
    "\n",
    "num_spatial_orbitals = int(fermionic_op.num_spin_orbitals/2)\n",
    "# The tuple of the number of alpha- and beta-spin particles\n",
    "num_particles = (1, 0)\n",
    "\n",
    "ansatz = UCCSD(\n",
    "    num_spatial_orbitals,\n",
    "    num_particles,\n",
    "    mapper,\n",
    "    initial_state=HartreeFock(\n",
    "        num_spatial_orbitals,\n",
    "        num_particles,\n",
    "        mapper,\n",
    "    ),\n",
    ")\n",
    "\n",
    "\"\"\"\n",
    "Muy importante.\n",
    "\n",
    "Now comes the key step: choosing the initial point. Since we picked the HartreeFock initial state\n",
    "before, in order to ensure we start from that, we need to initialize our initial_point with all-zero\n",
    "parameters.\n",
    "\n",
    "https://qiskit-community.github.io/qiskit-nature/howtos/vqe_ucc.html\n",
    "\"\"\"\n",
    "\n",
    "vqe_solver = VQE(Estimator(options={'shots': 2**20}), ansatz, SLSQP())\n",
    "for i in range(10):\n",
    "    vqe_solver.initial_point = np.zeros(ansatz.num_parameters)\n",
    "    result_vqe = vqe_solver.compute_minimum_eigenvalue(operator=qubit_op)\n",
    "    print(result_vqe.eigenvalue)"
   ]
  },
  {
   "cell_type": "markdown",
   "metadata": {},
   "source": [
    "Con un número elevado de estados obtengo diferentes medidas para un mismo hamiltoniano\n",
    "\n",
    "-0.12499999999947112\n",
    "\n",
    "-0.12499999991149256\n",
    "\n",
    "-0.49999990890094564\n",
    "\n",
    "-0.4999999698305702\n",
    "\n",
    "-0.12499999991211945\n",
    "\n",
    "-0.12499999856306113\n",
    "\n",
    "-0.49999993348841093\n",
    "\n",
    "-0.12499999939637904\n",
    "\n",
    "-0.4999999901059175\n",
    "\n",
    "-0.4999999675014543\n",
    "\n",
    "Puede que se arregle metiendo más shots"
   ]
  },
  {
   "cell_type": "markdown",
   "metadata": {},
   "source": [
    "### Diferencia entre los diferentes Estimators\n",
    "\n",
    "https://quantumcomputing.stackexchange.com/questions/32667/what-are-the-differences-between-the-two-estimator-in-the-qiskit"
   ]
  },
  {
   "cell_type": "code",
   "execution_count": 133,
   "metadata": {},
   "outputs": [
    {
     "name": "stdout",
     "output_type": "stream",
     "text": [
      "-0.5000000000000001\n",
      "-0.5000000000000001\n",
      "-0.4044426812065973\n",
      "-0.5000000000000001\n",
      "-0.5000000000000001\n",
      "-0.5000000000000001\n",
      "-0.5000000000000001\n",
      "-0.5000000000000001\n",
      "-0.5000000000000001\n",
      "-0.125\n"
     ]
    }
   ],
   "source": [
    "from qiskit_algorithms import VQE\n",
    "from qiskit_algorithms.optimizers import SPSA\n",
    "from qiskit_algorithms.utils import algorithm_globals\n",
    "from qiskit_aer.primitives import Estimator as AerEstimator\n",
    "from qiskit_nature.second_q.mappers import JordanWignerMapper\n",
    "from qiskit_nature.second_q.circuit.library import HartreeFock, UCCSD\n",
    "\n",
    "mapper = JordanWignerMapper()\n",
    "fermionic_op = hamiltonian.second_q_op()\n",
    "qubit_op = mapper.map(fermionic_op)\n",
    "\n",
    "num_spatial_orbitals = int(fermionic_op.num_spin_orbitals/2)\n",
    "# The tuple of the number of alpha- and beta-spin particles\n",
    "num_particles = (1, 0)\n",
    "\n",
    "ansatz = UCCSD(\n",
    "    num_spatial_orbitals,\n",
    "    num_particles,\n",
    "    mapper,\n",
    "    initial_state=HartreeFock(\n",
    "        num_spatial_orbitals,\n",
    "        num_particles,\n",
    "        mapper,\n",
    "    ),\n",
    ")\n",
    "\n",
    "\"\"\"\n",
    "Now comes the key step: choosing the initial point. Since we picked the HartreeFock initial state\n",
    "before, in order to ensure we start from that, we need to initialize our initial_point with all-zero\n",
    "parameters.\n",
    "\n",
    "https://qiskit-community.github.io/qiskit-nature/howtos/vqe_ucc.html\n",
    "\n",
    "Porque aquí si no lo uso no falla?\n",
    "\"\"\"\n",
    "\n",
    "seed = 170\n",
    "algorithm_globals.random_seed = seed\n",
    "\n",
    "noiseless_estimator = AerEstimator(\n",
    "    run_options={\"seed\": seed, \"shots\": 2**12},\n",
    "    transpile_options={\"seed_transpiler\": seed},\n",
    ")\n",
    "\n",
    "vqe_solver = VQE(noiseless_estimator, ansatz, SPSA(maxiter=100))\n",
    "\n",
    "for i in range(10):\n",
    "    result_vqe = vqe_solver.compute_minimum_eigenvalue(operator=qubit_op)\n",
    "    print(result_vqe.eigenvalue)"
   ]
  },
  {
   "cell_type": "code",
   "execution_count": 113,
   "metadata": {},
   "outputs": [],
   "source": [
    "result_vqe.aux_operators_evaluated"
   ]
  }
 ],
 "metadata": {
  "kernelspec": {
   "display_name": "tfg_env",
   "language": "python",
   "name": "python3"
  },
  "language_info": {
   "codemirror_mode": {
    "name": "ipython",
    "version": 3
   },
   "file_extension": ".py",
   "mimetype": "text/x-python",
   "name": "python",
   "nbconvert_exporter": "python",
   "pygments_lexer": "ipython3",
   "version": "3.10.12"
  }
 },
 "nbformat": 4,
 "nbformat_minor": 2
}

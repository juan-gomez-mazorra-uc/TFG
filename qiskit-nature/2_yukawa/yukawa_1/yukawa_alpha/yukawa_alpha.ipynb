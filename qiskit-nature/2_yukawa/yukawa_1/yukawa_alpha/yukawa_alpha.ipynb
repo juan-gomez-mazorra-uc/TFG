{
 "cells": [
  {
   "cell_type": "markdown",
   "metadata": {},
   "source": [
    "### The Radial Wavefunction Solutions\n",
    "https://phys.libretexts.org/Bookshelves/Quantum_Mechanics/Quantum_Mechanics_III_(Chong)/04%3A_Identical_Particles/4.03%3A_Second_Quantization\n",
    "\n",
    "https://quantummechanics.ucsd.edu/ph130a/130_notes/node233.html\n",
    "\n",
    "https://galileo.phys.virginia.edu/classes/751.mf1i.fall02/HydrogenAtom.htm (no lo he usado)\n",
    "\n",
    "https://faculty.washington.edu/seattle/physics227/reading/reading-26-27.pdf\n",
    "\n",
    "https://www.researchgate.net/figure/Result-of-the-function-of-radial-wave-of-a-hydrogen-atom-for-i-i-4-and-5_tbl1_332921781\n",
    "\n",
    "https://arxiv.org/pdf/2008.02946.pdf (no lo he usado)\n"
   ]
  },
  {
   "cell_type": "markdown",
   "metadata": {},
   "source": [
    "### Polinomios de Laguerre\n",
    "\n",
    "https://faculty.washington.edu/seattle/physics227/reading/reading-26-27.pdf"
   ]
  },
  {
   "cell_type": "code",
   "execution_count": 2,
   "metadata": {},
   "outputs": [],
   "source": [
    "import sympy as sp\n",
    "\n",
    "x = sp.Symbol('x')\n",
    "r = sp.Symbol('r')\n",
    "\n",
    "# Página 338\n",
    "def laguerre(j, x):\n",
    "    f = sp.exp(-x) * x**j\n",
    "    for n in range(j):\n",
    "        f = sp.diff(f, x)\n",
    "\n",
    "    f = sp.exp(x) * f\n",
    "\n",
    "    globals()[f'L_{j}'] = f\n",
    "\n",
    "    return sp.simplify(globals()[f'L_{j}'])\n",
    "\n",
    "# Página 339\n",
    "def laguerre_associated(n, l, Z):\n",
    "    j = n-l-1\n",
    "    k = 2*l+1\n",
    "\n",
    "    f = laguerre(j+k, x)\n",
    "\n",
    "    for i in range(k):\n",
    "        f = sp.diff(f, x)\n",
    "\n",
    "    globals()[f'L_{j}^{k}'] = (-1)**k * f\n",
    "    return globals()[f'L_{j}^{k}'].subs(x, 2*r*Z/n)"
   ]
  },
  {
   "cell_type": "code",
   "execution_count": 3,
   "metadata": {},
   "outputs": [],
   "source": [
    "# Página 347\n",
    "def radial_wavefunction(n, l, Z):\n",
    "    \"\"\"\n",
    "    Calcula la función de onda radial para un estado dado (n, l) en un átomo con número atómico Z.\n",
    "    \n",
    "    Parámetros:\n",
    "        n (int): Número cuántico principal.\n",
    "        l (int): Número cuántico azimutal.\n",
    "        Z (float): Número atómico (número de protones en el núcleo).\n",
    "    \n",
    "    Retorna:\n",
    "        La función de onda radial.\n",
    "    \"\"\"\n",
    "    \n",
    "    # Polinomio de Laguerre generalizado\n",
    "    laguerre_poly = laguerre_associated(n, l, Z)\n",
    "    \n",
    "    # Factor de normalización\n",
    "    normalization_factor = sp.sqrt((2*Z/n)**3 * sp.factorial(n-l-1) / (2*n*sp.factorial(n+l)**3))\n",
    "    \n",
    "    # Exponencial\n",
    "    exponential = sp.exp(-Z*r/n)\n",
    "    \n",
    "    # Función de onda radial\n",
    "    radial_wavefunction = normalization_factor * exponential * (2*r*Z/n)**l * laguerre_poly\n",
    "    \n",
    "    return radial_wavefunction"
   ]
  },
  {
   "cell_type": "code",
   "execution_count": 4,
   "metadata": {},
   "outputs": [],
   "source": [
    "n_max = 10\n",
    "Z = 1\n",
    "\n",
    "for n in range(1, n_max+1):\n",
    "    for l in range(n):\n",
    "        globals()[f'u_{n}{l}'] = r * radial_wavefunction(n, l, Z)\n",
    "        globals()[f'dd_u_{n}{l}'] = sp.diff(globals()[f'u_{n}{l}'], r, r)"
   ]
  },
  {
   "cell_type": "markdown",
   "metadata": {},
   "source": [
    "https://qiskit-community.github.io/qiskit-nature/stubs/qiskit_nature.second_q.hamiltonians.ElectronicEnergy.html"
   ]
  },
  {
   "cell_type": "code",
   "execution_count": 14,
   "metadata": {},
   "outputs": [],
   "source": [
    "import numpy as np\n",
    "from qiskit_nature.second_q.hamiltonians import ElectronicEnergy\n",
    "\n",
    "def hamiltonian_alpha(alpha = 0, N = 3, l = 0):\n",
    "    h_pq = []\n",
    "\n",
    "    for i in range(1, N+1):\n",
    "        h_pq.append([])\n",
    "        for j in range(1, N+1):\n",
    "            globals()[f'h_{i}{j}'] = -1/2 * sp.integrate(globals()[f'u_{i}0']*globals()[f'dd_u_{j}0'], (r, 0, sp.oo)) \\\n",
    "                                    - sp.integrate(globals()[f'u_{i}0']*globals()[f'u_{j}0'] * Z*sp.exp(-alpha*r)/r, (r, 0, sp.oo))\n",
    "            h_pq[i-1].append(globals()[f'h_{i}{j}'])\n",
    "\n",
    "    size = len(h_pq)\n",
    "    h1_a = np.array(h_pq, dtype=float)\n",
    "    h2_aa = np.zeros((size, size, size, size))\n",
    "    hamiltonian = ElectronicEnergy.from_raw_integrals(h1_a, h2_aa)\n",
    "    \n",
    "    return hamiltonian"
   ]
  },
  {
   "cell_type": "code",
   "execution_count": 15,
   "metadata": {},
   "outputs": [],
   "source": [
    "# h_pq_matrix = sp.Matrix(h_pq)\n",
    "# display(h_pq_matrix)"
   ]
  },
  {
   "cell_type": "code",
   "execution_count": 27,
   "metadata": {},
   "outputs": [],
   "source": [
    "from qiskit_algorithms import VQE\n",
    "from qiskit.primitives import Estimator\n",
    "from qiskit_algorithms.optimizers import SLSQP\n",
    "from qiskit_nature.second_q.mappers import JordanWignerMapper\n",
    "from qiskit_nature.second_q.circuit.library import HartreeFock, UCCSD\n",
    "\n",
    "def hamiltonian_vqe(hamiltonian, shots=2**20):\n",
    "    \n",
    "    mapper = JordanWignerMapper()\n",
    "    fermionic_op = hamiltonian.second_q_op()\n",
    "    qubit_op = mapper.map(fermionic_op)\n",
    "\n",
    "    num_spatial_orbitals = int(fermionic_op.num_spin_orbitals/2)\n",
    "    # The tuple of the number of alpha- and beta-spin particles\n",
    "    num_particles = (1, 0)\n",
    "\n",
    "    ansatz = UCCSD(\n",
    "        num_spatial_orbitals,\n",
    "        num_particles,\n",
    "        mapper,\n",
    "        initial_state=HartreeFock(\n",
    "            num_spatial_orbitals,\n",
    "            num_particles,\n",
    "            mapper,\n",
    "        ),\n",
    "    )\n",
    "\n",
    "    \"\"\"\n",
    "    Muy importante.\n",
    "\n",
    "    Now comes the key step: choosing the initial point. Since we picked the HartreeFock initial state\n",
    "    before, in order to ensure we start from that, we need to initialize our initial_point with all-zero\n",
    "    parameters.\n",
    "\n",
    "    https://qiskit-community.github.io/qiskit-nature/howtos/vqe_ucc.html\n",
    "    \"\"\"\n",
    "\n",
    "    vqe_solver = VQE(Estimator(options={'shots': shots}), ansatz, SLSQP())\n",
    "    vqe_solver.initial_point = np.zeros(ansatz.num_parameters)\n",
    "    result_vqe = vqe_solver.compute_minimum_eigenvalue(operator=qubit_op)\n",
    "    \n",
    "    return result_vqe.eigenvalue"
   ]
  },
  {
   "cell_type": "code",
   "execution_count": 38,
   "metadata": {},
   "outputs": [],
   "source": [
    "import csv\n",
    "import os\n",
    "\n",
    "def save_to_csv(name, data):\n",
    "    alphas = data[0]\n",
    "    energies = data[1]\n",
    "\n",
    "    directorio = 'results'\n",
    "    if not os.path.exists(directorio):\n",
    "        os.makedirs(directorio)\n",
    "\n",
    "    nombre_archivo = f'{name}.csv'\n",
    "    ruta_archivo = os.path.join(directorio, nombre_archivo)\n",
    "\n",
    "    with open(ruta_archivo, mode='w', newline='') as archivo_csv:\n",
    "        escritor_csv = csv.writer(archivo_csv)\n",
    "        escritor_csv.writerow(['alpha', 'energy'])\n",
    "        for x, y in zip(alphas, energies):\n",
    "            escritor_csv.writerow([x, y])"
   ]
  },
  {
   "cell_type": "markdown",
   "metadata": {},
   "source": [
    "### Barrido de alpha"
   ]
  },
  {
   "cell_type": "markdown",
   "metadata": {},
   "source": [
    "shots = None"
   ]
  },
  {
   "cell_type": "code",
   "execution_count": null,
   "metadata": {},
   "outputs": [],
   "source": [
    "import matplotlib.pyplot as plt\n",
    "\n",
    "alphas = np.linspace(0, 2, 50)\n",
    "states = np.linspace(2, 10, 9).astype(int)\n",
    "states = [9, 10]\n",
    "\n",
    "for N in states:\n",
    "    energies = []\n",
    "\n",
    "    for alpha in alphas:\n",
    "        hamiltonian = hamiltonian_alpha(alpha, N)\n",
    "        eigenvalue = hamiltonian_vqe(hamiltonian, shots=None)\n",
    "        energies.append(eigenvalue)\n",
    "\n",
    "    save_to_csv(f'N={N}', [alphas, energies])\n",
    "    plt.plot(alphas, energies, marker='', linestyle='-', label=f'N = {N}')\n",
    "\n",
    "plt.xlabel('alpha')\n",
    "plt.ylabel('Energy/Hartree')\n",
    "plt.title('Yukawa Potential')\n",
    "plt.legend()\n",
    "plt.show()"
   ]
  },
  {
   "cell_type": "code",
   "execution_count": 54,
   "metadata": {},
   "outputs": [
    {
     "data": {
      "image/png": "[encoded data removed]",
      "text/plain": [
       "<Figure size 640x480 with 1 Axes>"
      ]
     },
     "metadata": {},
     "output_type": "display_data"
    }
   ],
   "source": [
    "import os\n",
    "import csv\n",
    "\n",
    "folder = 'results'\n",
    "files = [file for file in os.listdir(folder) if file.endswith('.csv')]\n",
    "\n",
    "def ordenar_por_numero(nombre_archivo):\n",
    "    # Obtener el número del nombre del archivo\n",
    "    numero = int(nombre_archivo.split('=')[1].split('.')[0])\n",
    "    return numero\n",
    "\n",
    "files = sorted(files, key=ordenar_por_numero)\n",
    "\n",
    "for file in files:\n",
    "    alphas = []\n",
    "    energies = []\n",
    "\n",
    "    with open(f'{folder}/{file}', newline='') as csvfile:\n",
    "        reader = csv.reader(csvfile)\n",
    "        next(reader)\n",
    "\n",
    "        for row in reader:\n",
    "            alphas.append(float(row[0]))\n",
    "            energies.append(float(row[1]))\n",
    "\n",
    "    plt.plot(alphas, energies, marker='', linestyle='-', label=file.split('.')[0])\n",
    "\n",
    "energies = np.linspace(0, 0, 50).astype(int)\n",
    "plt.plot(alphas, energies, marker='', linestyle='--')\n",
    "\n",
    "plt.xlabel('α')\n",
    "plt.ylabel('Energy/Hartree')\n",
    "plt.title('Yukawa Potential')\n",
    "plt.legend()\n",
    "plt.show()"
   ]
  }
 ],
 "metadata": {
  "kernelspec": {
   "display_name": "tfg_env",
   "language": "python",
   "name": "python3"
  },
  "language_info": {
   "codemirror_mode": {
    "name": "ipython",
    "version": 3
   },
   "file_extension": ".py",
   "mimetype": "text/x-python",
   "name": "python",
   "nbconvert_exporter": "python",
   "pygments_lexer": "ipython3",
   "version": "3.10.12"
  }
 },
 "nbformat": 4,
 "nbformat_minor": 2
}
